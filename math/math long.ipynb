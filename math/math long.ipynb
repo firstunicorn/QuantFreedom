{
 "cells": [
  {
   "attachments": {},
   "cell_type": "markdown",
   "metadata": {},
   "source": [
    "https://www.math.net/percent-difference\n",
    "\n",
    "bybit profit - https://www.bybithelp.com/HelpCenterKnowledge/bybitHC_Article?language=en_US&id=000001066#c\n"
   ]
  },
  {
   "cell_type": "code",
   "execution_count": 1,
   "metadata": {},
   "outputs": [
    {
     "name": "stdout",
     "output_type": "stream",
     "text": [
      "im_usdt = 61.640600000000006 \n",
      "fee_open_usdt =  3.698436 \n",
      "liq_price_usdt =  21904.4275 \n",
      "fee_close_usdt =  3.66145164 \n",
      "cost_usdt =  69.00048764\n"
     ]
    }
   ],
   "source": [
    "# USDT Contract\n",
    "equity = 69.2028\n",
    "avail_bal = 69.2028\n",
    "usd_value = 6164.06\n",
    "order_price = 22014.50\n",
    "lev = 100\n",
    "fee = .0006\n",
    "im_usdt = usd_value / lev\n",
    "imr = 1/lev\n",
    "mmr = .005\n",
    "fee_open_usdt = usd_value * fee\n",
    "liq_price_usdt = order_price * (1 - imr + mmr)\n",
    "fee_close_usdt = usd_value * (lev - 1) / lev * fee\n",
    "cost_usdt = im_usdt + fee_open_usdt + fee_close_usdt\n",
    "print('im_usdt =', im_usdt, '\\nfee_open_usdt = ', fee_open_usdt,\n",
    "      '\\nliq_price_usdt = ', liq_price_usdt, '\\nfee_close_usdt = ',\n",
    "      fee_close_usdt, '\\ncost_usdt = ', cost_usdt)\n",
    "# price 22014.50\n",
    "# value 6164.06\n",
    "# cost 69.0005\n"
   ]
  },
  {
   "cell_type": "code",
   "execution_count": 18,
   "metadata": {},
   "outputs": [
    {
     "data": {
      "text/plain": [
       "(1.0,\n",
       " 7.727975270479133,\n",
       " -0.9999999999999998,\n",
       " -0.07727975270479133,\n",
       " 0.46367851622874795,\n",
       " 0.45904173106646046)"
      ]
     },
     "execution_count": 18,
     "metadata": {},
     "output_type": "execute_result"
    }
   ],
   "source": [
    "# USDT PnL Long\n",
    "equity = 100\n",
    "entry = 1000\n",
    "risk_pct = 1.\n",
    "account_at_risk = equity * risk_pct / 100\n",
    "sl_pct = 1.\n",
    "sl_price = entry - (entry * sl_pct / 100)\n",
    "usd_size = -account_at_risk / \\\n",
    "    (((sl_price/entry) - 1) - fee - ((sl_price * fee)/entry))\n",
    "coin_size = usd_size / entry\n",
    "long_pnl = coin_size * (sl_price - entry)\n",
    "long_fee_open = coin_size * entry * fee\n",
    "long_fee_close = coin_size * sl_price * fee\n",
    "realized_pnl = long_pnl - long_fee_open - long_fee_close\n",
    "account_at_risk, usd_size, realized_pnl, long_pnl, long_fee_open, long_fee_close\n"
   ]
  },
  {
   "cell_type": "code",
   "execution_count": 4,
   "metadata": {},
   "outputs": [
    {
     "name": "stdout",
     "output_type": "stream",
     "text": [
      "loss_no_fees = 10.0\n",
      "usd_size = 893.3357155619074\n",
      "realized_pnl = -9.999999999999991\n",
      "long_pnl_no_fees = -8.933357155619074\n",
      "long_fee_open = 0.5360014293371443\n",
      "long_fee_close = 0.5306414150437729\n"
     ]
    }
   ],
   "source": [
    "# finding usd size using order price and sl pct or sl price based on possible loss\n",
    "entry = 1000\n",
    "fee = .06\n",
    "og_size = 1000\n",
    "sl_pct = 1\n",
    "sl_price = entry - (entry * sl_pct / 100)\n",
    "loss_no_fees = og_size * (sl_pct / 100)\n",
    "usd_size = -loss_no_fees / (((sl_price/entry) - 1) - (fee / 100) -\n",
    "                            ((sl_price * (fee / 100))/entry))\n",
    "coin_size = usd_size / entry\n",
    "long_pnl_no_fees = coin_size * (sl_price - entry)\n",
    "long_fee_open = coin_size * entry * (fee / 100)\n",
    "long_fee_close = coin_size * sl_price * (fee / 100)\n",
    "realized_pnl = long_pnl_no_fees - long_fee_open - long_fee_close\n",
    "print(f'loss_no_fees = {loss_no_fees}\\n'\n",
    "      f'usd_size = {usd_size}\\n'\n",
    "      f'realized_pnl = {realized_pnl}\\n'\n",
    "      f'long_pnl_no_fees = {long_pnl_no_fees}\\n'\n",
    "      f'long_fee_open = {long_fee_open}\\n'\n",
    "      f'long_fee_close = {long_fee_close}')\n"
   ]
  },
  {
   "cell_type": "code",
   "execution_count": 3,
   "metadata": {},
   "outputs": [
    {
     "data": {
      "text/plain": [
       "(1.0,\n",
       " 89.33357155619075,\n",
       " -0.9999999999999992,\n",
       " -0.8933357155619075,\n",
       " 0.05360014293371444,\n",
       " 0.0530641415043773)"
      ]
     },
     "execution_count": 3,
     "metadata": {},
     "output_type": "execute_result"
    }
   ],
   "source": [
    "long_pnl = coin_size * (sl_price - entry)\n",
    "long_fee_open = coin_size * entry * fee\n",
    "long_fee_close = coin_size * sl_price * fee\n",
    "realized_pnl = long_pnl - long_fee_open - long_fee_close\n",
    "account_at_risk, usd_size, realized_pnl, long_pnl, long_fee_open, long_fee_close\n"
   ]
  },
  {
   "attachments": {},
   "cell_type": "markdown",
   "metadata": {},
   "source": [
    "Finding USD size based on possible losss"
   ]
  },
  {
   "cell_type": "code",
   "execution_count": 3,
   "metadata": {},
   "outputs": [
    {
     "data": {
      "text/plain": [
       "893.3357155619074"
      ]
     },
     "execution_count": 3,
     "metadata": {},
     "output_type": "execute_result"
    }
   ],
   "source": [
    "def get_usd_price(equity, risk_pct, sl_pct, fee):\n",
    "    account_at_risk = equity * risk_pct / 100\n",
    "    usd_size = -account_at_risk / \\\n",
    "        (((1-(sl_pct/100)) - 1) - fee/100 - ((1-(sl_pct/100)) * fee/100))\n",
    "    return usd_size\n",
    "get_usd_price(\n",
    "    1000,\n",
    "    1,\n",
    "    1,\n",
    "    .06\n",
    ")"
   ]
  },
  {
   "attachments": {},
   "cell_type": "markdown",
   "metadata": {},
   "source": [
    "Solving for Take Profit Price<br>\n",
    "S = USD size<br>\n",
    "E = entry or average entry<br>\n",
    "F = Fee<br>\n",
    "T = Take profit price<br>\n",
    "P = pnl<br>\n",
    "\n",
    "$$\n",
    "((\\frac{S}{E}) * ( T - E)) - ((\\frac{S}{E}) * E * F) - ((\\frac{S}{E}) * T * F) = PnL\\\\\n",
    "answer\\\\\n",
    "T = (PnL + S * F + S)*\\frac{E}{S - (S * F)}\n",
    "$$\n"
   ]
  },
  {
   "cell_type": "code",
   "execution_count": 2,
   "metadata": {},
   "outputs": [
    {
     "data": {
      "text/plain": [
       "10551.415857178155"
      ]
     },
     "execution_count": 2,
     "metadata": {},
     "output_type": "execute_result"
    }
   ],
   "source": [
    "p = 0\n",
    "s = 100000000000000\n",
    "f = .0006\n",
    "e = 10538.761750613481\n",
    "(p + s * f + s) * (e / (s - (s * f)))\n",
    "# ((p + s * f + s) / ((s/e) - ((s*f) / e)))\n"
   ]
  },
  {
   "cell_type": "code",
   "execution_count": 9,
   "metadata": {},
   "outputs": [
    {
     "data": {
      "text/plain": [
       "10551.415857178155"
      ]
     },
     "execution_count": 9,
     "metadata": {},
     "output_type": "execute_result"
    }
   ],
   "source": [
    "# Solving for moving sl to break even long ... check above to make sure even though i already did\n",
    "p = 0\n",
    "s = 1\n",
    "f = .0006\n",
    "e = 10538.761750613481\n",
    "(f * e + e) / (s - f)\n"
   ]
  },
  {
   "cell_type": "code",
   "execution_count": 1,
   "metadata": {},
   "outputs": [
    {
     "name": "stdout",
     "output_type": "stream",
     "text": [
      "profit_no_fees = 1.1378216311746028\n",
      "tp_pct = 1.4102161296778037\n",
      "usd_size = 80.68420203324183\n",
      "realized_pnl = 1.0258511769915828\n",
      "long_pnl = 1.1219990200194612\n",
      "long_fee_open = 0.047737321807933414\n",
      "long_fee_close = 0.048410521219945095\n"
     ]
    }
   ],
   "source": [
    "# finding realizied profit based on take profit price and size\n",
    "entry = 1000\n",
    "fee = .06\n",
    "usd_size = 80.68420203324183\n",
    "tp_price = 1013.602161296778 + .5\n",
    "tp_pct = (tp_price - entry) / entry * 100\n",
    "profit_no_fees = usd_size * (tp_pct / 100)\n",
    "coin_size = usd_size / tp_price\n",
    "long_pnl = coin_size * (tp_price - entry)\n",
    "long_fee_open = coin_size * entry * (fee / 100)\n",
    "long_fee_close = coin_size * tp_price * (fee / 100)\n",
    "realized_pnl = long_pnl - long_fee_open - long_fee_close\n",
    "print(f'profit_no_fees = {profit_no_fees}\\n'\n",
    "      f'tp_pct = {tp_pct}\\n'\n",
    "      f'usd_size = {usd_size}\\n'\n",
    "      f'realized_pnl = {realized_pnl}\\n'\n",
    "      f'long_pnl = {long_pnl}\\n'\n",
    "      f'long_fee_open = {long_fee_open}\\n'\n",
    "      f'long_fee_close = {long_fee_close}')\n"
   ]
  },
  {
   "attachments": {},
   "cell_type": "markdown",
   "metadata": {},
   "source": [
    "Solving for Long Take Profit Price<br>\n",
    "S = USD size<br>\n",
    "E = entry or average entry<br>\n",
    "F = Fee<br>\n",
    "T = Take profit price<br>\n",
    "P = pnl<br>\n",
    "\n",
    "$$\n",
    "((\\frac{S}{E}) * ( T - E)) - ((\\frac{S}{E}) * E * F) - ((\\frac{S}{E}) * T * F) = PnL\\\\\n",
    "answer\\\\\n",
    "T = (PnL + S * F + S)*\\frac{E}{S - (S * F)}\n",
    "$$\n"
   ]
  },
  {
   "cell_type": "code",
   "execution_count": 1,
   "metadata": {},
   "outputs": [
    {
     "data": {
      "text/plain": [
       "-5.0"
      ]
     },
     "execution_count": 1,
     "metadata": {},
     "output_type": "execute_result"
    }
   ],
   "source": [
    "sl_pct = 1\n",
    "max_equity_risk_pct = 5\n",
    "equity = 100\n",
    "entry = 1000\n",
    "position = 89.33357155619075 * 5\n",
    "fee = .06\n",
    "coin_size = position / entry\n",
    "sl_price = entry - (entry * sl_pct / 100)\n",
    "\n",
    "equity - (equity * max_equity_risk_pct / 100)\n",
    "pnl = (coin_size * (sl_price - entry)) - (coin_size * entry *\n",
    "                                          (fee / 100)) - (coin_size * sl_price * (fee/100))\n",
    "round(pnl, 4)\n"
   ]
  },
  {
   "attachments": {},
   "cell_type": "markdown",
   "metadata": {},
   "source": [
    "Solving for Long Leverage <br>\n",
    "When you know you want your liq price to be slightly lower than your sl price<br>\n",
    "AE = Avg Entry<br>\n",
    "MMR = Maintaince Margin Rate<br>\n",
    "LP = Liq Price<br>\n",
    "SLP = Stop Loss Price<br>\n",
    "P = Padding<br>\n",
    "L = Long Leverage\n",
    "\n",
    "$$\n",
    "LP = AE * (1 - (\\frac{1}{L}) + (MMR / 100))\\\\\n",
    "|\\\\\n",
    "SLP - (SLP * \\frac{P}{100}) = AE * (1 - (\\frac{1}{L}) + (MMR / 100))\\\\\n",
    "|\\\\\n",
    "|\\\\\n",
    "L = \\frac{-AE}{SLP - (SLP * \\frac{P}{100}) - AE - (AE * \\frac{MMR}{100})}\n",
    "$$\n"
   ]
  },
  {
   "cell_type": "code",
   "execution_count": 34,
   "metadata": {},
   "outputs": [
    {
     "data": {
      "text/plain": [
       "(58.892815076560595, 988.02)"
      ]
     },
     "execution_count": 34,
     "metadata": {},
     "output_type": "execute_result"
    }
   ],
   "source": [
    "ae = 1000\n",
    "mmr = .5\n",
    "slp = 990\n",
    "p = 0.2\n",
    "longlev = -ae / (slp - ((slp * p)/100) - ae - ((mmr * ae) / 100))\n",
    "lp = ae * (1 - 1/longlev + mmr/100)\n",
    "longlev, lp\n"
   ]
  },
  {
   "attachments": {},
   "cell_type": "markdown",
   "metadata": {},
   "source": [
    "Finding USD price based on possible loss<br>\n",
    "S = USD size<br>\n",
    "E = entry or average entry<br>\n",
    "F = Fee<br>\n",
    "X = Stops price<br>\n",
    "P = pnl<br>\n",
    "$$\n",
    "P = ((\\frac{S}{E}) * (X - E)) - ((\\frac{S}{E}) * E * F) - ((\\frac{S}{E}) * X * F)\n",
    "\\\\~\\\\\n",
    "P = \\frac{S*X}{E} - \\frac{S*E}{E} - \\frac{S*E*F}{E} - \\frac{S*X*F}{E}\n",
    "\\\\~\\\\\n",
    "P = (\\frac{X}{E} - 1 - F - \\frac{X*F}{E}) * S\n",
    "\\\\~\\\\\n",
    "S = \\frac{-P}{(\\frac{X}{E} - 1 - F - \\frac{X*F}{E})}\n",
    "$$"
   ]
  },
  {
   "cell_type": "code",
   "execution_count": 1,
   "metadata": {},
   "outputs": [
    {
     "data": {
      "text/plain": [
       "893.3357155619074"
      ]
     },
     "execution_count": 1,
     "metadata": {},
     "output_type": "execute_result"
    }
   ],
   "source": [
    "price = 1000\n",
    "sl_pcts_new = .01\n",
    "fee_pct = .0006\n",
    "init_size = 1000\n",
    "\n",
    "temp_sl_price = price - (price * sl_pcts_new)\n",
    "possible_loss = init_size * sl_pcts_new\n",
    "\n",
    "-possible_loss / (temp_sl_price/price - 1 - fee_pct - temp_sl_price * fee_pct / price)\n",
    "                "
   ]
  },
  {
   "attachments": {},
   "cell_type": "markdown",
   "metadata": {},
   "source": [
    "Solving for what the size value of the second or more trade if you are using stop loss at the low"
   ]
  },
  {
   "cell_type": "code",
   "execution_count": 6,
   "metadata": {},
   "outputs": [
    {
     "data": {
      "text/plain": [
       "4460.589483250462"
      ]
     },
     "execution_count": 6,
     "metadata": {},
     "output_type": "execute_result"
    }
   ],
   "source": [
    "fee = 0.0006\n",
    "eq = 1000\n",
    "size_pct = 0.01\n",
    "init_entry = 30234.5\n",
    "init_sl_p = 30203\n",
    "\n",
    "# standard size value with no other trades\n",
    "init_sl_pct = (init_entry - init_sl_p) / init_entry\n",
    "init_size_value = eq * size_pct / init_sl_pct\n",
    "init_p_loss = init_size_value * init_sl_pct\n",
    "init_size_value = -init_p_loss / (\n",
    "    init_sl_p / init_entry - 1 - fee - init_entry * fee / init_entry\n",
    ")\n",
    "init_size_value"
   ]
  },
  {
   "cell_type": "code",
   "execution_count": 7,
   "metadata": {},
   "outputs": [
    {
     "data": {
      "text/plain": [
       "5670.265880654323"
      ]
     },
     "execution_count": 7,
     "metadata": {},
     "output_type": "execute_result"
    }
   ],
   "source": [
    "fee = 0.0006\n",
    "eq = 1000\n",
    "size_pct = 0.01\n",
    "second_entry = 30164\n",
    "second_sl_p = 30147\n",
    "\n",
    "# standard size value with no other trades\n",
    "second_sl_pct = (second_entry - second_sl_p) / second_entry\n",
    "second_size_value = eq * size_pct / second_sl_pct\n",
    "second_p_loss = second_size_value * second_sl_pct\n",
    "second_size_value = -second_p_loss / (\n",
    "    second_sl_p / second_entry - 1 - fee - second_entry * fee / second_entry\n",
    ")\n",
    "second_size_value"
   ]
  },
  {
   "cell_type": "code",
   "execution_count": 17,
   "metadata": {},
   "outputs": [
    {
     "data": {
      "text/plain": [
       "(-20.00000000000087, 5450.746487158119, 30221.66881675779)"
      ]
     },
     "execution_count": 17,
     "metadata": {},
     "output_type": "execute_result"
    }
   ],
   "source": [
    "# possible loss\n",
    "second_size_value = 990.1570039076566\n",
    "position_size = second_size_value + init_size_value\n",
    "avg_entry = position_size / (\n",
    "    (second_size_value / second_entry) + (init_size_value / init_entry)\n",
    ")\n",
    "(\n",
    "    ((position_size / avg_entry) * (second_sl_p - avg_entry))\n",
    "    - ((position_size / avg_entry) * avg_entry * fee)\n",
    "    - ((position_size / avg_entry) * second_sl_p * fee)\n",
    "), position_size, avg_entry"
   ]
  },
  {
   "attachments": {},
   "cell_type": "markdown",
   "metadata": {},
   "source": [
    "to find the second value we need to break the postion size and avg entry into their formulas that looks like this"
   ]
  },
  {
   "cell_type": "code",
   "execution_count": null,
   "metadata": {},
   "outputs": [],
   "source": [
    "a = second_size_value\n",
    "b = init_size_value\n",
    "c = second_entry\n",
    "d = init_entry\n",
    "e = second_sl_p\n",
    "f = fee"
   ]
  },
  {
   "cell_type": "code",
   "execution_count": null,
   "metadata": {},
   "outputs": [],
   "source": [
    "(\n",
    "    (\n",
    "        (\n",
    "            (second_size_value + init_size_value)\n",
    "            / (\n",
    "                (second_size_value + init_size_value)\n",
    "                / ((second_size_value / second_entry) + (init_size_value / init_entry))\n",
    "            )\n",
    "        )\n",
    "        * (\n",
    "            second_sl_p\n",
    "            - (\n",
    "                (second_size_value + init_size_value)\n",
    "                / ((second_size_value / second_entry) + (init_size_value / init_entry))\n",
    "            )\n",
    "        )\n",
    "    )\n",
    "    - (\n",
    "        (\n",
    "            (second_size_value + init_size_value)\n",
    "            / (\n",
    "                (second_size_value + init_size_value)\n",
    "                / ((second_size_value / second_entry) + (init_size_value / init_entry))\n",
    "            )\n",
    "        )\n",
    "        * (\n",
    "            (second_size_value + init_size_value)\n",
    "            / ((second_size_value / second_entry) + (init_size_value / init_entry))\n",
    "        )\n",
    "        * fee\n",
    "    )\n",
    "    - (\n",
    "        (\n",
    "            (second_size_value + init_size_value)\n",
    "            / (\n",
    "                (second_size_value + init_size_value)\n",
    "                / ((second_size_value / second_entry) + (init_size_value / init_entry))\n",
    "            )\n",
    "        )\n",
    "        * second_sl_p\n",
    "        * fee\n",
    "    )\n",
    ")\n"
   ]
  },
  {
   "cell_type": "code",
   "execution_count": 16,
   "metadata": {},
   "outputs": [
    {
     "data": {
      "text/plain": [
       "990.1570039076566"
      ]
     },
     "execution_count": 16,
     "metadata": {},
     "output_type": "execute_result"
    }
   ],
   "source": [
    "# here is what your position size needs to be if you want to lose 20 dollars\n",
    "pl = -20\n",
    "size2 = -(\n",
    "    (\n",
    "        pl * second_entry * init_entry\n",
    "        + second_entry * init_size_value * init_entry\n",
    "        - second_sl_p * second_entry * init_size_value\n",
    "        + second_sl_p * second_entry * init_size_value * fee\n",
    "        + second_entry * init_size_value * init_entry * fee\n",
    "    )\n",
    "    / (\n",
    "        init_entry\n",
    "        * (second_entry - second_sl_p + second_entry * fee + second_sl_p * fee)\n",
    "    )\n",
    ")\n",
    "size2\n",
    "# psize = size2 + init_size_value\n",
    "# psize\n",
    "# ae = psize / ((size2 / second_entry) + (init_size_value / init_entry))\n",
    "# ae"
   ]
  }
 ],
 "metadata": {
  "kernelspec": {
   "display_name": "qfVBT",
   "language": "python",
   "name": "python3"
  },
  "language_info": {
   "codemirror_mode": {
    "name": "ipython",
    "version": 3
   },
   "file_extension": ".py",
   "mimetype": "text/x-python",
   "name": "python",
   "nbconvert_exporter": "python",
   "pygments_lexer": "ipython3",
   "version": "3.10.10"
  },
  "orig_nbformat": 4,
  "vscode": {
   "interpreter": {
    "hash": "d03a5f5914d41db73604e557196e04fa21b062a314cb051b64faf513d9f7a3ca"
   }
  }
 },
 "nbformat": 4,
 "nbformat_minor": 2
}
