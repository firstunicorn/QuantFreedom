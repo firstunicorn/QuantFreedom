{
  "cells": [
    {
      "cell_type": "code",
      "execution_count": 1,
      "metadata": {},
      "outputs": [],
      "source": [
        "import quantfreedom as qf\n",
        "import pandas as pd\n",
        "from quantfreedom.indicators.talib_ind import *\n",
        "prices = pd.read_hdf('../data/prices.hd5')"
      ]
    },
    {
      "cell_type": "code",
      "execution_count": null,
      "metadata": {},
      "outputs": [],
      "source": [
        "# talib_list_of_indicators()"
      ]
    },
    {
      "cell_type": "code",
      "execution_count": null,
      "metadata": {},
      "outputs": [],
      "source": [
        "# talib_func_list_website_link()"
      ]
    },
    {
      "cell_type": "code",
      "execution_count": 2,
      "metadata": {},
      "outputs": [
        {
          "data": {
            "text/plain": [
              "{'name': 'BBANDS',\n",
              " 'group': 'Overlap Studies',\n",
              " 'display_name': 'Bollinger Bands',\n",
              " 'function_flags': ['Output scale same as input'],\n",
              " 'input_names': OrderedDict([('price', 'close')]),\n",
              " 'parameters': OrderedDict([('timeperiod', 5),\n",
              "              ('nbdevup', 2),\n",
              "              ('nbdevdn', 2),\n",
              "              ('matype', 0)]),\n",
              " 'output_flags': OrderedDict([('upperband',\n",
              "               ['Values represent an upper limit']),\n",
              "              ('middleband', ['Line']),\n",
              "              ('lowerband', ['Values represent a lower limit'])]),\n",
              " 'output_names': ['upperband', 'middleband', 'lowerband']}"
            ]
          },
          "execution_count": 2,
          "metadata": {},
          "output_type": "execute_result"
        }
      ],
      "source": [
        "talib_ind_info('bbands')"
      ]
    },
    {
      "cell_type": "code",
      "execution_count": null,
      "metadata": {},
      "outputs": [],
      "source": [
        "talib_ind_info('stoch')"
      ]
    },
    {
      "cell_type": "code",
      "execution_count": null,
      "metadata": {},
      "outputs": [],
      "source": [
        "from_talib(\n",
        "    func_name='rsi',\n",
        "    df_prices=prices,\n",
        "    cart_product=False,\n",
        "    combos=False,\n",
        "    timeperiod=[15,20,25,30],\n",
        "    # price='open',\n",
        ")"
      ]
    },
    {
      "cell_type": "code",
      "execution_count": null,
      "metadata": {},
      "outputs": [],
      "source": [
        "from_talib(\n",
        "    func_name='stoch',\n",
        "    df_prices=prices,\n",
        "    cart_product=True,\n",
        "    combos=False,\n",
        "    fastk_period=[1,10, 8, 5],\n",
        "    slowk_period=[15,9],\n",
        "    slowk_matype=[6,3,7],\n",
        ")['slowk']"
      ]
    },
    {
      "cell_type": "code",
      "execution_count": null,
      "metadata": {},
      "outputs": [],
      "source": [
        "talib_ind_info('atr')"
      ]
    }
  ],
  "metadata": {
    "kernelspec": {
      "display_name": "qfFree",
      "language": "python",
      "name": "python3"
    },
    "language_info": {
      "codemirror_mode": {
        "name": "ipython",
        "version": 3
      },
      "file_extension": ".py",
      "mimetype": "text/x-python",
      "name": "python",
      "nbconvert_exporter": "python",
      "pygments_lexer": "ipython3",
      "version": "3.10.10"
    },
    "orig_nbformat": 4
  },
  "nbformat": 4,
  "nbformat_minor": 2
}
