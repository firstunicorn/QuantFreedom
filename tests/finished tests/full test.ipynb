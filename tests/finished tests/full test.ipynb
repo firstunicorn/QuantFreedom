{
  "cells": [
    {
      "cell_type": "code",
      "execution_count": 1,
      "metadata": {},
      "outputs": [],
      "source": [
        "# import os\n",
        "# import sys\n",
        "\n",
        "# sys.dont_write_bytecode = True\n",
        "# os.environ[\"NUMBA_DISABLE_JIT\"] = \"1\"\n",
        "\n",
        "import numpy as np\n",
        "import pandas as pd\n",
        "\n",
        "from quantfreedom.data.data_dl import data_download_from_ccxt\n",
        "from quantfreedom.base import backtest_df_only\n",
        "from quantfreedom.nb.simulate import simulate_up_to_6_nb\n",
        "from quantfreedom.evaluators.evaluators import is_below\n",
        "from quantfreedom.indicators.talib_ind import from_talib\n",
        "from quantfreedom.enums.enums import (\n",
        "    LeverageMode,\n",
        "    SizeType,\n",
        "    OrderType,\n",
        "    CandleBody,\n",
        ")\n",
        "from quantfreedom.plotting.strat_dashboard import strat_dashboard\n",
        "\n",
        "np.set_printoptions(formatter={\"float_kind\": \"{:.2f}\".format})\n",
        "pd.options.display.float_format = \"{:,.2f}\".format\n",
        "\n",
        "# prices = data_download_from_ccxt(\n",
        "#     exchange='bybit',\n",
        "#     start='2020-10-01T00:00:00Z',\n",
        "#     end='2021-04-15T00:00:00Z',\n",
        "#     symbols=['BTCUSDT', 'ETHUSD'],\n",
        "#     timeframe='30m',\n",
        "# )\n",
        "\n",
        "# prices.to_hdf(\"yt_prices.hd5\", key='data')\n",
        "price_data = pd.read_hdf('../data/prices.hd5')\n",
        "rsi_ind = from_talib(\n",
        "    func_name=\"rsi\",\n",
        "    price_data=price_data,\n",
        "    cart_product=False,\n",
        "    combos=False,\n",
        "    timeperiod=[15, 30],\n",
        ")\n",
        "entries = is_below(\n",
        "    want_to_evaluate=rsi_ind,\n",
        "    user_args=[40, 50],\n",
        "    candle_ohlc=\"close\",\n",
        ")"
      ]
    },
    {
      "cell_type": "code",
      "execution_count": 3,
      "metadata": {},
      "outputs": [
        {
          "name": "stdout",
          "output_type": "stream",
          "text": [
            "Checking static variables for errors or conflicts.\n",
            "Turning all variables into arrays.\n",
            "Checking arrays for errors or conflicts ... the backtest will begin shortly, please hold.\n",
            "Creating cartesian product ... after this the backtest will start, I promise :).\n",
            "\n",
            "Starting the backtest now ... and also here are some stats for your backtest.\n",
            "\n",
            "Total symbols: 5\n",
            "Total indicator settings per symbol: 4\n",
            "Total indicator settings to test: 20\n",
            "Total order settings per symbol: 4\n",
            "Total order settings to test: 20\n",
            "Total candles per symbol: 9,408\n",
            "Total candles to test: 752,640\n",
            "\n",
            "Total combinations to test: 80\n"
          ]
        }
      ],
      "source": [
        "strat_results_df, settings_results_df = backtest_df_only(\n",
        "    price_data=price_data,\n",
        "    entries=entries,\n",
        "    equity=1000.0,\n",
        "    fee_pct=0.06,\n",
        "    mmr_pct=0.5,\n",
        "    lev_mode=LeverageMode.LeastFreeCashUsed,\n",
        "    size_type=SizeType.RiskPercentOfAccount,\n",
        "    order_type=OrderType.LongEntry,\n",
        "    max_equity_risk_pct=np.arange(7, 8.1, 1),\n",
        "    risk_rewards=4,\n",
        "    size_pct=1.0,\n",
        "    # sl_pcts=np.arange(1,3.1,1),\n",
        "    tsl_true_or_false=True,\n",
        "    tsl_pcts_init=8,\n",
        "    tsl_based_on=CandleBody.low,\n",
        "    tsl_trail_by_pct=8,\n",
        "    tsl_when_pct_from_avg_entry=np.arange(3, 4.1, 1),\n",
        "    gains_pct_filter=150,\n",
        "    upside_filter=0.6,\n",
        "    divide_records_array_size_by=2,\n",
        ")"
      ]
    },
    {
      "cell_type": "code",
      "execution_count": 2,
      "metadata": {},
      "outputs": [
        {
          "name": "stdout",
          "output_type": "stream",
          "text": [
            "Checking static variables for errors or conflicts.\n",
            "Turning all variables into arrays.\n",
            "Checking arrays for errors or conflicts ... the backtest will begin shortly, please hold.\n",
            "Creating cartesian product ... after this the backtest will start, I promise :).\n",
            "\n",
            "Starting the backtest now ... and also here are some stats for your backtest.\n",
            "\n",
            "Total symbols: 5\n",
            "Total indicator settings per symbol: 4\n",
            "Total indicator settings to test: 20\n",
            "Total order settings per symbol: 32\n",
            "Total order settings to test: 160\n",
            "Total candles per symbol: 9,408\n",
            "Total candles to test: 6,021,120\n",
            "\n",
            "Total combinations to test: 640\n"
          ]
        },
        {
          "ename": "TypingError",
          "evalue": "Failed in nopython mode pipeline (step: nopython frontend)\n\u001b[1m\u001b[1m\u001b[1m\u001b[1m\u001b[1m\u001b[1m\u001b[1m\u001b[1m\u001b[1m\u001b[1m\u001b[1m\u001b[1m\u001b[1m\u001b[1mFailed in nopython mode pipeline (step: nopython frontend)\n\u001b[1m\u001b[1m\u001b[1m\u001b[1m\u001b[1m\u001b[1m\u001b[1m\u001b[1mFailed in nopython mode pipeline (step: nopython frontend)\n\u001b[1m\u001b[1mNo implementation of function Function(<built-in function mul>) found for signature:\n \n >>> mul(PriceTuple(float64 x 4), float64)\n \nThere are 14 candidate implementations:\n\u001b[1m      - Of which 12 did not match due to:\n      Overload of function 'mul': File: <numerous>: Line N/A.\n        With argument(s): '(PriceTuple(float64 x 4), float64)':\u001b[0m\n\u001b[1m       No match.\u001b[0m\n\u001b[1m      - Of which 2 did not match due to:\n      Operator Overload in function 'mul': File: unknown: Line unknown.\n        With argument(s): '(PriceTuple(float64 x 4), float64)':\u001b[0m\n\u001b[1m       No match for registered cases:\n        * (int64, int64) -> int64\n        * (int64, uint64) -> int64\n        * (uint64, int64) -> int64\n        * (uint64, uint64) -> uint64\n        * (float32, float32) -> float32\n        * (float64, float64) -> float64\n        * (complex64, complex64) -> complex64\n        * (complex128, complex128) -> complex128\u001b[0m\n\u001b[0m\n\u001b[0m\u001b[1mDuring: typing of intrinsic-call at e:\\coding\\backtesters\\quantfreedom\\quantfreedom\\nb\\sell_funcs.py (65)\u001b[0m\n\u001b[1m\nFile \"..\\..\\quantfreedom\\nb\\sell_funcs.py\", line 65:\u001b[0m\n\u001b[1mdef short_increase_nb(\n    <source elided>\n                    )\n\u001b[1m            temp_sl_price = price + (price * sl_pcts_new)\n\u001b[0m            \u001b[1m^\u001b[0m\u001b[0m\n\n\u001b[0m\u001b[1mDuring: resolving callee type: type(CPUDispatcher(<function short_increase_nb at 0x0000016D2FAAA3B0>))\u001b[0m\n\u001b[0m\u001b[1mDuring: typing of call at e:\\coding\\backtesters\\quantfreedom\\quantfreedom\\nb\\execute_funcs.py (272)\n\u001b[0m\n\u001b[0m\u001b[1mDuring: resolving callee type: type(CPUDispatcher(<function short_increase_nb at 0x0000016D2FAAA3B0>))\u001b[0m\n\u001b[0m\u001b[1mDuring: typing of call at e:\\coding\\backtesters\\quantfreedom\\quantfreedom\\nb\\execute_funcs.py (272)\n\u001b[0m\n\u001b[0m\u001b[1mDuring: resolving callee type: type(CPUDispatcher(<function short_increase_nb at 0x0000016D2FAAA3B0>))\u001b[0m\n\u001b[0m\u001b[1mDuring: typing of call at e:\\coding\\backtesters\\quantfreedom\\quantfreedom\\nb\\execute_funcs.py (272)\n\u001b[0m\n\u001b[0m\u001b[1mDuring: resolving callee type: type(CPUDispatcher(<function short_increase_nb at 0x0000016D2FAAA3B0>))\u001b[0m\n\u001b[0m\u001b[1mDuring: typing of call at e:\\coding\\backtesters\\quantfreedom\\quantfreedom\\nb\\execute_funcs.py (272)\n\u001b[0m\n\u001b[1m\nFile \"..\\..\\quantfreedom\\nb\\execute_funcs.py\", line 272:\u001b[0m\n\u001b[1mdef process_order_nb(\n    <source elided>\n    elif order_type == OrderType.ShortEntry:\n\u001b[1m        account_state_new, order_result_new = short_increase_nb(\n\u001b[0m        \u001b[1m^\u001b[0m\u001b[0m\n\n\u001b[0m\u001b[1mDuring: resolving callee type: type(CPUDispatcher(<function process_order_nb at 0x0000016D2FAAA9E0>))\u001b[0m\n\u001b[0m\u001b[1mDuring: typing of call at e:\\coding\\backtesters\\quantfreedom\\quantfreedom\\nb\\simulate.py (181)\n\u001b[0m\n\u001b[0m\u001b[1mDuring: resolving callee type: type(CPUDispatcher(<function process_order_nb at 0x0000016D2FAAA9E0>))\u001b[0m\n\u001b[0m\u001b[1mDuring: typing of call at e:\\coding\\backtesters\\quantfreedom\\quantfreedom\\nb\\simulate.py (212)\n\u001b[0m\n\u001b[0m\u001b[1mDuring: resolving callee type: type(CPUDispatcher(<function process_order_nb at 0x0000016D2FAAA9E0>))\u001b[0m\n\u001b[0m\u001b[1mDuring: typing of call at e:\\coding\\backtesters\\quantfreedom\\quantfreedom\\nb\\simulate.py (181)\n\u001b[0m\n\u001b[0m\u001b[1mDuring: resolving callee type: type(CPUDispatcher(<function process_order_nb at 0x0000016D2FAAA9E0>))\u001b[0m\n\u001b[0m\u001b[1mDuring: typing of call at e:\\coding\\backtesters\\quantfreedom\\quantfreedom\\nb\\simulate.py (212)\n\u001b[0m\n\u001b[0m\u001b[1mDuring: resolving callee type: type(CPUDispatcher(<function process_order_nb at 0x0000016D2FAAA9E0>))\u001b[0m\n\u001b[0m\u001b[1mDuring: typing of call at e:\\coding\\backtesters\\quantfreedom\\quantfreedom\\nb\\simulate.py (181)\n\u001b[0m\n\u001b[0m\u001b[1mDuring: resolving callee type: type(CPUDispatcher(<function process_order_nb at 0x0000016D2FAAA9E0>))\u001b[0m\n\u001b[0m\u001b[1mDuring: typing of call at e:\\coding\\backtesters\\quantfreedom\\quantfreedom\\nb\\simulate.py (212)\n\u001b[0m\n\u001b[0m\u001b[1mDuring: resolving callee type: type(CPUDispatcher(<function process_order_nb at 0x0000016D2FAAA9E0>))\u001b[0m\n\u001b[0m\u001b[1mDuring: typing of call at e:\\coding\\backtesters\\quantfreedom\\quantfreedom\\nb\\simulate.py (181)\n\u001b[0m\n\u001b[1m\nFile \"..\\..\\quantfreedom\\nb\\simulate.py\", line 181:\u001b[0m\n\u001b[1mdef backtest_df_only_nb(\n    <source elided>\n                        # Process Order nb\n\u001b[1m                        account_state, order_result = process_order_nb(\n\u001b[0m                        \u001b[1m^\u001b[0m\u001b[0m\n",
          "output_type": "error",
          "traceback": [
            "\u001b[1;31m---------------------------------------------------------------------------\u001b[0m",
            "\u001b[1;31mTypingError\u001b[0m                               Traceback (most recent call last)",
            "Cell \u001b[1;32mIn[2], line 1\u001b[0m\n\u001b[1;32m----> 1\u001b[0m strat_results_df, settings_results_df \u001b[39m=\u001b[39m backtest_df_only(\n\u001b[0;32m      2\u001b[0m     price_data\u001b[39m=\u001b[39;49mprice_data,\n\u001b[0;32m      3\u001b[0m     entries\u001b[39m=\u001b[39;49mentries,\n\u001b[0;32m      4\u001b[0m     equity\u001b[39m=\u001b[39;49m\u001b[39m1000.0\u001b[39;49m,\n\u001b[0;32m      5\u001b[0m     fee_pct\u001b[39m=\u001b[39;49m\u001b[39m0.06\u001b[39;49m,\n\u001b[0;32m      6\u001b[0m     mmr_pct\u001b[39m=\u001b[39;49m\u001b[39m0.5\u001b[39;49m,\n\u001b[0;32m      7\u001b[0m     lev_mode\u001b[39m=\u001b[39;49mLeverageMode\u001b[39m.\u001b[39;49mLeastFreeCashUsed,\n\u001b[0;32m      8\u001b[0m     size_type\u001b[39m=\u001b[39;49mSizeType\u001b[39m.\u001b[39;49mRiskPercentOfAccount,\n\u001b[0;32m      9\u001b[0m     order_type\u001b[39m=\u001b[39;49mOrderType\u001b[39m.\u001b[39;49mLongEntry,\n\u001b[0;32m     10\u001b[0m     max_equity_risk_pct\u001b[39m=\u001b[39;49mnp\u001b[39m.\u001b[39;49marange(\u001b[39m7\u001b[39;49m, \u001b[39m8.1\u001b[39;49m, \u001b[39m1\u001b[39;49m),\n\u001b[0;32m     11\u001b[0m     risk_rewards\u001b[39m=\u001b[39;49mnp\u001b[39m.\u001b[39;49marange(\u001b[39m4\u001b[39;49m, \u001b[39m5.1\u001b[39;49m, \u001b[39m1\u001b[39;49m),\n\u001b[0;32m     12\u001b[0m     size_pct\u001b[39m=\u001b[39;49m\u001b[39m1.0\u001b[39;49m,\n\u001b[0;32m     13\u001b[0m     \u001b[39m# sl_pcts=np.arange(1,3.1,1),\u001b[39;49;00m\n\u001b[0;32m     14\u001b[0m     tsl_true_or_false\u001b[39m=\u001b[39;49m\u001b[39mTrue\u001b[39;49;00m,\n\u001b[0;32m     15\u001b[0m     tsl_pcts_init\u001b[39m=\u001b[39;49mnp\u001b[39m.\u001b[39;49marange(\u001b[39m8\u001b[39;49m, \u001b[39m9.1\u001b[39;49m, \u001b[39m1\u001b[39;49m),\n\u001b[0;32m     16\u001b[0m     tsl_based_on\u001b[39m=\u001b[39;49mCandleBody\u001b[39m.\u001b[39;49mlow,\n\u001b[0;32m     17\u001b[0m     tsl_trail_by_pct\u001b[39m=\u001b[39;49mnp\u001b[39m.\u001b[39;49marange(\u001b[39m8\u001b[39;49m, \u001b[39m9.1\u001b[39;49m, \u001b[39m1\u001b[39;49m),\n\u001b[0;32m     18\u001b[0m     tsl_when_pct_from_avg_entry\u001b[39m=\u001b[39;49mnp\u001b[39m.\u001b[39;49marange(\u001b[39m3\u001b[39;49m, \u001b[39m4.1\u001b[39;49m, \u001b[39m1\u001b[39;49m),\n\u001b[0;32m     19\u001b[0m     gains_pct_filter\u001b[39m=\u001b[39;49m\u001b[39m150\u001b[39;49m,\n\u001b[0;32m     20\u001b[0m     upside_filter\u001b[39m=\u001b[39;49m\u001b[39m0.6\u001b[39;49m,\n\u001b[0;32m     21\u001b[0m     divide_records_array_size_by\u001b[39m=\u001b[39;49m\u001b[39m2\u001b[39;49m,\n\u001b[0;32m     22\u001b[0m )\n",
            "File \u001b[1;32me:\\coding\\backtesters\\quantfreedom\\quantfreedom\\base\\base.py:249\u001b[0m, in \u001b[0;36mbacktest_df_only\u001b[1;34m(price_data, entries, equity, fee_pct, mmr_pct, lev_mode, order_type, size_type, leverage, max_equity_risk_pct, max_equity_risk_value, max_order_size_pct, min_order_size_pct, max_order_size_value, min_order_size_value, max_lev, size_pct, size_value, sl_pcts, sl_to_be, sl_based_on, sl_based_on_add_pct, sl_to_be_based_on, sl_to_be_when_pct_from_avg_entry, sl_to_be_zero_or_entry, sl_to_be_then_trail, sl_to_be_trail_by_when_pct_from_avg_entry, tsl_pcts_init, tsl_true_or_false, tsl_based_on, tsl_trail_by_pct, tsl_when_pct_from_avg_entry, risk_rewards, tp_pcts, gains_pct_filter, total_trade_filter, divide_records_array_size_by, upside_filter)\u001b[0m\n\u001b[0;32m    242\u001b[0m \u001b[39mprint\u001b[39m(\n\u001b[0;32m    243\u001b[0m     \u001b[39mf\u001b[39m\u001b[39m\"\u001b[39m\u001b[39mTotal candles to test: \u001b[39m\u001b[39m{\u001b[39;00mtotal_indicator_settings\u001b[39m \u001b[39m\u001b[39m*\u001b[39m\u001b[39m \u001b[39mtotal_order_settings\u001b[39m \u001b[39m\u001b[39m*\u001b[39m\u001b[39m \u001b[39mtotal_bars\u001b[39m:\u001b[39;00m\u001b[39m,\u001b[39m\u001b[39m}\u001b[39;00m\u001b[39m\"\u001b[39m\n\u001b[0;32m    244\u001b[0m )\n\u001b[0;32m    245\u001b[0m \u001b[39mprint\u001b[39m(\n\u001b[0;32m    246\u001b[0m     \u001b[39mf\u001b[39m\u001b[39m\"\u001b[39m\u001b[39m\\n\u001b[39;00m\u001b[39mTotal combinations to test: \u001b[39m\u001b[39m{\u001b[39;00mtotal_indicator_settings\u001b[39m \u001b[39m\u001b[39m*\u001b[39m\u001b[39m \u001b[39mtotal_order_settings\u001b[39m:\u001b[39;00m\u001b[39m,\u001b[39m\u001b[39m}\u001b[39;00m\u001b[39m\"\u001b[39m\n\u001b[0;32m    247\u001b[0m )\n\u001b[1;32m--> 249\u001b[0m strat_array, settings_array \u001b[39m=\u001b[39m backtest_df_only_nb(\n\u001b[0;32m    250\u001b[0m     cart_array_tuple\u001b[39m=\u001b[39;49mcart_array_tuple,\n\u001b[0;32m    251\u001b[0m     entries\u001b[39m=\u001b[39;49mentries\u001b[39m.\u001b[39;49mvalues,\n\u001b[0;32m    252\u001b[0m     gains_pct_filter\u001b[39m=\u001b[39;49mgains_pct_filter,\n\u001b[0;32m    253\u001b[0m     num_of_symbols\u001b[39m=\u001b[39;49mnum_of_symbols,\n\u001b[0;32m    254\u001b[0m     og_equity\u001b[39m=\u001b[39;49mequity,\n\u001b[0;32m    255\u001b[0m     price_data\u001b[39m=\u001b[39;49mprice_data\u001b[39m.\u001b[39;49mvalues,\n\u001b[0;32m    256\u001b[0m     static_variables_tuple\u001b[39m=\u001b[39;49mstatic_variables_tuple,\n\u001b[0;32m    257\u001b[0m     total_bars\u001b[39m=\u001b[39;49mtotal_bars,\n\u001b[0;32m    258\u001b[0m     total_indicator_settings\u001b[39m=\u001b[39;49mtotal_indicator_settings,\n\u001b[0;32m    259\u001b[0m     total_order_settings\u001b[39m=\u001b[39;49mtotal_order_settings,\n\u001b[0;32m    260\u001b[0m     total_trade_filter\u001b[39m=\u001b[39;49mtotal_trade_filter,\n\u001b[0;32m    261\u001b[0m )\n\u001b[0;32m    263\u001b[0m strat_results_df \u001b[39m=\u001b[39m pd\u001b[39m.\u001b[39mDataFrame(strat_array)\u001b[39m.\u001b[39msort_values(\n\u001b[0;32m    264\u001b[0m     by\u001b[39m=\u001b[39m[\u001b[39m\"\u001b[39m\u001b[39mto_the_upside\u001b[39m\u001b[39m\"\u001b[39m, \u001b[39m\"\u001b[39m\u001b[39mgains_pct\u001b[39m\u001b[39m\"\u001b[39m], ascending\u001b[39m=\u001b[39m\u001b[39mFalse\u001b[39;00m\n\u001b[0;32m    265\u001b[0m )\n\u001b[0;32m    267\u001b[0m symbols \u001b[39m=\u001b[39m \u001b[39mlist\u001b[39m(price_data\u001b[39m.\u001b[39mcolumns\u001b[39m.\u001b[39mlevels[\u001b[39m0\u001b[39m])\n",
            "File \u001b[1;32me:\\Coding\\virtual environments\\qfFree\\lib\\site-packages\\numba\\core\\dispatcher.py:468\u001b[0m, in \u001b[0;36m_DispatcherBase._compile_for_args\u001b[1;34m(self, *args, **kws)\u001b[0m\n\u001b[0;32m    464\u001b[0m         msg \u001b[39m=\u001b[39m (\u001b[39mf\u001b[39m\u001b[39m\"\u001b[39m\u001b[39m{\u001b[39;00m\u001b[39mstr\u001b[39m(e)\u001b[39m.\u001b[39mrstrip()\u001b[39m}\u001b[39;00m\u001b[39m \u001b[39m\u001b[39m\\n\u001b[39;00m\u001b[39m\\n\u001b[39;00m\u001b[39mThis error may have been caused \u001b[39m\u001b[39m\"\u001b[39m\n\u001b[0;32m    465\u001b[0m                \u001b[39mf\u001b[39m\u001b[39m\"\u001b[39m\u001b[39mby the following argument(s):\u001b[39m\u001b[39m\\n\u001b[39;00m\u001b[39m{\u001b[39;00margs_str\u001b[39m}\u001b[39;00m\u001b[39m\\n\u001b[39;00m\u001b[39m\"\u001b[39m)\n\u001b[0;32m    466\u001b[0m         e\u001b[39m.\u001b[39mpatch_message(msg)\n\u001b[1;32m--> 468\u001b[0m     error_rewrite(e, \u001b[39m'\u001b[39;49m\u001b[39mtyping\u001b[39;49m\u001b[39m'\u001b[39;49m)\n\u001b[0;32m    469\u001b[0m \u001b[39mexcept\u001b[39;00m errors\u001b[39m.\u001b[39mUnsupportedError \u001b[39mas\u001b[39;00m e:\n\u001b[0;32m    470\u001b[0m     \u001b[39m# Something unsupported is present in the user code, add help info\u001b[39;00m\n\u001b[0;32m    471\u001b[0m     error_rewrite(e, \u001b[39m'\u001b[39m\u001b[39munsupported_error\u001b[39m\u001b[39m'\u001b[39m)\n",
            "File \u001b[1;32me:\\Coding\\virtual environments\\qfFree\\lib\\site-packages\\numba\\core\\dispatcher.py:409\u001b[0m, in \u001b[0;36m_DispatcherBase._compile_for_args.<locals>.error_rewrite\u001b[1;34m(e, issue_type)\u001b[0m\n\u001b[0;32m    407\u001b[0m     \u001b[39mraise\u001b[39;00m e\n\u001b[0;32m    408\u001b[0m \u001b[39melse\u001b[39;00m:\n\u001b[1;32m--> 409\u001b[0m     \u001b[39mraise\u001b[39;00m e\u001b[39m.\u001b[39mwith_traceback(\u001b[39mNone\u001b[39;00m)\n",
            "\u001b[1;31mTypingError\u001b[0m: Failed in nopython mode pipeline (step: nopython frontend)\n\u001b[1m\u001b[1m\u001b[1m\u001b[1m\u001b[1m\u001b[1m\u001b[1m\u001b[1m\u001b[1m\u001b[1m\u001b[1m\u001b[1m\u001b[1m\u001b[1mFailed in nopython mode pipeline (step: nopython frontend)\n\u001b[1m\u001b[1m\u001b[1m\u001b[1m\u001b[1m\u001b[1m\u001b[1m\u001b[1mFailed in nopython mode pipeline (step: nopython frontend)\n\u001b[1m\u001b[1mNo implementation of function Function(<built-in function mul>) found for signature:\n \n >>> mul(PriceTuple(float64 x 4), float64)\n \nThere are 14 candidate implementations:\n\u001b[1m      - Of which 12 did not match due to:\n      Overload of function 'mul': File: <numerous>: Line N/A.\n        With argument(s): '(PriceTuple(float64 x 4), float64)':\u001b[0m\n\u001b[1m       No match.\u001b[0m\n\u001b[1m      - Of which 2 did not match due to:\n      Operator Overload in function 'mul': File: unknown: Line unknown.\n        With argument(s): '(PriceTuple(float64 x 4), float64)':\u001b[0m\n\u001b[1m       No match for registered cases:\n        * (int64, int64) -> int64\n        * (int64, uint64) -> int64\n        * (uint64, int64) -> int64\n        * (uint64, uint64) -> uint64\n        * (float32, float32) -> float32\n        * (float64, float64) -> float64\n        * (complex64, complex64) -> complex64\n        * (complex128, complex128) -> complex128\u001b[0m\n\u001b[0m\n\u001b[0m\u001b[1mDuring: typing of intrinsic-call at e:\\coding\\backtesters\\quantfreedom\\quantfreedom\\nb\\sell_funcs.py (65)\u001b[0m\n\u001b[1m\nFile \"..\\..\\quantfreedom\\nb\\sell_funcs.py\", line 65:\u001b[0m\n\u001b[1mdef short_increase_nb(\n    <source elided>\n                    )\n\u001b[1m            temp_sl_price = price + (price * sl_pcts_new)\n\u001b[0m            \u001b[1m^\u001b[0m\u001b[0m\n\n\u001b[0m\u001b[1mDuring: resolving callee type: type(CPUDispatcher(<function short_increase_nb at 0x0000016D2FAAA3B0>))\u001b[0m\n\u001b[0m\u001b[1mDuring: typing of call at e:\\coding\\backtesters\\quantfreedom\\quantfreedom\\nb\\execute_funcs.py (272)\n\u001b[0m\n\u001b[0m\u001b[1mDuring: resolving callee type: type(CPUDispatcher(<function short_increase_nb at 0x0000016D2FAAA3B0>))\u001b[0m\n\u001b[0m\u001b[1mDuring: typing of call at e:\\coding\\backtesters\\quantfreedom\\quantfreedom\\nb\\execute_funcs.py (272)\n\u001b[0m\n\u001b[0m\u001b[1mDuring: resolving callee type: type(CPUDispatcher(<function short_increase_nb at 0x0000016D2FAAA3B0>))\u001b[0m\n\u001b[0m\u001b[1mDuring: typing of call at e:\\coding\\backtesters\\quantfreedom\\quantfreedom\\nb\\execute_funcs.py (272)\n\u001b[0m\n\u001b[0m\u001b[1mDuring: resolving callee type: type(CPUDispatcher(<function short_increase_nb at 0x0000016D2FAAA3B0>))\u001b[0m\n\u001b[0m\u001b[1mDuring: typing of call at e:\\coding\\backtesters\\quantfreedom\\quantfreedom\\nb\\execute_funcs.py (272)\n\u001b[0m\n\u001b[1m\nFile \"..\\..\\quantfreedom\\nb\\execute_funcs.py\", line 272:\u001b[0m\n\u001b[1mdef process_order_nb(\n    <source elided>\n    elif order_type == OrderType.ShortEntry:\n\u001b[1m        account_state_new, order_result_new = short_increase_nb(\n\u001b[0m        \u001b[1m^\u001b[0m\u001b[0m\n\n\u001b[0m\u001b[1mDuring: resolving callee type: type(CPUDispatcher(<function process_order_nb at 0x0000016D2FAAA9E0>))\u001b[0m\n\u001b[0m\u001b[1mDuring: typing of call at e:\\coding\\backtesters\\quantfreedom\\quantfreedom\\nb\\simulate.py (181)\n\u001b[0m\n\u001b[0m\u001b[1mDuring: resolving callee type: type(CPUDispatcher(<function process_order_nb at 0x0000016D2FAAA9E0>))\u001b[0m\n\u001b[0m\u001b[1mDuring: typing of call at e:\\coding\\backtesters\\quantfreedom\\quantfreedom\\nb\\simulate.py (212)\n\u001b[0m\n\u001b[0m\u001b[1mDuring: resolving callee type: type(CPUDispatcher(<function process_order_nb at 0x0000016D2FAAA9E0>))\u001b[0m\n\u001b[0m\u001b[1mDuring: typing of call at e:\\coding\\backtesters\\quantfreedom\\quantfreedom\\nb\\simulate.py (181)\n\u001b[0m\n\u001b[0m\u001b[1mDuring: resolving callee type: type(CPUDispatcher(<function process_order_nb at 0x0000016D2FAAA9E0>))\u001b[0m\n\u001b[0m\u001b[1mDuring: typing of call at e:\\coding\\backtesters\\quantfreedom\\quantfreedom\\nb\\simulate.py (212)\n\u001b[0m\n\u001b[0m\u001b[1mDuring: resolving callee type: type(CPUDispatcher(<function process_order_nb at 0x0000016D2FAAA9E0>))\u001b[0m\n\u001b[0m\u001b[1mDuring: typing of call at e:\\coding\\backtesters\\quantfreedom\\quantfreedom\\nb\\simulate.py (181)\n\u001b[0m\n\u001b[0m\u001b[1mDuring: resolving callee type: type(CPUDispatcher(<function process_order_nb at 0x0000016D2FAAA9E0>))\u001b[0m\n\u001b[0m\u001b[1mDuring: typing of call at e:\\coding\\backtesters\\quantfreedom\\quantfreedom\\nb\\simulate.py (212)\n\u001b[0m\n\u001b[0m\u001b[1mDuring: resolving callee type: type(CPUDispatcher(<function process_order_nb at 0x0000016D2FAAA9E0>))\u001b[0m\n\u001b[0m\u001b[1mDuring: typing of call at e:\\coding\\backtesters\\quantfreedom\\quantfreedom\\nb\\simulate.py (181)\n\u001b[0m\n\u001b[1m\nFile \"..\\..\\quantfreedom\\nb\\simulate.py\", line 181:\u001b[0m\n\u001b[1mdef backtest_df_only_nb(\n    <source elided>\n                        # Process Order nb\n\u001b[1m                        account_state, order_result = process_order_nb(\n\u001b[0m                        \u001b[1m^\u001b[0m\u001b[0m\n"
          ]
        }
      ],
      "source": [
        "strat_results_df, settings_results_df = backtest_df_only(\n",
        "    price_data=price_data,\n",
        "    entries=entries,\n",
        "    equity=1000.0,\n",
        "    fee_pct=0.06,\n",
        "    mmr_pct=0.5,\n",
        "    lev_mode=LeverageMode.LeastFreeCashUsed,\n",
        "    size_type=SizeType.RiskPercentOfAccount,\n",
        "    order_type=OrderType.LongEntry,\n",
        "    max_equity_risk_pct=np.arange(7, 8.1, 1),\n",
        "    risk_rewards=np.arange(4, 5.1, 1),\n",
        "    size_pct=1.0,\n",
        "    # sl_pcts=np.arange(1,3.1,1),\n",
        "    tsl_true_or_false=True,\n",
        "    tsl_pcts_init=np.arange(8, 9.1, 1),\n",
        "    tsl_based_on=CandleBody.low,\n",
        "    tsl_trail_by_pct=np.arange(8, 9.1, 1),\n",
        "    tsl_when_pct_from_avg_entry=np.arange(3, 4.1, 1),\n",
        "    gains_pct_filter=150,\n",
        "    upside_filter=0.6,\n",
        "    divide_records_array_size_by=2,\n",
        ")"
      ]
    },
    {
      "cell_type": "code",
      "execution_count": null,
      "metadata": {},
      "outputs": [],
      "source": [
        "strat_results_df"
      ]
    },
    {
      "cell_type": "code",
      "execution_count": null,
      "metadata": {},
      "outputs": [],
      "source": [
        "settings_results_df.iloc[:,10608]"
      ]
    },
    {
      "cell_type": "code",
      "execution_count": null,
      "metadata": {},
      "outputs": [],
      "source": [
        "order_records = simulate_up_to_6_nb(\n",
        "    prices=price_data['ETHUSD'].values,\n",
        "    entries=entries.iloc[:,[11]].values,\n",
        "    equity=1000.0,\n",
        "    fee_pct=0.06,\n",
        "    mmr_pct=0.5,\n",
        "    lev_mode=LeverageMode.LeastFreeCashUsed,\n",
        "    size_type=SizeType.RiskPercentOfAccount,\n",
        "    order_type=OrderType.LongEntry,\n",
        "    max_equity_risk_pct=8,\n",
        "    risk_rewards=3,\n",
        "    size_pct=1.0,\n",
        "    # sl_pcts=np.arange(1,3.1,1),\n",
        "    tsl_true_or_false=True,\n",
        "    tsl_based_on=CandleBody.low,\n",
        "    tsl_pcts_init=8,\n",
        "    tsl_trail_by_pct=8,\n",
        "    tsl_when_pct_from_avg_entry=3,\n",
        "    # gains_pct_filter=100,\n",
        ")"
      ]
    },
    {
      "cell_type": "code",
      "execution_count": null,
      "metadata": {},
      "outputs": [],
      "source": [
        "entries.iloc[:,[11]]"
      ]
    },
    {
      "cell_type": "code",
      "execution_count": null,
      "metadata": {},
      "outputs": [],
      "source": [
        "rsi_ind[[('ETHUSD', 30)]]"
      ]
    },
    {
      "cell_type": "code",
      "execution_count": null,
      "metadata": {},
      "outputs": [],
      "source": [
        "indicator_dict = {\n",
        "    \"indicator1\": {\n",
        "        \"values1\": rsi_ind[[('ETHUSD', 30)]],\n",
        "        \"entries1\": entries.iloc[:,[11]],\n",
        "    },\n",
        "}\n",
        "strat_dashboard(\n",
        "    indicator_dict=indicator_dict,\n",
        "    prices=price_data.ETHUSD,\n",
        "    order_records=order_records,\n",
        ")"
      ]
    }
  ],
  "metadata": {
    "kernelspec": {
      "display_name": "qfFree",
      "language": "python",
      "name": "python3"
    },
    "language_info": {
      "codemirror_mode": {
        "name": "ipython",
        "version": 3
      },
      "file_extension": ".py",
      "mimetype": "text/x-python",
      "name": "python",
      "nbconvert_exporter": "python",
      "pygments_lexer": "ipython3",
      "version": "3.10.10"
    },
    "orig_nbformat": 4
  },
  "nbformat": 4,
  "nbformat_minor": 2
}
