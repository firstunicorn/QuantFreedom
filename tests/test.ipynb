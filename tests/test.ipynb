{
  "cells": [
    {
      "cell_type": "code",
      "execution_count": 1,
      "metadata": {},
      "outputs": [],
      "source": [
        "import numpy as np\n",
        "import pandas as pd\n"
      ]
    },
    {
      "cell_type": "code",
      "execution_count": 2,
      "metadata": {},
      "outputs": [
        {
          "data": {
            "text/plain": [
              "4460.589483250462"
            ]
          },
          "execution_count": 2,
          "metadata": {},
          "output_type": "execute_result"
        }
      ],
      "source": [
        "fee = 0.0006\n",
        "eq = 1000\n",
        "size_pct = 0.01\n",
        "init_entry = 30234.5\n",
        "init_sl_p = 30203\n",
        "\n",
        "init_sl_pct = (init_entry - init_sl_p) / init_entry\n",
        "init_size_value = eq * size_pct / init_sl_pct\n",
        "init_p_loss = init_size_value * init_sl_pct\n",
        "init_size_value = -init_p_loss / (\n",
        "    init_sl_p / init_entry - 1 - fee - init_entry * fee / init_entry\n",
        ")\n",
        "init_size_value"
      ]
    },
    {
      "cell_type": "code",
      "execution_count": 3,
      "metadata": {},
      "outputs": [
        {
          "data": {
            "text/plain": [
              "5670.265880654323"
            ]
          },
          "execution_count": 3,
          "metadata": {},
          "output_type": "execute_result"
        }
      ],
      "source": [
        "fee = 0.0006\n",
        "eq = 1000\n",
        "size_pct = 0.01\n",
        "second_entry = 30164\n",
        "second_sl_p = 30147\n",
        "\n",
        "second_sl_pct = (second_entry - second_sl_p) / second_entry\n",
        "second_size_value = eq * size_pct / second_sl_pct\n",
        "second_p_loss = second_size_value * second_sl_pct\n",
        "second_size_value = -second_p_loss / (\n",
        "    second_sl_p / second_entry - 1 - fee - second_entry * fee / second_entry\n",
        ")\n",
        "second_size_value"
      ]
    },
    {
      "cell_type": "code",
      "execution_count": 44,
      "metadata": {},
      "outputs": [
        {
          "data": {
            "text/plain": [
              "(-19.997211624428132, 30221.685584662526, 5449.165100854817)"
            ]
          },
          "execution_count": 44,
          "metadata": {},
          "output_type": "execute_result"
        }
      ],
      "source": [
        "second_size_value = 988.5756176043551\n",
        "position_size = second_size_value + init_size_value\n",
        "avg_entry = position_size / (\n",
        "    (second_size_value / second_entry) + (init_size_value / init_entry)\n",
        ")\n",
        "(\n",
        "    ((position_size / avg_entry) * (second_sl_p - avg_entry))\n",
        "    - ((position_size / avg_entry) * avg_entry * fee)\n",
        "    - ((position_size / avg_entry) * second_sl_p * fee)\n",
        "), avg_entry, position_size"
      ]
    },
    {
      "cell_type": "code",
      "execution_count": 42,
      "metadata": {},
      "outputs": [],
      "source": [
        "a = second_size_value\n",
        "b = init_size_value\n",
        "c = second_entry\n",
        "d = init_entry\n",
        "e = second_sl_p\n",
        "f = fee\n",
        "pl = ((init_size_value/init_entry)*(init_sl_p - init_entry)) - ((init_size_value/init_entry)*init_entry*fee) - ((init_size_value/init_entry)*init_sl_p*fee) + -(eq * size_pct)"
      ]
    },
    {
      "cell_type": "code",
      "execution_count": 20,
      "metadata": {},
      "outputs": [
        {
          "data": {
            "text/plain": [
              "-20.001486410820206"
            ]
          },
          "execution_count": 20,
          "metadata": {},
          "output_type": "execute_result"
        }
      ],
      "source": [
        "(\n",
        "    (\n",
        "        ((a + b) / ((a + b) / ((a / c) + (b / d))))\n",
        "        * (e - ((a + b) / ((a / c) + (b / d))))\n",
        "    )\n",
        "    - (\n",
        "        ((a + b) / ((a + b) / ((a / c) + (b / d))))\n",
        "        * ((a + b) / ((a / c) + (b / d)))\n",
        "        * f\n",
        "    )\n",
        "    - (\n",
        "        ((a + b) / ((a + b) / ((a / c) + (b / d))))\n",
        "        * e\n",
        "        * f\n",
        "    )\n",
        ")"
      ]
    },
    {
      "cell_type": "code",
      "execution_count": 34,
      "metadata": {},
      "outputs": [
        {
          "data": {
            "text/plain": [
              "-20.0"
            ]
          },
          "execution_count": 34,
          "metadata": {},
          "output_type": "execute_result"
        }
      ],
      "source": [
        "round((\n",
        "    (((a / c) + (b / d)) * (e - ((a + b) / ((a / c) + (b / d)))))\n",
        "    - (((a / c) + (b / d)) * ((a + b) / ((a / c) + (b / d))) * f)\n",
        "    - (((a / c) + (b / d)) * e * f)\n",
        "), 2)"
      ]
    },
    {
      "cell_type": "code",
      "execution_count": 43,
      "metadata": {},
      "outputs": [
        {
          "data": {
            "text/plain": [
              "988.5756176043551"
            ]
          },
          "execution_count": 43,
          "metadata": {},
          "output_type": "execute_result"
        }
      ],
      "source": [
        "-(\n",
        "    (pl * c * d + c * b * d - e * c * b + e * c * b * f + c * b * d * f)\n",
        "    / (d * (c - e + c * f + e * f))\n",
        ")"
      ]
    },
    {
      "cell_type": "code",
      "execution_count": 49,
      "metadata": {},
      "outputs": [
        {
          "data": {
            "text/plain": [
              "-19.997211624427706"
            ]
          },
          "execution_count": 49,
          "metadata": {},
          "output_type": "execute_result"
        }
      ],
      "source": [
        "# possible total loss\n",
        "((init_size_value/init_entry)*(init_sl_p - init_entry)) - ((init_size_value/init_entry)*init_entry*fee) - ((init_size_value/init_entry)*init_sl_p*fee) + -(eq * size_pct)"
      ]
    },
    {
      "cell_type": "code",
      "execution_count": 53,
      "metadata": {},
      "outputs": [
        {
          "data": {
            "text/plain": [
              "0.01"
            ]
          },
          "execution_count": 53,
          "metadata": {},
          "output_type": "execute_result"
        }
      ],
      "source": [
        "(1000-990) / 1000"
      ]
    }
  ],
  "metadata": {
    "kernelspec": {
      "display_name": "qfFree",
      "language": "python",
      "name": "python3"
    },
    "language_info": {
      "codemirror_mode": {
        "name": "ipython",
        "version": 3
      },
      "file_extension": ".py",
      "mimetype": "text/x-python",
      "name": "python",
      "nbconvert_exporter": "python",
      "pygments_lexer": "ipython3",
      "version": "3.10.10"
    },
    "orig_nbformat": 4
  },
  "nbformat": 4,
  "nbformat_minor": 2
}
