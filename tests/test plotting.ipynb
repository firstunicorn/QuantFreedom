{
  "cells": [
    {
      "cell_type": "code",
      "execution_count": 1,
      "metadata": {},
      "outputs": [],
      "source": [
        "# import os\n",
        "# import sys\n",
        "# sys.dont_write_bytecode = True\n",
        "# os.environ[\"NUMBA_DISABLE_JIT\"] = \"1\"\n",
        "\n",
        "import pandas as pd\n",
        "import numpy as np\n",
        "from quantfreedom.nb.simulate import simulate_up_to_6\n",
        "from quantfreedom.enums.enums import (\n",
        "    LeverageMode,\n",
        "    SizeType,\n",
        "    OrderType,\n",
        "    SL_BE_or_Trail_BasedOn,\n",
        ")\n",
        "from quantfreedom.indicators.talib_ind import from_talib\n",
        "from quantfreedom.evaluators.evaluators import eval_is_below\n",
        "from quantfreedom.plotting.strat_dash import strat_dashboard\n",
        "\n",
        "np.set_printoptions(formatter={'float_kind':\"{:.2f}\".format})\n",
        "\n",
        "pd.options.display.float_format = '{:,.2f}'.format\n",
        "\n",
        "prices = pd.read_csv(\n",
        "    'data/30min.csv', index_col='time')\n",
        "\n",
        "rsi_ind = from_talib(\n",
        "    func_name='rsi',\n",
        "    df_prices=prices,\n",
        "    cart_product=False,\n",
        "    combos=False,\n",
        "    timeperiod=30,\n",
        ")\n",
        "\n",
        "rsi_eval = eval_is_below(\n",
        "    rsi_ind,\n",
        "    60,\n",
        ")\n"
      ]
    },
    {
      "cell_type": "code",
      "execution_count": 2,
      "metadata": {},
      "outputs": [],
      "source": [
        "final_array, order_records = simulate_up_to_6(\n",
        "    open_prices=prices.open.values,\n",
        "    high_prices=prices.high.values,\n",
        "    low_prices=prices.low.values,\n",
        "    close_prices=prices.close.values,\n",
        "    entries=rsi_eval.values,\n",
        "    equity=1000.,\n",
        "    fee_pct=.06,\n",
        "    mmr=.5,\n",
        "    lev_mode=LeverageMode.LeastFreeCashUsed,\n",
        "    size_type=SizeType.RiskPercentOfAccount,\n",
        "    order_type=OrderType.LongEntry,\n",
        "    max_equity_risk_pct=4,\n",
        "    risk_rewards=4,\n",
        "    size_pct=1.,\n",
        "    # sl_pcts=[2,3,4],\n",
        "    tsl_true_or_false=True,\n",
        "    tsl_based_on=SL_BE_or_Trail_BasedOn.low_price,\n",
        "    tsl_pcts_init=4,\n",
        "    tsl_trail_by_pct=4,\n",
        "    tsl_when_pct_from_avg_entry=4,\n",
        ")\n"
      ]
    },
    {
      "cell_type": "code",
      "execution_count": 3,
      "metadata": {},
      "outputs": [
        {
          "name": "stdout",
          "output_type": "stream",
          "text": [
            "Dash is running on http://127.0.0.1:3003/\n",
            "\n",
            "Dash app running on http://127.0.0.1:3003/\n"
          ]
        }
      ],
      "source": [
        "strat_dashboard(\n",
        "    prices=prices,\n",
        "    eval_results=rsi_eval,\n",
        "    order_records=order_records,\n",
        "    talib_indicator=rsi_ind,\n",
        "    \n",
        ")"
      ]
    }
  ],
  "metadata": {
    "kernelspec": {
      "display_name": "qfFree",
      "language": "python",
      "name": "python3"
    },
    "language_info": {
      "codemirror_mode": {
        "name": "ipython",
        "version": 3
      },
      "file_extension": ".py",
      "mimetype": "text/x-python",
      "name": "python",
      "nbconvert_exporter": "python",
      "pygments_lexer": "ipython3",
      "version": "3.10.10"
    },
    "orig_nbformat": 4
  },
  "nbformat": 4,
  "nbformat_minor": 2
}
