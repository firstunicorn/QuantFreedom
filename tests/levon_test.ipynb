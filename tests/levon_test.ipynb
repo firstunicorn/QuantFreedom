{
 "cells": [
  {
   "cell_type": "code",
   "execution_count": 9,
   "metadata": {},
   "outputs": [],
   "source": [
    "import numpy as np\n",
    "import pandas as pd\n",
    "from quantfreedom import generate_candles\n",
    "from quantfreedom.levon_qf.talib_ind_levon import from_talib"
   ]
  },
  {
   "cell_type": "code",
   "execution_count": 10,
   "metadata": {},
   "outputs": [],
   "source": [
    "price_data = generate_candles(\n",
    "    number_of_candles=200,\n",
    "    plot_candles=False,\n",
    "    seed=None,\n",
    ")"
   ]
  },
  {
   "cell_type": "code",
   "execution_count": 17,
   "metadata": {},
   "outputs": [
    {
     "ename": "ValueError",
     "evalue": "Length of names must match number of levels in MultiIndex.",
     "output_type": "error",
     "traceback": [
      "\u001b[1;31m---------------------------------------------------------------------------\u001b[0m",
      "\u001b[1;31mValueError\u001b[0m                                Traceback (most recent call last)",
      "Cell \u001b[1;32mIn[17], line 17\u001b[0m\n\u001b[0;32m     15\u001b[0m rsi_ema_ind\u001b[39m.\u001b[39mdata\n\u001b[0;32m     16\u001b[0m rsi_data\u001b[39m.\u001b[39mis_below(indicator_data\u001b[39m=\u001b[39mrsi_ema_ind\u001b[39m.\u001b[39mdata)\n\u001b[1;32m---> 17\u001b[0m rsi_data\u001b[39m.\u001b[39;49mcombined_data_frame([\u001b[39m'\u001b[39;49m\u001b[39mis_below0\u001b[39;49m\u001b[39m'\u001b[39;49m, \u001b[39m'\u001b[39;49m\u001b[39mis_below1\u001b[39;49m\u001b[39m'\u001b[39;49m])\n",
      "File \u001b[1;32me:\\coding\\backtesters\\quantfreedom\\quantfreedom\\levon_qf\\indicators_cls.py:30\u001b[0m, in \u001b[0;36mIndicator.combined_data_frame\u001b[1;34m(self, eval_names)\u001b[0m\n\u001b[0;32m     28\u001b[0m         b \u001b[39m=\u001b[39m curr_val\n\u001b[0;32m     29\u001b[0m     \u001b[39melse\u001b[39;00m:\n\u001b[1;32m---> 30\u001b[0m         b \u001b[39m=\u001b[39m b \u001b[39m&\u001b[39;49m curr_val\n\u001b[0;32m     31\u001b[0m \u001b[39mreturn\u001b[39;00m b\n",
      "File \u001b[1;32me:\\Coding\\virtual environments\\qfFree\\lib\\site-packages\\pandas\\core\\ops\\common.py:72\u001b[0m, in \u001b[0;36m_unpack_zerodim_and_defer.<locals>.new_method\u001b[1;34m(self, other)\u001b[0m\n\u001b[0;32m     68\u001b[0m             \u001b[39mreturn\u001b[39;00m \u001b[39mNotImplemented\u001b[39m\n\u001b[0;32m     70\u001b[0m other \u001b[39m=\u001b[39m item_from_zerodim(other)\n\u001b[1;32m---> 72\u001b[0m \u001b[39mreturn\u001b[39;00m method(\u001b[39mself\u001b[39;49m, other)\n",
      "File \u001b[1;32me:\\Coding\\virtual environments\\qfFree\\lib\\site-packages\\pandas\\core\\arraylike.py:72\u001b[0m, in \u001b[0;36mOpsMixin.__and__\u001b[1;34m(self, other)\u001b[0m\n\u001b[0;32m     70\u001b[0m \u001b[39m@unpack_zerodim_and_defer\u001b[39m(\u001b[39m\"\u001b[39m\u001b[39m__and__\u001b[39m\u001b[39m\"\u001b[39m)\n\u001b[0;32m     71\u001b[0m \u001b[39mdef\u001b[39;00m \u001b[39m__and__\u001b[39m(\u001b[39mself\u001b[39m, other):\n\u001b[1;32m---> 72\u001b[0m     \u001b[39mreturn\u001b[39;00m \u001b[39mself\u001b[39;49m\u001b[39m.\u001b[39;49m_logical_method(other, operator\u001b[39m.\u001b[39;49mand_)\n",
      "File \u001b[1;32me:\\Coding\\virtual environments\\qfFree\\lib\\site-packages\\pandas\\core\\frame.py:7586\u001b[0m, in \u001b[0;36mDataFrame._arith_method\u001b[1;34m(self, other, op)\u001b[0m\n\u001b[0;32m   7585\u001b[0m \u001b[39mdef\u001b[39;00m \u001b[39m_arith_method\u001b[39m(\u001b[39mself\u001b[39m, other, op):\n\u001b[1;32m-> 7586\u001b[0m     \u001b[39mif\u001b[39;00m ops\u001b[39m.\u001b[39;49mshould_reindex_frame_op(\u001b[39mself\u001b[39;49m, other, op, \u001b[39m1\u001b[39;49m, \u001b[39m1\u001b[39;49m, \u001b[39mNone\u001b[39;49;00m, \u001b[39mNone\u001b[39;49;00m):\n\u001b[0;32m   7587\u001b[0m         \u001b[39mreturn\u001b[39;00m ops\u001b[39m.\u001b[39mframe_arith_method_with_reindex(\u001b[39mself\u001b[39m, other, op)\n\u001b[0;32m   7589\u001b[0m     axis \u001b[39m=\u001b[39m \u001b[39m1\u001b[39m  \u001b[39m# only relevant for Series other case\u001b[39;00m\n",
      "File \u001b[1;32me:\\Coding\\virtual environments\\qfFree\\lib\\site-packages\\pandas\\core\\ops\\__init__.py:336\u001b[0m, in \u001b[0;36mshould_reindex_frame_op\u001b[1;34m(left, right, op, axis, default_axis, fill_value, level)\u001b[0m\n\u001b[0;32m    334\u001b[0m left_uniques \u001b[39m=\u001b[39m left\u001b[39m.\u001b[39mcolumns\u001b[39m.\u001b[39munique()\n\u001b[0;32m    335\u001b[0m right_uniques \u001b[39m=\u001b[39m right\u001b[39m.\u001b[39mcolumns\u001b[39m.\u001b[39munique()\n\u001b[1;32m--> 336\u001b[0m cols \u001b[39m=\u001b[39m left_uniques\u001b[39m.\u001b[39;49mintersection(right_uniques)\n\u001b[0;32m    337\u001b[0m \u001b[39mif\u001b[39;00m \u001b[39mlen\u001b[39m(cols) \u001b[39mand\u001b[39;00m \u001b[39mnot\u001b[39;00m (\n\u001b[0;32m    338\u001b[0m     \u001b[39mlen\u001b[39m(cols) \u001b[39m==\u001b[39m \u001b[39mlen\u001b[39m(left_uniques) \u001b[39mand\u001b[39;00m \u001b[39mlen\u001b[39m(cols) \u001b[39m==\u001b[39m \u001b[39mlen\u001b[39m(right_uniques)\n\u001b[0;32m    339\u001b[0m ):\n\u001b[0;32m    340\u001b[0m     \u001b[39m# TODO: is there a shortcut available when len(cols) == 0?\u001b[39;00m\n\u001b[0;32m    341\u001b[0m     \u001b[39mreturn\u001b[39;00m \u001b[39mTrue\u001b[39;00m\n",
      "File \u001b[1;32me:\\Coding\\virtual environments\\qfFree\\lib\\site-packages\\pandas\\core\\indexes\\base.py:3514\u001b[0m, in \u001b[0;36mIndex.intersection\u001b[1;34m(self, other, sort)\u001b[0m\n\u001b[0;32m   3511\u001b[0m     \u001b[39mreturn\u001b[39;00m this\u001b[39m.\u001b[39mintersection(other, sort\u001b[39m=\u001b[39msort)\n\u001b[0;32m   3513\u001b[0m result \u001b[39m=\u001b[39m \u001b[39mself\u001b[39m\u001b[39m.\u001b[39m_intersection(other, sort\u001b[39m=\u001b[39msort)\n\u001b[1;32m-> 3514\u001b[0m \u001b[39mreturn\u001b[39;00m \u001b[39mself\u001b[39;49m\u001b[39m.\u001b[39;49m_wrap_intersection_result(other, result)\n",
      "File \u001b[1;32me:\\Coding\\virtual environments\\qfFree\\lib\\site-packages\\pandas\\core\\indexes\\multi.py:3682\u001b[0m, in \u001b[0;36mMultiIndex._wrap_intersection_result\u001b[1;34m(self, other, result)\u001b[0m\n\u001b[0;32m   3679\u001b[0m _, result_names \u001b[39m=\u001b[39m \u001b[39mself\u001b[39m\u001b[39m.\u001b[39m_convert_can_do_setop(other)\n\u001b[0;32m   3681\u001b[0m \u001b[39mif\u001b[39;00m \u001b[39mlen\u001b[39m(result) \u001b[39m==\u001b[39m \u001b[39m0\u001b[39m:\n\u001b[1;32m-> 3682\u001b[0m     \u001b[39mreturn\u001b[39;00m MultiIndex(\n\u001b[0;32m   3683\u001b[0m         levels\u001b[39m=\u001b[39;49m\u001b[39mself\u001b[39;49m\u001b[39m.\u001b[39;49mlevels,\n\u001b[0;32m   3684\u001b[0m         codes\u001b[39m=\u001b[39;49m[[]] \u001b[39m*\u001b[39;49m \u001b[39mself\u001b[39;49m\u001b[39m.\u001b[39;49mnlevels,\n\u001b[0;32m   3685\u001b[0m         names\u001b[39m=\u001b[39;49mresult_names,\n\u001b[0;32m   3686\u001b[0m         verify_integrity\u001b[39m=\u001b[39;49m\u001b[39mFalse\u001b[39;49;00m,\n\u001b[0;32m   3687\u001b[0m     )\n\u001b[0;32m   3688\u001b[0m \u001b[39melse\u001b[39;00m:\n\u001b[0;32m   3689\u001b[0m     \u001b[39mreturn\u001b[39;00m MultiIndex\u001b[39m.\u001b[39mfrom_arrays(\u001b[39mzip\u001b[39m(\u001b[39m*\u001b[39mresult), sortorder\u001b[39m=\u001b[39m\u001b[39m0\u001b[39m, names\u001b[39m=\u001b[39mresult_names)\n",
      "File \u001b[1;32me:\\Coding\\virtual environments\\qfFree\\lib\\site-packages\\pandas\\core\\indexes\\multi.py:334\u001b[0m, in \u001b[0;36mMultiIndex.__new__\u001b[1;34m(cls, levels, codes, sortorder, names, dtype, copy, name, verify_integrity)\u001b[0m\n\u001b[0;32m    331\u001b[0m result\u001b[39m.\u001b[39m_names \u001b[39m=\u001b[39m [\u001b[39mNone\u001b[39;00m] \u001b[39m*\u001b[39m \u001b[39mlen\u001b[39m(levels)\n\u001b[0;32m    332\u001b[0m \u001b[39mif\u001b[39;00m names \u001b[39mis\u001b[39;00m \u001b[39mnot\u001b[39;00m \u001b[39mNone\u001b[39;00m:\n\u001b[0;32m    333\u001b[0m     \u001b[39m# handles name validation\u001b[39;00m\n\u001b[1;32m--> 334\u001b[0m     result\u001b[39m.\u001b[39;49m_set_names(names)\n\u001b[0;32m    336\u001b[0m \u001b[39mif\u001b[39;00m sortorder \u001b[39mis\u001b[39;00m \u001b[39mnot\u001b[39;00m \u001b[39mNone\u001b[39;00m:\n\u001b[0;32m    337\u001b[0m     result\u001b[39m.\u001b[39msortorder \u001b[39m=\u001b[39m \u001b[39mint\u001b[39m(sortorder)\n",
      "File \u001b[1;32me:\\Coding\\virtual environments\\qfFree\\lib\\site-packages\\pandas\\core\\indexes\\multi.py:1474\u001b[0m, in \u001b[0;36mMultiIndex._set_names\u001b[1;34m(self, names, level, validate)\u001b[0m\n\u001b[0;32m   1472\u001b[0m         \u001b[39mraise\u001b[39;00m \u001b[39mValueError\u001b[39;00m(\u001b[39m\"\u001b[39m\u001b[39mLength of names must match length of level.\u001b[39m\u001b[39m\"\u001b[39m)\n\u001b[0;32m   1473\u001b[0m     \u001b[39mif\u001b[39;00m level \u001b[39mis\u001b[39;00m \u001b[39mNone\u001b[39;00m \u001b[39mand\u001b[39;00m \u001b[39mlen\u001b[39m(names) \u001b[39m!=\u001b[39m \u001b[39mself\u001b[39m\u001b[39m.\u001b[39mnlevels:\n\u001b[1;32m-> 1474\u001b[0m         \u001b[39mraise\u001b[39;00m \u001b[39mValueError\u001b[39;00m(\n\u001b[0;32m   1475\u001b[0m             \u001b[39m\"\u001b[39m\u001b[39mLength of names must match number of levels in MultiIndex.\u001b[39m\u001b[39m\"\u001b[39m\n\u001b[0;32m   1476\u001b[0m         )\n\u001b[0;32m   1478\u001b[0m \u001b[39mif\u001b[39;00m level \u001b[39mis\u001b[39;00m \u001b[39mNone\u001b[39;00m:\n\u001b[0;32m   1479\u001b[0m     level \u001b[39m=\u001b[39m \u001b[39mrange\u001b[39m(\u001b[39mself\u001b[39m\u001b[39m.\u001b[39mnlevels)\n",
      "\u001b[1;31mValueError\u001b[0m: Length of names must match number of levels in MultiIndex."
     ]
    }
   ],
   "source": [
    "rsi_data = from_talib(\n",
    "     func_name=\"rsi\",\n",
    "     price_data=price_data,\n",
    "    timeperiod=15,\n",
    "    plot_results=False,\n",
    "    # price=\"low\",\n",
    ")\n",
    "rsi_ema_ind = from_talib(\n",
    "    func_name='ema',\n",
    "    indicator_data=rsi_data.data,\n",
    "    combos=False,\n",
    "    timeperiod=30\n",
    ")\n",
    "rsi_data.is_below(user_args=45)\n",
    "rsi_ema_ind.data\n",
    "rsi_data.is_below(indicator_data=rsi_ema_ind.data)\n",
    "rsi_data.combined_data_frame(['is_below0', 'is_below1'])\n"
   ]
  }
 ],
 "metadata": {
  "kernelspec": {
   "display_name": "qfFree",
   "language": "python",
   "name": "python3"
  },
  "language_info": {
   "codemirror_mode": {
    "name": "ipython",
    "version": 3
   },
   "file_extension": ".py",
   "mimetype": "text/x-python",
   "name": "python",
   "nbconvert_exporter": "python",
   "pygments_lexer": "ipython3",
   "version": "3.10.10"
  },
  "orig_nbformat": 4
 },
 "nbformat": 4,
 "nbformat_minor": 2
}
