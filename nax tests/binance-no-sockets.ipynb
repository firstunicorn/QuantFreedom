{
  "cells": [
    {
      "cell_type": "code",
      "execution_count": 1,
      "metadata": {},
      "outputs": [],
      "source": [
        "import logging"
      ]
    },
    {
      "cell_type": "code",
      "execution_count": 6,
      "metadata": {
        "colab": {
          "base_uri": "https://localhost:8080/"
        },
        "id": "xPcfyvkxp6vc",
        "outputId": "72799a1f-f25b-4a3f-f62d-92de44bd0a60"
      },
      "outputs": [
        {
          "name": "stdout",
          "output_type": "stream",
          "text": [
            "Collecting sqlalchemy_utils\n",
            "  Downloading SQLAlchemy_Utils-0.41.1-py3-none-any.whl (92 kB)\n",
            "     --------------------------------------- 92.6/92.6 kB 47.9 kB/s eta 0:00:00\n",
            "Requirement already satisfied: SQLAlchemy>=1.3 in c:\\coding\\qffree\\lib\\site-packages (from sqlalchemy_utils) (2.0.11)\n",
            "Requirement already satisfied: typing-extensions>=4.2.0 in c:\\coding\\qffree\\lib\\site-packages (from SQLAlchemy>=1.3->sqlalchemy_utils) (4.5.0)\n",
            "Requirement already satisfied: greenlet!=0.4.17 in c:\\coding\\qffree\\lib\\site-packages (from SQLAlchemy>=1.3->sqlalchemy_utils) (2.0.2)\n",
            "Installing collected packages: sqlalchemy_utils\n",
            "Successfully installed sqlalchemy_utils-0.41.1\n"
          ]
        },
        {
          "name": "stderr",
          "output_type": "stream",
          "text": [
            "\n",
            "[notice] A new release of pip available: 22.3.1 -> 23.1.1\n",
            "[notice] To update, run: python.exe -m pip install --upgrade pip\n"
          ]
        }
      ],
      "source": [
        "# Tutorial: https://youtu.be/rc_Y6rdBqXM\n",
        "###!pip install binance\n",
        "#!pip install python-binance\n",
        "\n",
        "#!pip install python-decouple\n",
        "\n",
        "#!pip install sqlalchemy\n",
        "#!pip install sqlalchemy_utils"
      ]
    },
    {
      "cell_type": "code",
      "execution_count": 7,
      "metadata": {
        "id": "bRTvBB9RuLcZ"
      },
      "outputs": [],
      "source": [
        "# Binance, including sockets\n",
        "from binance import BinanceSocketManager\n",
        "from binance.client import Client\n",
        "from binance import Client#, ThreadedWebsocketManager, ThreadedDepthCacheManager\n",
        "import datetime as dt\n",
        "\n",
        "from secretttfolder import keystestnet\n",
        "\n",
        "# Standart libraries\n",
        "import pandas as pd\n",
        "import numpy as np\n",
        "\n",
        "import time\n",
        "\n",
        "from sqlalchemy import create_engine\n",
        "from sqlalchemy.orm import sessionmaker\n",
        "from sqlalchemy_utils import database_exists, create_database\n",
        "\n",
        "\n",
        "# API keys:\n",
        "api_key = keystestnet.api_key\n",
        "api_secret = keystestnet.api_secret\n",
        "client = Client(api_key, api_secret, testnet=True)\n",
        "client.API_URL = 'https://testnet.binance.vision/api'\n",
        "\n",
        "# Settings:\n",
        "symb = \"BTCUSDT\"\n",
        "interval = \"5MINUTE\""
      ]
    },
    {
      "cell_type": "code",
      "execution_count": 8,
      "metadata": {
        "id": "okJnS1dRDIFK"
      },
      "outputs": [],
      "source": [
        "candles = client.get_klines(symbol=symb, interval=Client.KLINE_INTERVAL_5MINUTE)\n",
        "numpycandles = np.array(candles)\n",
        "\n",
        "# reshape date to pandas\n",
        "df = pd.DataFrame(numpycandles.reshape(-1, 12), dtype=float, columns=('Open Time','Open','High','Low','Close','Volume','Close time','Quote asset volume','Number of trades','Taker buy base asset volume','Taker buy quote asset volume','Ignore'))\n",
        "df['Open Time'] = pd.to_datetime(df['Open Time'], unit='ms')\n",
        "\n",
        "# convert_to_hdf5 = df.to_hdf('prices.h5', key='binance_prices', mode='a')\n",
        "\n",
        "close_prices = df['Close']\n"
      ]
    },
    {
      "cell_type": "code",
      "execution_count": 9,
      "metadata": {
        "id": "tvQki7G7j9Kb"
      },
      "outputs": [],
      "source": [
        "# Define the RSI indicator\n",
        "def rsi(price, period=14):\n",
        "    delta = price.diff()\n",
        "    gain = delta.where(delta > 0, 0)\n",
        "    loss = -delta.where(delta < 0, 0)\n",
        "    avg_gain = gain.rolling(period).mean()\n",
        "    avg_loss = loss.rolling(period).mean()\n",
        "    rs = avg_gain / avg_loss\n",
        "    return 100 - (100 / (1 + rs))\n",
        "\n",
        "# Calculate the RSI indicator\n",
        "rsi_indicator = rsi(df['Close'])\n",
        "\n",
        "\n",
        "# Define Divergence \n",
        "def divergence(price_set, rsi_window=14, fast_ma = 1, slow_ma = 50):\n",
        "\n",
        "# Calculate the RSI indicator for using in calculation of divergence \n",
        "   rsi_indicator = rsi(price_set)\n",
        "\n",
        "# Calculate the Divergence indicator. \n",
        "   bullish_divergence = ((price_set.diff()<0) & (rsi_indicator.diff() > 0))\n",
        "   bearish_divergence = ((price_set.diff()<0) & (rsi_indicator.diff() < 0))\n",
        "\n",
        "   fast_ma_df = df[f'ma{fast_ma}'] = df['Close'].rolling(window=fast_ma).mean()\n",
        "   slow_ma_df = df[f'ma{slow_ma}'] = df['Close'].rolling(window=slow_ma).mean()\n",
        "   trend_up = fast_ma_df > slow_ma_df\n",
        "   trend_down = fast_ma_df < slow_ma_df\n",
        "   \n",
        "   # Combine all previous indicators into the one \n",
        "   # We need that if bullish_divergence (trend_up), True PLUS fast MA above slow MA, then set 1, everything else - 0. If bearish_divergence True, PLUS fast MA above slow MA (trend_down), then set -1\n",
        "   indicator = np.where( ( ( (bullish_divergence) == True)  & (trend_up == True) ), 1, 0)\n",
        "   indicator = np.where( ( ( (bearish_divergence) == True)  & (trend_down == True) ), -1, indicator)\n",
        "   \n",
        "   return indicator\n",
        "\n",
        "diver = divergence(close_prices, rsi_window=14, fast_ma = 1, slow_ma = 50)\n",
        "last_indicator_value = diver[-1]"
      ]
    },
    {
      "cell_type": "code",
      "execution_count": 10,
      "metadata": {},
      "outputs": [
        {
          "data": {
            "text/plain": [
              "-1"
            ]
          },
          "execution_count": 10,
          "metadata": {},
          "output_type": "execute_result"
        }
      ],
      "source": [
        "last_indicator_value"
      ]
    },
    {
      "cell_type": "code",
      "execution_count": null,
      "metadata": {},
      "outputs": [],
      "source": [
        "#last_indicator_value = 1"
      ]
    },
    {
      "cell_type": "code",
      "execution_count": 11,
      "metadata": {},
      "outputs": [
        {
          "data": {
            "text/plain": [
              "-1"
            ]
          },
          "execution_count": 11,
          "metadata": {},
          "output_type": "execute_result"
        }
      ],
      "source": [
        "#last_indicator_value"
      ]
    },
    {
      "cell_type": "code",
      "execution_count": 16,
      "metadata": {
        "id": "W7LOTfcNyd-B"
      },
      "outputs": [
        {
          "name": "stdout",
          "output_type": "stream",
          "text": [
            "2023-04-27 15:36:46.306404\n"
          ]
        }
      ],
      "source": [
        "def trade(ticker, lotsize, open_position = False):\n",
        "  bm = BinanceSocketManager(client)\n",
        "  trade_socket = bm.trade_socket(ticker)\n",
        "  print(dt.datetime.now())\n",
        "  if last_indicator_value > 0 and last_indicator_value != 0 and not open_position:\n",
        "    order = client.create_order(symbol=ticker,\n",
        "                                side='BUY',\n",
        "                                type='MARKET',\n",
        "                                quantity=lotsize)\n",
        "    print(order)\n",
        "    buyprice = float(order['fills'][0]['price'])\n",
        "    open_position = True\n",
        "    return\n",
        "  if open_position and last_indicator_value < 0 and last_indicator_value != 0:\n",
        "      order = client.create_order(symbol=ticker,\n",
        "                                side='SELL',\n",
        "                                type='MARKET',\n",
        "                                quantity=lotsize)\n",
        "      print(order)\n",
        "      return\n",
        "  time.sleep(1)  # sleep 1 seconds\n",
        "  \n",
        "trade('BTCUSDT', 0.001)"
      ]
    },
    {
      "cell_type": "code",
      "execution_count": null,
      "metadata": {},
      "outputs": [
        {
          "data": {
            "text/plain": [
              "{'makerCommission': 0,\n",
              " 'takerCommission': 0,\n",
              " 'buyerCommission': 0,\n",
              " 'sellerCommission': 0,\n",
              " 'commissionRates': {'maker': '0.00000000',\n",
              "  'taker': '0.00000000',\n",
              "  'buyer': '0.00000000',\n",
              "  'seller': '0.00000000'},\n",
              " 'canTrade': True,\n",
              " 'canWithdraw': False,\n",
              " 'canDeposit': False,\n",
              " 'brokered': False,\n",
              " 'requireSelfTradePrevention': False,\n",
              " 'updateTime': 1682543376264,\n",
              " 'accountType': 'SPOT',\n",
              " 'balances': [{'asset': 'BNB',\n",
              "   'free': '1000.00000000',\n",
              "   'locked': '0.00000000'},\n",
              "  {'asset': 'BTC', 'free': '1.00100000', 'locked': '0.00000000'},\n",
              "  {'asset': 'BUSD', 'free': '10000.00000000', 'locked': '0.00000000'},\n",
              "  {'asset': 'ETH', 'free': '100.00000000', 'locked': '0.00000000'},\n",
              "  {'asset': 'LTC', 'free': '500.00000000', 'locked': '0.00000000'},\n",
              "  {'asset': 'TRX', 'free': '500000.00000000', 'locked': '0.00000000'},\n",
              "  {'asset': 'USDT', 'free': '9971.71808000', 'locked': '0.00000000'},\n",
              "  {'asset': 'XRP', 'free': '50000.00000000', 'locked': '0.00000000'}],\n",
              " 'permissions': ['SPOT']}"
            ]
          },
          "execution_count": 20,
          "metadata": {},
          "output_type": "execute_result"
        }
      ],
      "source": [
        "# info = client.get_account()\n",
        "# info"
      ]
    },
    {
      "cell_type": "code",
      "execution_count": null,
      "metadata": {
        "id": "Szo8k7_k1yKp"
      },
      "outputs": [],
      "source": [
        "\"\"\"1. Check balance\n",
        "2. Check if price of current candle is not differ by x% from price from other exchange\n",
        "3. Check if Ta-Lib indicator value not differ more than y% from another exchange\n",
        "4. Check open positions\n",
        "5. Check id position already open\n",
        "6. Open position characteristics: long/short, timeframe, symbol, indicators values. Are any other positions with same characteristics? If yes, than it's duplicate \n",
        "7. Before Closing: check position\n",
        "8. After closing: position closed? Ok, go check if we have opposite signal. We have opposite signal? Ok, go open opposite Trade Position\n",
        "9. Position open time\n",
        "10. How many bars passed\n",
        "11. Get order ID\n",
        "\"\"\"\n",
        "\n",
        "\n",
        "\n",
        "\n",
        "\"\"\"You can configure the logging module to handle both the Python prints and the technical debugging information in the same file by adding another handler to the logger.\n",
        "\n",
        "Here's an example of how you can do this:\n",
        "\n",
        "import logging\n",
        "import sys\n",
        "\n",
        "# Initialize the logger with the desired settings\n",
        "logger = logging.getLogger()\n",
        "logger.setLevel(logging.DEBUG)\n",
        "\n",
        "# Create a handler for writing to a file\n",
        "file_handler = logging.FileHandler('/path/to/your/logfile.log')\n",
        "file_handler.setLevel(logging.DEBUG)\n",
        "file_handler.setFormatter(logging.Formatter('%(asctime)s [%(levelname)s]: %(message)s'))\n",
        "\n",
        "# Create a handler for writing to the console (i.e. the Python prints)\n",
        "console_handler = logging.StreamHandler(sys.stdout)\n",
        "console_handler.setLevel(logging.INFO)\n",
        "console_handler.setFormatter(logging.Formatter('%(message)s'))\n",
        "\n",
        "# Add both handlers to the logger\n",
        "logger.addHandler(file_handler)\n",
        "logger.addHandler(console_handler)\n",
        "\"\"\"\n",
        "\n",
        "\n",
        "\"\"\"you can configure Loguru to log to a file and to the console (i.e. the Python prints) in the same format:\n",
        "\n",
        "import sys\n",
        "from loguru import logger\n",
        "\n",
        "# Configure the logger\n",
        "logger.remove()  # Remove the default sink\n",
        "logger.add(sys.stdout, level='INFO', format='{message}')\n",
        "logger.add(\"/path/to/your/logfile.log\", level='DEBUG', format=\"{time} {level}: {message}\")\n",
        "\n",
        "# Use the logger to write log messages\n",
        "logger.info(\"This is an info message that will be printed to the console and written to the log file\")\n",
        "logger.debug(\"This is a debug message that will only be written to the log file\")\n",
        "\"\"\"\n",
        "\"\"\"\n",
        "Here's an updated version of the code that sets the maximum possible log level to TRACE and includes additional details in the log format:\n",
        "\n",
        "python\n",
        "\n",
        "\n",
        "import sys\n",
        "from loguru import logger\n",
        "\n",
        "# Configure the logger\n",
        "logger.remove()  # Remove the default sink\n",
        "logger.add(sys.stdout, level='TRACE', format='<green>{time:YYYY-MM-DD HH:mm:ss.SSS}</green> | <level>{level}</level> | <cyan>{name}:{function}:{line}</cyan> | <level>{message}</level>')\n",
        "logger.add(\"/path/to/your/logfile.log\", level='TRACE', format=\"{time:YYYY-MM-DD HH:mm:ss.SSS} | {level} | {name}:{function}:{line} | {message}\")\n",
        "\n",
        "# Use the logger to write log messages\n",
        "logger.info(\"This is an info message that will be printed to the console and written to the log file\")\n",
        "logger.debug(\"This is a debug message that will only be written to the log file\")\n",
        "logger.trace(\"This is a trace message that will be printed to the console and written to the log file, with additional details\")\n",
        "\"\"\""
      ]
    }
  ],
  "metadata": {
    "colab": {
      "provenance": []
    },
    "kernelspec": {
      "display_name": "Python 3",
      "name": "python3"
    },
    "language_info": {
      "codemirror_mode": {
        "name": "ipython",
        "version": 3
      },
      "file_extension": ".py",
      "mimetype": "text/x-python",
      "name": "python",
      "nbconvert_exporter": "python",
      "pygments_lexer": "ipython3",
      "version": "3.10.10"
    }
  },
  "nbformat": 4,
  "nbformat_minor": 0
}
