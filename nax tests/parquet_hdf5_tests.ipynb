{
  "cells": [
    {
      "cell_type": "code",
      "execution_count": 9,
      "metadata": {
        "colab": {
          "base_uri": "https://localhost:8080/"
        },
        "id": "xPcfyvkxp6vc",
        "outputId": "72799a1f-f25b-4a3f-f62d-92de44bd0a60"
      },
      "outputs": [],
      "source": [
        "# Tutorial: https://youtu.be/rc_Y6rdBqXM\n",
        "###!pip install binance\n",
        "#!pip install python-binance"
      ]
    },
    {
      "cell_type": "code",
      "execution_count": 49,
      "metadata": {
        "id": "bRTvBB9RuLcZ"
      },
      "outputs": [],
      "source": [
        "# Binance, including sockets\n",
        "from binance import BinanceSocketManager\n",
        "from binance.client import Client\n",
        "from binance import Client#, ThreadedWebsocketManager, ThreadedDepthCacheManager\n",
        "import datetime as dt\n",
        "\n",
        "from secretttfolder import keystestnet\n",
        "\n",
        "# Standart libraries\n",
        "import pandas as pd\n",
        "import numpy as np\n",
        "\n",
        "import time\n",
        "\n",
        "import h5py\n",
        "import pyarrow.parquet as pq\n",
        "\n",
        "\n",
        "# API keys:\n",
        "api_key = keystestnet.api_key\n",
        "api_secret = keystestnet.api_secret\n",
        "client = Client(api_key, api_secret, testnet=True)\n",
        "client.API_URL = 'https://testnet.binance.vision/api'\n",
        "\n",
        "# Settings:\n",
        "symb = \"BTCUSDT\"\n",
        "interval = \"5MINUTE\""
      ]
    },
    {
      "cell_type": "code",
      "execution_count": 30,
      "metadata": {
        "id": "okJnS1dRDIFK"
      },
      "outputs": [],
      "source": [
        "candles = client.get_klines(symbol=symb, interval=Client.KLINE_INTERVAL_5MINUTE)\n",
        "numpycandles = np.array(candles)\n",
        "\n",
        "# reshape date to pandas\n",
        "df = pd.DataFrame(numpycandles.reshape(-1, 12), dtype=float, columns=('Open Time','Open','High','Low','Close','Volume','Close time','Quote asset volume','Number of trades','Taker buy base asset volume','Taker buy quote asset volume','Ignore'))\n",
        "df['Open Time'] = pd.to_datetime(df['Open Time'], unit='ms')\n",
        "\n",
        "# convert_to_hdf5 = df.to_hdf('prices.h5', key='binance_prices', mode='a')\n",
        "\n",
        "close_prices = df['Close']\n",
        "\n",
        "# convert pandas dataframe to h5py\n",
        "with h5py.File('prices.h5', 'a') as hf:\n",
        "    hf.create_dataset('close_prices', data=close_prices)"
      ]
    },
    {
      "cell_type": "code",
      "execution_count": 48,
      "metadata": {},
      "outputs": [],
      "source": [
        "# write the DataFrame to a parquet file\n",
        "df.to_parquet('example.parquet')"
      ]
    },
    {
      "cell_type": "code",
      "execution_count": 50,
      "metadata": {},
      "outputs": [
        {
          "name": "stdout",
          "output_type": "stream",
          "text": [
            "          axis0  axis1 block0_items  \\\n",
            "0  b'Open Time'      0      b'Open'   \n",
            "1       b'Open'      1      b'High'   \n",
            "2       b'High'      2       b'Low'   \n",
            "3        b'Low'      3     b'Close'   \n",
            "4      b'Close'      4    b'Volume'   \n",
            "\n",
            "                                       block0_values  block1_items  \\\n",
            "0  [27343.96, 27353.79, 27321.37, 27345.72, 20.43...  b'Open Time'   \n",
            "1  [27345.72, 27352.58, 27331.6, 27352.36, 14.813...          None   \n",
            "2  [27352.35, 27369.63, 27351.09, 27369.38, 14.68...          None   \n",
            "3  [27369.38, 27376.08, 27367.34, 27369.74, 9.514...          None   \n",
            "4  [27369.97, 27388.11, 27369.83, 27385.74, 13.47...          None   \n",
            "\n",
            "           block1_values  \n",
            "0  [1682394900000000000]  \n",
            "1  [1682395200000000000]  \n",
            "2  [1682395500000000000]  \n",
            "3  [1682395800000000000]  \n",
            "4  [1682396100000000000]  \n"
          ]
        }
      ],
      "source": [
        "# Read the Parquet file as a Pandas DataFrame\n",
        "df2 = pd.read_parquet('example.parquet')\n",
        "\n",
        "# Print the first 5 rows\n",
        "print(df2.head(5))"
      ]
    },
    {
      "cell_type": "code",
      "execution_count": 39,
      "metadata": {},
      "outputs": [
        {
          "name": "stdout",
          "output_type": "stream",
          "text": [
            "axis0\n",
            "[b'Open Time' b'Open' b'High' b'Low' b'Close']\n",
            "axis1\n",
            "[0 1 2 3 4]\n",
            "block0_items\n",
            "[b'Open' b'High' b'Low' b'Close' b'Volume']\n",
            "block0_values\n",
            "[[2.73439600e+04 2.73537900e+04 2.73213700e+04 2.73457200e+04\n",
            "  2.04305140e+01 1.68239520e+12 5.58572502e+05 5.46000000e+02\n",
            "  9.99235600e+00 2.73209627e+05 0.00000000e+00]\n",
            " [2.73457200e+04 2.73525800e+04 2.73316000e+04 2.73523600e+04\n",
            "  1.48136520e+01 1.68239550e+12 4.05039223e+05 3.77000000e+02\n",
            "  8.47492900e+00 2.31731822e+05 0.00000000e+00]\n",
            " [2.73523500e+04 2.73696300e+04 2.73510900e+04 2.73693800e+04\n",
            "  1.46806560e+01 1.68239580e+12 4.01636404e+05 3.67000000e+02\n",
            "  1.08739010e+01 2.97491840e+05 0.00000000e+00]\n",
            " [2.73693800e+04 2.73760800e+04 2.73673400e+04 2.73697400e+04\n",
            "  9.51475900e+00 1.68239610e+12 2.60428984e+05 2.38000000e+02\n",
            "  5.95587200e+00 1.63017555e+05 0.00000000e+00]\n",
            " [2.73699700e+04 2.73881100e+04 2.73698300e+04 2.73857400e+04\n",
            "  1.34761890e+01 1.68239640e+12 3.68977592e+05 3.48000000e+02\n",
            "  8.81236300e+00 2.41280634e+05 0.00000000e+00]]\n",
            "block1_items\n",
            "[b'Open Time']\n",
            "block1_values\n",
            "[[1682394900000000000]\n",
            " [1682395200000000000]\n",
            " [1682395500000000000]\n",
            " [1682395800000000000]\n",
            " [1682396100000000000]]\n"
          ]
        }
      ],
      "source": [
        "\"\"\"# Print only Open column from hdf5 file\n",
        "# To print only the \"Open\" column from an HDF5 file, you can use the h5py library in Python. Here's an example code snippet:\n",
        " \n",
        "# Open the HDF5 file in read-only mode\n",
        "with h5py.File('prices.h5', 'r') as f:\n",
        "    # Get the dataset containing the data\n",
        "    dataset = f['binance_prices']\n",
        "\n",
        "    # Get the names of all columns in the dataset\n",
        "    column_names = list(dataset.keys())\n",
        "\n",
        "    # Print the first 5 rows of each column\n",
        "    for name in column_names:\n",
        "        print(name)\n",
        "        print(dataset[name][0:5])\n",
        "\n",
        "\"\"\""
      ]
    },
    {
      "cell_type": "code",
      "execution_count": 46,
      "metadata": {},
      "outputs": [
        {
          "name": "stdout",
          "output_type": "stream",
          "text": [
            "          axis0 axis1 block0_items  \\\n",
            "0  b'Open Time'     0      b'Open'   \n",
            "1       b'Open'     1      b'High'   \n",
            "2       b'High'     2       b'Low'   \n",
            "3        b'Low'     3     b'Close'   \n",
            "4      b'Close'     4    b'Volume'   \n",
            "\n",
            "                                       block0_values  block1_items  \\\n",
            "0  [27343.96, 27353.79, 27321.37, 27345.72, 20.43...  b'Open Time'   \n",
            "1  [27345.72, 27352.58, 27331.6, 27352.36, 14.813...          None   \n",
            "2  [27352.35, 27369.63, 27351.09, 27369.38, 14.68...          None   \n",
            "3  [27369.38, 27376.08, 27367.34, 27369.74, 9.514...          None   \n",
            "4  [27369.97, 27388.11, 27369.83, 27385.74, 13.47...          None   \n",
            "\n",
            "           block1_values  \n",
            "0  [1682394900000000000]  \n",
            "1  [1682395200000000000]  \n",
            "2  [1682395500000000000]  \n",
            "3  [1682395800000000000]  \n",
            "4  [1682396100000000000]  \n"
          ]
        }
      ],
      "source": [
        "\"\"\" \n",
        "# Open the HDF5 file in read-only mode\n",
        "with h5py.File('prices.h5', 'r') as f:\n",
        "    # Get the dataset containing the data\n",
        "    dataset = f['binance_prices']\n",
        "\n",
        "    # Get the names of all columns in the dataset\n",
        "    column_names = list(dataset.keys())\n",
        "\n",
        "    # Create a dictionary to store the data\n",
        "    data_dict = {}\n",
        "\n",
        "    # Store the first 5 rows of each column in the dictionary\n",
        "    for name in column_names:\n",
        "        data_dict[name] = dataset[name][0:5]\n",
        "\n",
        "# Convert the dictionary to a pandas DataFrame\n",
        "df = pd.DataFrame.from_dict(data_dict, orient='index').T\n",
        "\n",
        "# Print the DataFrame\n",
        "print(df)\n",
        "\"\"\""
      ]
    },
    {
      "cell_type": "code",
      "execution_count": 12,
      "metadata": {
        "id": "tvQki7G7j9Kb"
      },
      "outputs": [],
      "source": [
        "# Define the RSI indicator\n",
        "def rsi(price, period=14):\n",
        "    delta = price.diff()\n",
        "    gain = delta.where(delta > 0, 0)\n",
        "    loss = -delta.where(delta < 0, 0)\n",
        "    avg_gain = gain.rolling(period).mean()\n",
        "    avg_loss = loss.rolling(period).mean()\n",
        "    rs = avg_gain / avg_loss\n",
        "    return 100 - (100 / (1 + rs))\n",
        "\n",
        "# Calculate the RSI indicator\n",
        "rsi_indicator = rsi(df['Close'])\n",
        "\n",
        "\n",
        "# Define Divergence \n",
        "def divergence(price_set, rsi_window=14, fast_ma = 1, slow_ma = 50):\n",
        "\n",
        "# Calculate the RSI indicator for using in calculation of divergence \n",
        "   rsi_indicator = rsi(price_set)\n",
        "\n",
        "# Calculate the Divergence indicator. \n",
        "   bullish_divergence = ((price_set.diff()<0) & (rsi_indicator.diff() > 0))\n",
        "   bearish_divergence = ((price_set.diff()<0) & (rsi_indicator.diff() < 0))\n",
        "\n",
        "   fast_ma_df = df[f'ma{fast_ma}'] = df['Close'].rolling(window=fast_ma).mean()\n",
        "   slow_ma_df = df[f'ma{slow_ma}'] = df['Close'].rolling(window=slow_ma).mean()\n",
        "   trend_up = fast_ma_df > slow_ma_df\n",
        "   trend_down = fast_ma_df < slow_ma_df\n",
        "   \n",
        "   # Combine all previous indicators into the one \n",
        "   # We need that if bullish_divergence (trend_up), True PLUS fast MA above slow MA, then set 1, everything else - 0. If bearish_divergence True, PLUS fast MA above slow MA (trend_down), then set -1\n",
        "   indicator = np.where( ( ( (bullish_divergence) == True)  & (trend_up == True) ), 1, 0)\n",
        "   indicator = np.where( ( ( (bearish_divergence) == True)  & (trend_down == True) ), -1, indicator)\n",
        "   \n",
        "   return indicator\n",
        "\n",
        "diver = divergence(close_prices, rsi_window=14, fast_ma = 1, slow_ma = 50)\n",
        "last_indicator_value = diver[-1]"
      ]
    },
    {
      "cell_type": "code",
      "execution_count": 13,
      "metadata": {},
      "outputs": [
        {
          "data": {
            "text/plain": [
              "0"
            ]
          },
          "execution_count": 13,
          "metadata": {},
          "output_type": "execute_result"
        }
      ],
      "source": [
        "last_indicator_value"
      ]
    },
    {
      "cell_type": "code",
      "execution_count": 14,
      "metadata": {},
      "outputs": [],
      "source": [
        "last_indicator_value = 1"
      ]
    },
    {
      "cell_type": "code",
      "execution_count": 15,
      "metadata": {},
      "outputs": [
        {
          "data": {
            "text/plain": [
              "1"
            ]
          },
          "execution_count": 15,
          "metadata": {},
          "output_type": "execute_result"
        }
      ],
      "source": [
        "last_indicator_value"
      ]
    },
    {
      "cell_type": "code",
      "execution_count": 16,
      "metadata": {
        "id": "W7LOTfcNyd-B"
      },
      "outputs": [
        {
          "name": "stdout",
          "output_type": "stream",
          "text": [
            "2023-04-27 00:09:35.424656\n",
            "{'symbol': 'BTCUSDT', 'orderId': 11439939, 'orderListId': -1, 'clientOrderId': 'OGmAhXBDpt56sW0i5RIG9T', 'transactTime': 1682543376264, 'price': '0.00000000', 'origQty': '0.00100000', 'executedQty': '0.00100000', 'cummulativeQuoteQty': '28.27804000', 'status': 'FILLED', 'timeInForce': 'GTC', 'type': 'MARKET', 'side': 'BUY', 'workingTime': 1682543376264, 'fills': [{'price': '28278.04000000', 'qty': '0.00100000', 'commission': '0.00000000', 'commissionAsset': 'BTC', 'tradeId': 3523714}], 'selfTradePreventionMode': 'NONE'}\n"
          ]
        }
      ],
      "source": [
        "def trade(ticker, lotsize, open_position = False):\n",
        "  bm = BinanceSocketManager(client)\n",
        "  trade_socket = bm.trade_socket(ticker)\n",
        "  print(dt.datetime.now())\n",
        "  if last_indicator_value > 0 and last_indicator_value != 0 and not open_position:\n",
        "    order = client.create_order(symbol=ticker,\n",
        "                                side='BUY',\n",
        "                                type='MARKET',\n",
        "                                quantity=lotsize)\n",
        "    print(order)\n",
        "    buyprice = float(order['fills'][0]['price'])\n",
        "    open_position = True\n",
        "    return\n",
        "  if open_position and last_indicator_value < 0 and last_indicator_value != 0:\n",
        "      order = client.create_order(symbol=ticker,\n",
        "                                side='SELL',\n",
        "                                type='MARKET',\n",
        "                                quantity=lotsize)\n",
        "      print(order)\n",
        "      return\n",
        "  time.sleep(1)  # sleep 1 seconds\n",
        "  \n",
        "trade('BTCUSDT', 0.001)"
      ]
    },
    {
      "cell_type": "code",
      "execution_count": 20,
      "metadata": {},
      "outputs": [
        {
          "data": {
            "text/plain": [
              "{'makerCommission': 0,\n",
              " 'takerCommission': 0,\n",
              " 'buyerCommission': 0,\n",
              " 'sellerCommission': 0,\n",
              " 'commissionRates': {'maker': '0.00000000',\n",
              "  'taker': '0.00000000',\n",
              "  'buyer': '0.00000000',\n",
              "  'seller': '0.00000000'},\n",
              " 'canTrade': True,\n",
              " 'canWithdraw': False,\n",
              " 'canDeposit': False,\n",
              " 'brokered': False,\n",
              " 'requireSelfTradePrevention': False,\n",
              " 'updateTime': 1682543376264,\n",
              " 'accountType': 'SPOT',\n",
              " 'balances': [{'asset': 'BNB',\n",
              "   'free': '1000.00000000',\n",
              "   'locked': '0.00000000'},\n",
              "  {'asset': 'BTC', 'free': '1.00100000', 'locked': '0.00000000'},\n",
              "  {'asset': 'BUSD', 'free': '10000.00000000', 'locked': '0.00000000'},\n",
              "  {'asset': 'ETH', 'free': '100.00000000', 'locked': '0.00000000'},\n",
              "  {'asset': 'LTC', 'free': '500.00000000', 'locked': '0.00000000'},\n",
              "  {'asset': 'TRX', 'free': '500000.00000000', 'locked': '0.00000000'},\n",
              "  {'asset': 'USDT', 'free': '9971.71808000', 'locked': '0.00000000'},\n",
              "  {'asset': 'XRP', 'free': '50000.00000000', 'locked': '0.00000000'}],\n",
              " 'permissions': ['SPOT']}"
            ]
          },
          "execution_count": 20,
          "metadata": {},
          "output_type": "execute_result"
        }
      ],
      "source": [
        "info = client.get_account()\n",
        "info"
      ]
    },
    {
      "cell_type": "code",
      "execution_count": 18,
      "metadata": {},
      "outputs": [
        {
          "name": "stdout",
          "output_type": "stream",
          "text": [
            "2023-04-27 00:09:37.160219\n"
          ]
        },
        {
          "ename": "BinanceAPIException",
          "evalue": "APIError(code=-1106): Parameter 'timeInForce' sent when not required.",
          "output_type": "error",
          "traceback": [
            "\u001b[1;31m---------------------------------------------------------------------------\u001b[0m",
            "\u001b[1;31mBinanceAPIException\u001b[0m                       Traceback (most recent call last)",
            "Cell \u001b[1;32mIn[18], line 25\u001b[0m\n\u001b[0;32m     22\u001b[0m       \u001b[39mreturn\u001b[39;00m\n\u001b[0;32m     23\u001b[0m   time\u001b[39m.\u001b[39msleep(\u001b[39m1\u001b[39m)  \u001b[39m# sleep 1 seconds\u001b[39;00m\n\u001b[1;32m---> 25\u001b[0m trade(\u001b[39m'\u001b[39;49m\u001b[39mBTCUSDT\u001b[39;49m\u001b[39m'\u001b[39;49m, \u001b[39m0.0001\u001b[39;49m)\n",
            "Cell \u001b[1;32mIn[18], line 6\u001b[0m, in \u001b[0;36mtrade\u001b[1;34m(ticker, lotsize, open_position)\u001b[0m\n\u001b[0;32m      4\u001b[0m \u001b[39mprint\u001b[39m(dt\u001b[39m.\u001b[39mdatetime\u001b[39m.\u001b[39mnow())\n\u001b[0;32m      5\u001b[0m \u001b[39mif\u001b[39;00m last_indicator_value \u001b[39m>\u001b[39m \u001b[39m0\u001b[39m \u001b[39mand\u001b[39;00m last_indicator_value \u001b[39m!=\u001b[39m \u001b[39m0\u001b[39m \u001b[39mand\u001b[39;00m \u001b[39mnot\u001b[39;00m open_position:\n\u001b[1;32m----> 6\u001b[0m   order \u001b[39m=\u001b[39m client\u001b[39m.\u001b[39;49mcreate_order(symbol\u001b[39m=\u001b[39;49mticker,\n\u001b[0;32m      7\u001b[0m                               side\u001b[39m=\u001b[39;49m\u001b[39m'\u001b[39;49m\u001b[39mBUY\u001b[39;49m\u001b[39m'\u001b[39;49m,\n\u001b[0;32m      8\u001b[0m                               \u001b[39mtype\u001b[39;49m\u001b[39m=\u001b[39;49m\u001b[39m'\u001b[39;49m\u001b[39mMARKET\u001b[39;49m\u001b[39m'\u001b[39;49m,\n\u001b[0;32m      9\u001b[0m                               quantity\u001b[39m=\u001b[39;49mlotsize,\n\u001b[0;32m     10\u001b[0m                               timeInForce\u001b[39m=\u001b[39;49m\u001b[39m'\u001b[39;49m\u001b[39mGTC\u001b[39;49m\u001b[39m'\u001b[39;49m)\n\u001b[0;32m     11\u001b[0m   \u001b[39mprint\u001b[39m(order)\n\u001b[0;32m     12\u001b[0m   buyprice \u001b[39m=\u001b[39m \u001b[39mfloat\u001b[39m(order[\u001b[39m'\u001b[39m\u001b[39mfills\u001b[39m\u001b[39m'\u001b[39m][\u001b[39m0\u001b[39m][\u001b[39m'\u001b[39m\u001b[39mprice\u001b[39m\u001b[39m'\u001b[39m])\n",
            "File \u001b[1;32mc:\\coding\\qfFree\\lib\\site-packages\\binance\\client.py:1447\u001b[0m, in \u001b[0;36mClient.create_order\u001b[1;34m(self, **params)\u001b[0m\n\u001b[0;32m   1330\u001b[0m \u001b[39mdef\u001b[39;00m \u001b[39mcreate_order\u001b[39m(\u001b[39mself\u001b[39m, \u001b[39m*\u001b[39m\u001b[39m*\u001b[39mparams):\n\u001b[0;32m   1331\u001b[0m \u001b[39m    \u001b[39m\u001b[39m\"\"\"Send in a new order\u001b[39;00m\n\u001b[0;32m   1332\u001b[0m \n\u001b[0;32m   1333\u001b[0m \u001b[39m    Any order with an icebergQty MUST have timeInForce set to GTC.\u001b[39;00m\n\u001b[1;32m   (...)\u001b[0m\n\u001b[0;32m   1445\u001b[0m \n\u001b[0;32m   1446\u001b[0m \u001b[39m    \"\"\"\u001b[39;00m\n\u001b[1;32m-> 1447\u001b[0m     \u001b[39mreturn\u001b[39;00m \u001b[39mself\u001b[39;49m\u001b[39m.\u001b[39;49m_post(\u001b[39m'\u001b[39;49m\u001b[39morder\u001b[39;49m\u001b[39m'\u001b[39;49m, \u001b[39mTrue\u001b[39;49;00m, data\u001b[39m=\u001b[39;49mparams)\n",
            "File \u001b[1;32mc:\\coding\\qfFree\\lib\\site-packages\\binance\\client.py:417\u001b[0m, in \u001b[0;36mClient._post\u001b[1;34m(self, path, signed, version, **kwargs)\u001b[0m\n\u001b[0;32m    416\u001b[0m \u001b[39mdef\u001b[39;00m \u001b[39m_post\u001b[39m(\u001b[39mself\u001b[39m, path, signed\u001b[39m=\u001b[39m\u001b[39mFalse\u001b[39;00m, version\u001b[39m=\u001b[39mBaseClient\u001b[39m.\u001b[39mPUBLIC_API_VERSION, \u001b[39m*\u001b[39m\u001b[39m*\u001b[39mkwargs) \u001b[39m-\u001b[39m\u001b[39m>\u001b[39m Dict:\n\u001b[1;32m--> 417\u001b[0m     \u001b[39mreturn\u001b[39;00m \u001b[39mself\u001b[39m\u001b[39m.\u001b[39m_request_api(\u001b[39m'\u001b[39m\u001b[39mpost\u001b[39m\u001b[39m'\u001b[39m, path, signed, version, \u001b[39m*\u001b[39m\u001b[39m*\u001b[39mkwargs)\n",
            "File \u001b[1;32mc:\\coding\\qfFree\\lib\\site-packages\\binance\\client.py:377\u001b[0m, in \u001b[0;36mClient._request_api\u001b[1;34m(self, method, path, signed, version, **kwargs)\u001b[0m\n\u001b[0;32m    373\u001b[0m \u001b[39mdef\u001b[39;00m \u001b[39m_request_api\u001b[39m(\n\u001b[0;32m    374\u001b[0m     \u001b[39mself\u001b[39m, method, path: \u001b[39mstr\u001b[39m, signed: \u001b[39mbool\u001b[39m \u001b[39m=\u001b[39m \u001b[39mFalse\u001b[39;00m, version\u001b[39m=\u001b[39mBaseClient\u001b[39m.\u001b[39mPUBLIC_API_VERSION, \u001b[39m*\u001b[39m\u001b[39m*\u001b[39mkwargs\n\u001b[0;32m    375\u001b[0m ):\n\u001b[0;32m    376\u001b[0m     uri \u001b[39m=\u001b[39m \u001b[39mself\u001b[39m\u001b[39m.\u001b[39m_create_api_uri(path, signed, version)\n\u001b[1;32m--> 377\u001b[0m     \u001b[39mreturn\u001b[39;00m \u001b[39mself\u001b[39m\u001b[39m.\u001b[39m_request(method, uri, signed, \u001b[39m*\u001b[39m\u001b[39m*\u001b[39mkwargs)\n",
            "File \u001b[1;32mc:\\coding\\qfFree\\lib\\site-packages\\binance\\client.py:358\u001b[0m, in \u001b[0;36mClient._request\u001b[1;34m(self, method, uri, signed, force_params, **kwargs)\u001b[0m\n\u001b[0;32m    355\u001b[0m kwargs \u001b[39m=\u001b[39m \u001b[39mself\u001b[39m\u001b[39m.\u001b[39m_get_request_kwargs(method, signed, force_params, \u001b[39m*\u001b[39m\u001b[39m*\u001b[39mkwargs)\n\u001b[0;32m    357\u001b[0m \u001b[39mself\u001b[39m\u001b[39m.\u001b[39mresponse \u001b[39m=\u001b[39m \u001b[39mgetattr\u001b[39m(\u001b[39mself\u001b[39m\u001b[39m.\u001b[39msession, method)(uri, \u001b[39m*\u001b[39m\u001b[39m*\u001b[39mkwargs)\n\u001b[1;32m--> 358\u001b[0m \u001b[39mreturn\u001b[39;00m \u001b[39mself\u001b[39;49m\u001b[39m.\u001b[39;49m_handle_response(\u001b[39mself\u001b[39;49m\u001b[39m.\u001b[39;49mresponse)\n",
            "File \u001b[1;32mc:\\coding\\qfFree\\lib\\site-packages\\binance\\client.py:367\u001b[0m, in \u001b[0;36mClient._handle_response\u001b[1;34m(response)\u001b[0m\n\u001b[0;32m    362\u001b[0m \u001b[39m\u001b[39m\u001b[39m\"\"\"Internal helper for handling API responses from the Binance server.\u001b[39;00m\n\u001b[0;32m    363\u001b[0m \u001b[39mRaises the appropriate exceptions when necessary; otherwise, returns the\u001b[39;00m\n\u001b[0;32m    364\u001b[0m \u001b[39mresponse.\u001b[39;00m\n\u001b[0;32m    365\u001b[0m \u001b[39m\"\"\"\u001b[39;00m\n\u001b[0;32m    366\u001b[0m \u001b[39mif\u001b[39;00m \u001b[39mnot\u001b[39;00m (\u001b[39m200\u001b[39m \u001b[39m<\u001b[39m\u001b[39m=\u001b[39m response\u001b[39m.\u001b[39mstatus_code \u001b[39m<\u001b[39m \u001b[39m300\u001b[39m):\n\u001b[1;32m--> 367\u001b[0m     \u001b[39mraise\u001b[39;00m BinanceAPIException(response, response\u001b[39m.\u001b[39mstatus_code, response\u001b[39m.\u001b[39mtext)\n\u001b[0;32m    368\u001b[0m \u001b[39mtry\u001b[39;00m:\n\u001b[0;32m    369\u001b[0m     \u001b[39mreturn\u001b[39;00m response\u001b[39m.\u001b[39mjson()\n",
            "\u001b[1;31mBinanceAPIException\u001b[0m: APIError(code=-1106): Parameter 'timeInForce' sent when not required."
          ]
        }
      ],
      "source": [
        "def trade(ticker, lotsize, open_position = False):\n",
        "  bm = BinanceSocketManager(client)\n",
        "  trade_socket = bm.trade_socket(ticker)\n",
        "  print(dt.datetime.now())\n",
        "  if last_indicator_value > 0 and last_indicator_value != 0 and not open_position:\n",
        "    order = client.create_order(symbol=ticker,\n",
        "                                side='BUY',\n",
        "                                type='MARKET',\n",
        "                                quantity=lotsize,\n",
        "                                timeInForce='GTC')\n",
        "    print(order)\n",
        "    buyprice = float(order['fills'][0]['price'])\n",
        "    open_position = True\n",
        "    return\n",
        "  if open_position and last_indicator_value < 0 and last_indicator_value != 0:\n",
        "      order = client.create_order(symbol=ticker,\n",
        "                                side='SELL',\n",
        "                                type='MARKET',\n",
        "                                quantity=lotsize,\n",
        "                                timeInForce = 'GTC')\n",
        "      print(order)\n",
        "      return\n",
        "  time.sleep(1)  # sleep 1 seconds\n",
        "  \n",
        "trade('BTCUSDT', 0.0001)"
      ]
    },
    {
      "cell_type": "code",
      "execution_count": null,
      "metadata": {
        "id": "Szo8k7_k1yKp"
      },
      "outputs": [],
      "source": [
        "\"\"\"1. Check balance\n",
        "2. Check if price of current candle is not differ by x% from price from other exchange\n",
        "3. Check if Ta-Lib indicator value not differ more than y% from another exchange\n",
        "4. Check open positions\n",
        "5. Check id position already open\n",
        "6. Open position characteristics: long/short, timeframe, symbol, indicators values. Are any other positions with same characteristics? If yes, than it's duplicate \n",
        "7. Before Closing: check position\n",
        "8. After closing: position closed? Ok, go check if we have opposite signal. We have opposite signal? Ok, go open opposite Trade Position\n",
        "9. Position open time\n",
        "10. How many bars passed\n",
        "11. Get order ID\n",
        "\"\"\""
      ]
    }
  ],
  "metadata": {
    "colab": {
      "provenance": []
    },
    "kernelspec": {
      "display_name": "Python 3",
      "name": "python3"
    },
    "language_info": {
      "codemirror_mode": {
        "name": "ipython",
        "version": 3
      },
      "file_extension": ".py",
      "mimetype": "text/x-python",
      "name": "python",
      "nbconvert_exporter": "python",
      "pygments_lexer": "ipython3",
      "version": "3.10.10"
    }
  },
  "nbformat": 4,
  "nbformat_minor": 0
}
