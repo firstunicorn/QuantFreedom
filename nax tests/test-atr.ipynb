{
 "cells": [
  {
   "cell_type": "code",
   "execution_count": 50,
   "metadata": {},
   "outputs": [
    {
     "name": "stdout",
     "output_type": "stream",
     "text": [
      "Collecting git+https://github.com/QuantFreedom1022/quantfreedom@devNote: you may need to restart the kernel to use updated packages.\n"
     ]
    },
    {
     "name": "stderr",
     "output_type": "stream",
     "text": [
      "  Running command git clone -q https://github.com/QuantFreedom1022/quantfreedom 'C:\\Users\\New User\\AppData\\Local\\Temp\\pip-req-build-143uz5vt'\n",
      "  Running command git checkout -b dev --track origin/dev\n",
      "  branch 'dev' set up to track 'origin/dev'.\n",
      "  Switched to a new branch 'dev'\n",
      "WARNING: You are using pip version 21.2.3; however, version 23.0.1 is available.\n",
      "You should consider upgrading via the 'c:\\coding\\qfFree\\Scripts\\python.exe -m pip install --upgrade pip' command.\n"
     ]
    },
    {
     "name": "stdout",
     "output_type": "stream",
     "text": [
      "\n",
      "  Cloning https://github.com/QuantFreedom1022/quantfreedom (to revision dev) to c:\\users\\new user\\appdata\\local\\temp\\pip-req-build-143uz5vt\n",
      "  Resolved https://github.com/QuantFreedom1022/quantfreedom to commit 171ae719f4f3e11ef04ca82c13e94dac8c20f700\n",
      "Requirement already satisfied: autopep8 in c:\\coding\\qffree\\lib\\site-packages (from quantfreedom==0.0.2) (2.0.2)\n",
      "Requirement already satisfied: ccxt in c:\\coding\\qffree\\lib\\site-packages (from quantfreedom==0.0.2) (3.0.45)\n",
      "Requirement already satisfied: dash in c:\\coding\\qffree\\lib\\site-packages (from quantfreedom==0.0.2) (2.9.2)\n",
      "Requirement already satisfied: dash_bootstrap_templates in c:\\coding\\qffree\\lib\\site-packages (from quantfreedom==0.0.2) (1.0.8)\n",
      "Requirement already satisfied: ipywidgets==7.7.2 in c:\\coding\\qffree\\lib\\site-packages (from quantfreedom==0.0.2) (7.7.2)\n",
      "Requirement already satisfied: jupyter-dash in c:\\coding\\qffree\\lib\\site-packages (from quantfreedom==0.0.2) (0.4.2)\n",
      "Requirement already satisfied: jupyterlab-widgets==1.1.1 in c:\\coding\\qffree\\lib\\site-packages (from quantfreedom==0.0.2) (1.1.1)\n",
      "Requirement already satisfied: kaleido==0.1.0post1 in c:\\coding\\qffree\\lib\\site-packages (from quantfreedom==0.0.2) (0.1.0.post1)\n",
      "Requirement already satisfied: mypy_extensions in c:\\coding\\qffree\\lib\\site-packages (from quantfreedom==0.0.2) (1.0.0)\n",
      "Requirement already satisfied: notebook in c:\\coding\\qffree\\lib\\site-packages (from quantfreedom==0.0.2) (6.5.3)\n",
      "Requirement already satisfied: numpy>=1.16.5 in c:\\coding\\qffree\\lib\\site-packages (from quantfreedom==0.0.2) (1.23.5)\n",
      "Requirement already satisfied: pandas in c:\\coding\\qffree\\lib\\site-packages (from quantfreedom==0.0.2) (1.5.3)\n",
      "Requirement already satisfied: polars in c:\\coding\\qffree\\lib\\site-packages (from quantfreedom==0.0.2) (0.16.16)\n",
      "Requirement already satisfied: pyarrow in c:\\coding\\qffree\\lib\\site-packages (from quantfreedom==0.0.2) (11.0.0)\n",
      "Requirement already satisfied: pybit in c:\\coding\\qffree\\lib\\site-packages (from quantfreedom==0.0.2) (2.4.1)\n",
      "Requirement already satisfied: numba>=0.56.0 in c:\\coding\\qffree\\lib\\site-packages (from quantfreedom==0.0.2) (0.56.4)\n",
      "Requirement already satisfied: ipykernel>=4.5.1 in c:\\coding\\qffree\\lib\\site-packages (from ipywidgets==7.7.2->quantfreedom==0.0.2) (6.22.0)\n",
      "Requirement already satisfied: ipython-genutils~=0.2.0 in c:\\coding\\qffree\\lib\\site-packages (from ipywidgets==7.7.2->quantfreedom==0.0.2) (0.2.0)\n",
      "Requirement already satisfied: ipython>=4.0.0 in c:\\coding\\qffree\\lib\\site-packages (from ipywidgets==7.7.2->quantfreedom==0.0.2) (8.12.0)\n",
      "Requirement already satisfied: traitlets>=4.3.1 in c:\\coding\\qffree\\lib\\site-packages (from ipywidgets==7.7.2->quantfreedom==0.0.2) (5.9.0)\n",
      "Requirement already satisfied: widgetsnbextension~=3.6.0 in c:\\coding\\qffree\\lib\\site-packages (from ipywidgets==7.7.2->quantfreedom==0.0.2) (3.6.4)\n",
      "Requirement already satisfied: packaging in c:\\coding\\qffree\\lib\\site-packages (from ipykernel>=4.5.1->ipywidgets==7.7.2->quantfreedom==0.0.2) (23.0)\n",
      "Requirement already satisfied: jupyter-core!=5.0.*,>=4.12 in c:\\coding\\qffree\\lib\\site-packages (from ipykernel>=4.5.1->ipywidgets==7.7.2->quantfreedom==0.0.2) (5.3.0)\n",
      "Requirement already satisfied: pyzmq>=20 in c:\\coding\\qffree\\lib\\site-packages (from ipykernel>=4.5.1->ipywidgets==7.7.2->quantfreedom==0.0.2) (25.0.2)\n",
      "Requirement already satisfied: nest-asyncio in c:\\coding\\qffree\\lib\\site-packages (from ipykernel>=4.5.1->ipywidgets==7.7.2->quantfreedom==0.0.2) (1.5.6)\n",
      "Requirement already satisfied: debugpy>=1.6.5 in c:\\coding\\qffree\\lib\\site-packages (from ipykernel>=4.5.1->ipywidgets==7.7.2->quantfreedom==0.0.2) (1.6.6)\n",
      "Requirement already satisfied: psutil in c:\\coding\\qffree\\lib\\site-packages (from ipykernel>=4.5.1->ipywidgets==7.7.2->quantfreedom==0.0.2) (5.9.4)\n",
      "Requirement already satisfied: tornado>=6.1 in c:\\coding\\qffree\\lib\\site-packages (from ipykernel>=4.5.1->ipywidgets==7.7.2->quantfreedom==0.0.2) (6.2)\n",
      "Requirement already satisfied: comm>=0.1.1 in c:\\coding\\qffree\\lib\\site-packages (from ipykernel>=4.5.1->ipywidgets==7.7.2->quantfreedom==0.0.2) (0.1.3)\n",
      "Requirement already satisfied: matplotlib-inline>=0.1 in c:\\coding\\qffree\\lib\\site-packages (from ipykernel>=4.5.1->ipywidgets==7.7.2->quantfreedom==0.0.2) (0.1.6)\n",
      "Requirement already satisfied: jupyter-client>=6.1.12 in c:\\coding\\qffree\\lib\\site-packages (from ipykernel>=4.5.1->ipywidgets==7.7.2->quantfreedom==0.0.2) (8.1.0)\n",
      "Requirement already satisfied: pygments>=2.4.0 in c:\\coding\\qffree\\lib\\site-packages (from ipython>=4.0.0->ipywidgets==7.7.2->quantfreedom==0.0.2) (2.14.0)\n",
      "Requirement already satisfied: stack-data in c:\\coding\\qffree\\lib\\site-packages (from ipython>=4.0.0->ipywidgets==7.7.2->quantfreedom==0.0.2) (0.6.2)\n",
      "Requirement already satisfied: decorator in c:\\coding\\qffree\\lib\\site-packages (from ipython>=4.0.0->ipywidgets==7.7.2->quantfreedom==0.0.2) (5.1.1)\n",
      "Requirement already satisfied: prompt-toolkit!=3.0.37,<3.1.0,>=3.0.30 in c:\\coding\\qffree\\lib\\site-packages (from ipython>=4.0.0->ipywidgets==7.7.2->quantfreedom==0.0.2) (3.0.38)\n",
      "Requirement already satisfied: jedi>=0.16 in c:\\coding\\qffree\\lib\\site-packages (from ipython>=4.0.0->ipywidgets==7.7.2->quantfreedom==0.0.2) (0.18.2)\n",
      "Requirement already satisfied: colorama in c:\\coding\\qffree\\lib\\site-packages (from ipython>=4.0.0->ipywidgets==7.7.2->quantfreedom==0.0.2) (0.4.6)\n",
      "Requirement already satisfied: pickleshare in c:\\coding\\qffree\\lib\\site-packages (from ipython>=4.0.0->ipywidgets==7.7.2->quantfreedom==0.0.2) (0.7.5)\n",
      "Requirement already satisfied: backcall in c:\\coding\\qffree\\lib\\site-packages (from ipython>=4.0.0->ipywidgets==7.7.2->quantfreedom==0.0.2) (0.2.0)\n",
      "Requirement already satisfied: parso<0.9.0,>=0.8.0 in c:\\coding\\qffree\\lib\\site-packages (from jedi>=0.16->ipython>=4.0.0->ipywidgets==7.7.2->quantfreedom==0.0.2) (0.8.3)\n",
      "Requirement already satisfied: python-dateutil>=2.8.2 in c:\\coding\\qffree\\lib\\site-packages (from jupyter-client>=6.1.12->ipykernel>=4.5.1->ipywidgets==7.7.2->quantfreedom==0.0.2) (2.8.2)\n",
      "Requirement already satisfied: pywin32>=300 in c:\\coding\\qffree\\lib\\site-packages (from jupyter-core!=5.0.*,>=4.12->ipykernel>=4.5.1->ipywidgets==7.7.2->quantfreedom==0.0.2) (306)\n",
      "Requirement already satisfied: platformdirs>=2.5 in c:\\coding\\qffree\\lib\\site-packages (from jupyter-core!=5.0.*,>=4.12->ipykernel>=4.5.1->ipywidgets==7.7.2->quantfreedom==0.0.2) (3.2.0)\n",
      "Requirement already satisfied: setuptools in c:\\coding\\qffree\\lib\\site-packages (from numba>=0.56.0->quantfreedom==0.0.2) (67.6.1)\n",
      "Requirement already satisfied: llvmlite<0.40,>=0.39.0dev0 in c:\\coding\\qffree\\lib\\site-packages (from numba>=0.56.0->quantfreedom==0.0.2) (0.39.1)\n",
      "Requirement already satisfied: wcwidth in c:\\coding\\qffree\\lib\\site-packages (from prompt-toolkit!=3.0.37,<3.1.0,>=3.0.30->ipython>=4.0.0->ipywidgets==7.7.2->quantfreedom==0.0.2) (0.2.6)\n",
      "Requirement already satisfied: six>=1.5 in c:\\coding\\qffree\\lib\\site-packages (from python-dateutil>=2.8.2->jupyter-client>=6.1.12->ipykernel>=4.5.1->ipywidgets==7.7.2->quantfreedom==0.0.2) (1.16.0)\n",
      "Requirement already satisfied: argon2-cffi in c:\\coding\\qffree\\lib\\site-packages (from notebook->quantfreedom==0.0.2) (21.3.0)\n",
      "Requirement already satisfied: prometheus-client in c:\\coding\\qffree\\lib\\site-packages (from notebook->quantfreedom==0.0.2) (0.16.0)\n",
      "Requirement already satisfied: jinja2 in c:\\coding\\qffree\\lib\\site-packages (from notebook->quantfreedom==0.0.2) (3.1.2)\n",
      "Requirement already satisfied: nbformat in c:\\coding\\qffree\\lib\\site-packages (from notebook->quantfreedom==0.0.2) (5.8.0)\n",
      "Requirement already satisfied: Send2Trash>=1.8.0 in c:\\coding\\qffree\\lib\\site-packages (from notebook->quantfreedom==0.0.2) (1.8.0)\n",
      "Requirement already satisfied: nbclassic>=0.4.7 in c:\\coding\\qffree\\lib\\site-packages (from notebook->quantfreedom==0.0.2) (0.5.4)\n",
      "Requirement already satisfied: terminado>=0.8.3 in c:\\coding\\qffree\\lib\\site-packages (from notebook->quantfreedom==0.0.2) (0.17.1)\n",
      "Requirement already satisfied: nbconvert>=5 in c:\\coding\\qffree\\lib\\site-packages (from notebook->quantfreedom==0.0.2) (7.2.10)\n",
      "Requirement already satisfied: jupyter-server>=1.8 in c:\\coding\\qffree\\lib\\site-packages (from nbclassic>=0.4.7->notebook->quantfreedom==0.0.2) (2.5.0)\n",
      "Requirement already satisfied: notebook-shim>=0.1.0 in c:\\coding\\qffree\\lib\\site-packages (from nbclassic>=0.4.7->notebook->quantfreedom==0.0.2) (0.2.2)\n",
      "Requirement already satisfied: anyio>=3.1.0 in c:\\coding\\qffree\\lib\\site-packages (from jupyter-server>=1.8->nbclassic>=0.4.7->notebook->quantfreedom==0.0.2) (3.6.2)\n",
      "Requirement already satisfied: jupyter-events>=0.4.0 in c:\\coding\\qffree\\lib\\site-packages (from jupyter-server>=1.8->nbclassic>=0.4.7->notebook->quantfreedom==0.0.2) (0.6.3)\n",
      "Requirement already satisfied: websocket-client in c:\\coding\\qffree\\lib\\site-packages (from jupyter-server>=1.8->nbclassic>=0.4.7->notebook->quantfreedom==0.0.2) (1.5.1)\n",
      "Requirement already satisfied: jupyter-server-terminals in c:\\coding\\qffree\\lib\\site-packages (from jupyter-server>=1.8->nbclassic>=0.4.7->notebook->quantfreedom==0.0.2) (0.4.4)\n",
      "Requirement already satisfied: pywinpty in c:\\coding\\qffree\\lib\\site-packages (from jupyter-server>=1.8->nbclassic>=0.4.7->notebook->quantfreedom==0.0.2) (2.0.10)\n",
      "Requirement already satisfied: idna>=2.8 in c:\\coding\\qffree\\lib\\site-packages (from anyio>=3.1.0->jupyter-server>=1.8->nbclassic>=0.4.7->notebook->quantfreedom==0.0.2) (3.4)\n",
      "Requirement already satisfied: sniffio>=1.1 in c:\\coding\\qffree\\lib\\site-packages (from anyio>=3.1.0->jupyter-server>=1.8->nbclassic>=0.4.7->notebook->quantfreedom==0.0.2) (1.3.0)\n",
      "Requirement already satisfied: rfc3339-validator in c:\\coding\\qffree\\lib\\site-packages (from jupyter-events>=0.4.0->jupyter-server>=1.8->nbclassic>=0.4.7->notebook->quantfreedom==0.0.2) (0.1.4)\n",
      "Requirement already satisfied: rfc3986-validator>=0.1.1 in c:\\coding\\qffree\\lib\\site-packages (from jupyter-events>=0.4.0->jupyter-server>=1.8->nbclassic>=0.4.7->notebook->quantfreedom==0.0.2) (0.1.1)\n",
      "Requirement already satisfied: pyyaml>=5.3 in c:\\coding\\qffree\\lib\\site-packages (from jupyter-events>=0.4.0->jupyter-server>=1.8->nbclassic>=0.4.7->notebook->quantfreedom==0.0.2) (6.0)\n",
      "Requirement already satisfied: python-json-logger>=2.0.4 in c:\\coding\\qffree\\lib\\site-packages (from jupyter-events>=0.4.0->jupyter-server>=1.8->nbclassic>=0.4.7->notebook->quantfreedom==0.0.2) (2.0.7)\n",
      "Requirement already satisfied: jsonschema[format-nongpl]>=3.2.0 in c:\\coding\\qffree\\lib\\site-packages (from jupyter-events>=0.4.0->jupyter-server>=1.8->nbclassic>=0.4.7->notebook->quantfreedom==0.0.2) (4.17.3)\n",
      "Requirement already satisfied: pyrsistent!=0.17.0,!=0.17.1,!=0.17.2,>=0.14.0 in c:\\coding\\qffree\\lib\\site-packages (from jsonschema[format-nongpl]>=3.2.0->jupyter-events>=0.4.0->jupyter-server>=1.8->nbclassic>=0.4.7->notebook->quantfreedom==0.0.2) (0.19.3)\n",
      "Requirement already satisfied: attrs>=17.4.0 in c:\\coding\\qffree\\lib\\site-packages (from jsonschema[format-nongpl]>=3.2.0->jupyter-events>=0.4.0->jupyter-server>=1.8->nbclassic>=0.4.7->notebook->quantfreedom==0.0.2) (22.2.0)\n",
      "Requirement already satisfied: jsonpointer>1.13 in c:\\coding\\qffree\\lib\\site-packages (from jsonschema[format-nongpl]>=3.2.0->jupyter-events>=0.4.0->jupyter-server>=1.8->nbclassic>=0.4.7->notebook->quantfreedom==0.0.2) (2.3)\n",
      "Requirement already satisfied: webcolors>=1.11 in c:\\coding\\qffree\\lib\\site-packages (from jsonschema[format-nongpl]>=3.2.0->jupyter-events>=0.4.0->jupyter-server>=1.8->nbclassic>=0.4.7->notebook->quantfreedom==0.0.2) (1.13)\n",
      "Requirement already satisfied: isoduration in c:\\coding\\qffree\\lib\\site-packages (from jsonschema[format-nongpl]>=3.2.0->jupyter-events>=0.4.0->jupyter-server>=1.8->nbclassic>=0.4.7->notebook->quantfreedom==0.0.2) (20.11.0)\n",
      "Requirement already satisfied: fqdn in c:\\coding\\qffree\\lib\\site-packages (from jsonschema[format-nongpl]>=3.2.0->jupyter-events>=0.4.0->jupyter-server>=1.8->nbclassic>=0.4.7->notebook->quantfreedom==0.0.2) (1.5.1)\n",
      "Requirement already satisfied: uri-template in c:\\coding\\qffree\\lib\\site-packages (from jsonschema[format-nongpl]>=3.2.0->jupyter-events>=0.4.0->jupyter-server>=1.8->nbclassic>=0.4.7->notebook->quantfreedom==0.0.2) (1.2.0)\n",
      "Requirement already satisfied: tinycss2 in c:\\coding\\qffree\\lib\\site-packages (from nbconvert>=5->notebook->quantfreedom==0.0.2) (1.2.1)\n",
      "Requirement already satisfied: beautifulsoup4 in c:\\coding\\qffree\\lib\\site-packages (from nbconvert>=5->notebook->quantfreedom==0.0.2) (4.12.0)\n",
      "Requirement already satisfied: bleach in c:\\coding\\qffree\\lib\\site-packages (from nbconvert>=5->notebook->quantfreedom==0.0.2) (6.0.0)\n",
      "Requirement already satisfied: markupsafe>=2.0 in c:\\coding\\qffree\\lib\\site-packages (from nbconvert>=5->notebook->quantfreedom==0.0.2) (2.1.2)\n",
      "Requirement already satisfied: jupyterlab-pygments in c:\\coding\\qffree\\lib\\site-packages (from nbconvert>=5->notebook->quantfreedom==0.0.2) (0.2.2)\n",
      "Requirement already satisfied: mistune<3,>=2.0.3 in c:\\coding\\qffree\\lib\\site-packages (from nbconvert>=5->notebook->quantfreedom==0.0.2) (2.0.5)\n",
      "Requirement already satisfied: pandocfilters>=1.4.1 in c:\\coding\\qffree\\lib\\site-packages (from nbconvert>=5->notebook->quantfreedom==0.0.2) (1.5.0)\n",
      "Requirement already satisfied: nbclient>=0.5.0 in c:\\coding\\qffree\\lib\\site-packages (from nbconvert>=5->notebook->quantfreedom==0.0.2) (0.7.2)\n",
      "Requirement already satisfied: defusedxml in c:\\coding\\qffree\\lib\\site-packages (from nbconvert>=5->notebook->quantfreedom==0.0.2) (0.7.1)\n",
      "Requirement already satisfied: fastjsonschema in c:\\coding\\qffree\\lib\\site-packages (from nbformat->notebook->quantfreedom==0.0.2) (2.16.3)\n",
      "Requirement already satisfied: argon2-cffi-bindings in c:\\coding\\qffree\\lib\\site-packages (from argon2-cffi->notebook->quantfreedom==0.0.2) (21.2.0)\n",
      "Requirement already satisfied: cffi>=1.0.1 in c:\\coding\\qffree\\lib\\site-packages (from argon2-cffi-bindings->argon2-cffi->notebook->quantfreedom==0.0.2) (1.15.1)\n",
      "Requirement already satisfied: pycparser in c:\\coding\\qffree\\lib\\site-packages (from cffi>=1.0.1->argon2-cffi-bindings->argon2-cffi->notebook->quantfreedom==0.0.2) (2.21)\n",
      "Requirement already satisfied: pycodestyle>=2.10.0 in c:\\coding\\qffree\\lib\\site-packages (from autopep8->quantfreedom==0.0.2) (2.10.0)\n",
      "Requirement already satisfied: tomli in c:\\coding\\qffree\\lib\\site-packages (from autopep8->quantfreedom==0.0.2) (2.0.1)\n",
      "Requirement already satisfied: soupsieve>1.2 in c:\\coding\\qffree\\lib\\site-packages (from beautifulsoup4->nbconvert>=5->notebook->quantfreedom==0.0.2) (2.4)\n",
      "Requirement already satisfied: webencodings in c:\\coding\\qffree\\lib\\site-packages (from bleach->nbconvert>=5->notebook->quantfreedom==0.0.2) (0.5.1)\n",
      "Requirement already satisfied: aiohttp>=3.8 in c:\\coding\\qffree\\lib\\site-packages (from ccxt->quantfreedom==0.0.2) (3.8.4)\n",
      "Requirement already satisfied: aiodns>=1.1.1 in c:\\coding\\qffree\\lib\\site-packages (from ccxt->quantfreedom==0.0.2) (3.0.0)\n",
      "Requirement already satisfied: requests>=2.18.4 in c:\\coding\\qffree\\lib\\site-packages (from ccxt->quantfreedom==0.0.2) (2.28.2)\n",
      "Requirement already satisfied: certifi>=2018.1.18 in c:\\coding\\qffree\\lib\\site-packages (from ccxt->quantfreedom==0.0.2) (2022.12.7)\n",
      "Requirement already satisfied: cryptography>=2.6.1 in c:\\coding\\qffree\\lib\\site-packages (from ccxt->quantfreedom==0.0.2) (40.0.1)\n",
      "Requirement already satisfied: yarl>=1.7.2 in c:\\coding\\qffree\\lib\\site-packages (from ccxt->quantfreedom==0.0.2) (1.8.2)\n",
      "Requirement already satisfied: pycares>=4.0.0 in c:\\coding\\qffree\\lib\\site-packages (from aiodns>=1.1.1->ccxt->quantfreedom==0.0.2) (4.3.0)\n",
      "Requirement already satisfied: charset-normalizer<4.0,>=2.0 in c:\\coding\\qffree\\lib\\site-packages (from aiohttp>=3.8->ccxt->quantfreedom==0.0.2) (3.1.0)\n",
      "Requirement already satisfied: async-timeout<5.0,>=4.0.0a3 in c:\\coding\\qffree\\lib\\site-packages (from aiohttp>=3.8->ccxt->quantfreedom==0.0.2) (4.0.2)\n",
      "Requirement already satisfied: aiosignal>=1.1.2 in c:\\coding\\qffree\\lib\\site-packages (from aiohttp>=3.8->ccxt->quantfreedom==0.0.2) (1.3.1)\n",
      "Requirement already satisfied: frozenlist>=1.1.1 in c:\\coding\\qffree\\lib\\site-packages (from aiohttp>=3.8->ccxt->quantfreedom==0.0.2) (1.3.3)\n",
      "Requirement already satisfied: multidict<7.0,>=4.5 in c:\\coding\\qffree\\lib\\site-packages (from aiohttp>=3.8->ccxt->quantfreedom==0.0.2) (6.0.4)\n",
      "Requirement already satisfied: urllib3<1.27,>=1.21.1 in c:\\coding\\qffree\\lib\\site-packages (from requests>=2.18.4->ccxt->quantfreedom==0.0.2) (1.26.15)\n",
      "Requirement already satisfied: dash-core-components==2.0.0 in c:\\coding\\qffree\\lib\\site-packages (from dash->quantfreedom==0.0.2) (2.0.0)\n",
      "Requirement already satisfied: plotly>=5.0.0 in c:\\coding\\qffree\\lib\\site-packages (from dash->quantfreedom==0.0.2) (5.14.0)\n",
      "Requirement already satisfied: dash-html-components==2.0.0 in c:\\coding\\qffree\\lib\\site-packages (from dash->quantfreedom==0.0.2) (2.0.0)\n",
      "Requirement already satisfied: Flask>=1.0.4 in c:\\coding\\qffree\\lib\\site-packages (from dash->quantfreedom==0.0.2) (2.2.3)\n",
      "Requirement already satisfied: dash-table==5.0.0 in c:\\coding\\qffree\\lib\\site-packages (from dash->quantfreedom==0.0.2) (5.0.0)\n",
      "Requirement already satisfied: itsdangerous>=2.0 in c:\\coding\\qffree\\lib\\site-packages (from Flask>=1.0.4->dash->quantfreedom==0.0.2) (2.1.2)\n",
      "Requirement already satisfied: click>=8.0 in c:\\coding\\qffree\\lib\\site-packages (from Flask>=1.0.4->dash->quantfreedom==0.0.2) (8.1.3)\n",
      "Requirement already satisfied: Werkzeug>=2.2.2 in c:\\coding\\qffree\\lib\\site-packages (from Flask>=1.0.4->dash->quantfreedom==0.0.2) (2.2.3)\n",
      "Requirement already satisfied: tenacity>=6.2.0 in c:\\coding\\qffree\\lib\\site-packages (from plotly>=5.0.0->dash->quantfreedom==0.0.2) (8.2.2)\n",
      "Requirement already satisfied: dash-bootstrap-components>=1.0.0 in c:\\coding\\qffree\\lib\\site-packages (from dash_bootstrap_templates->quantfreedom==0.0.2) (1.4.1)\n",
      "Requirement already satisfied: arrow>=0.15.0 in c:\\coding\\qffree\\lib\\site-packages (from isoduration->jsonschema[format-nongpl]>=3.2.0->jupyter-events>=0.4.0->jupyter-server>=1.8->nbclassic>=0.4.7->notebook->quantfreedom==0.0.2) (1.2.3)\n",
      "Requirement already satisfied: ansi2html in c:\\coding\\qffree\\lib\\site-packages (from jupyter-dash->quantfreedom==0.0.2) (1.8.0)\n",
      "Requirement already satisfied: retrying in c:\\coding\\qffree\\lib\\site-packages (from jupyter-dash->quantfreedom==0.0.2) (1.3.4)\n",
      "Requirement already satisfied: pytz>=2020.1 in c:\\coding\\qffree\\lib\\site-packages (from pandas->quantfreedom==0.0.2) (2023.3)\n",
      "Requirement already satisfied: typing_extensions>=4.0.1 in c:\\coding\\qffree\\lib\\site-packages (from polars->quantfreedom==0.0.2) (4.5.0)\n",
      "Requirement already satisfied: websockets in c:\\coding\\qffree\\lib\\site-packages (from pybit->quantfreedom==0.0.2) (10.4)\n",
      "Requirement already satisfied: executing>=1.2.0 in c:\\coding\\qffree\\lib\\site-packages (from stack-data->ipython>=4.0.0->ipywidgets==7.7.2->quantfreedom==0.0.2) (1.2.0)\n",
      "Requirement already satisfied: pure-eval in c:\\coding\\qffree\\lib\\site-packages (from stack-data->ipython>=4.0.0->ipywidgets==7.7.2->quantfreedom==0.0.2) (0.2.2)\n",
      "Requirement already satisfied: asttokens>=2.1.0 in c:\\coding\\qffree\\lib\\site-packages (from stack-data->ipython>=4.0.0->ipywidgets==7.7.2->quantfreedom==0.0.2) (2.2.1)\n"
     ]
    }
   ],
   "source": [
    "pip install -U git+https://github.com/QuantFreedom1022/quantfreedom@dev"
   ]
  },
  {
   "cell_type": "code",
   "execution_count": 51,
   "metadata": {},
   "outputs": [],
   "source": [
    "#pip install vectorbt"
   ]
  },
  {
   "cell_type": "code",
   "execution_count": 52,
   "metadata": {},
   "outputs": [
    {
     "name": "stdout",
     "output_type": "stream",
     "text": [
      "Requirement already satisfied: yfinance in c:\\coding\\qffree\\lib\\site-packages (0.2.14)"
     ]
    },
    {
     "name": "stderr",
     "output_type": "stream",
     "text": [
      "WARNING: You are using pip version 21.2.3; however, version 23.0.1 is available.\n",
      "You should consider upgrading via the 'C:\\coding\\qfFree\\Scripts\\python.exe -m pip install --upgrade pip' command.\n"
     ]
    },
    {
     "name": "stdout",
     "output_type": "stream",
     "text": [
      "\n",
      "Requirement already satisfied: pandas>=1.3.0 in c:\\coding\\qffree\\lib\\site-packages (from yfinance) (1.5.3)\n",
      "Requirement already satisfied: numpy>=1.16.5 in c:\\coding\\qffree\\lib\\site-packages (from yfinance) (1.23.5)\n",
      "Requirement already satisfied: html5lib>=1.1 in c:\\coding\\qffree\\lib\\site-packages (from yfinance) (1.1)\n",
      "Requirement already satisfied: multitasking>=0.0.7 in c:\\coding\\qffree\\lib\\site-packages (from yfinance) (0.0.11)\n",
      "Requirement already satisfied: pytz>=2022.5 in c:\\coding\\qffree\\lib\\site-packages (from yfinance) (2023.3)\n",
      "Requirement already satisfied: beautifulsoup4>=4.11.1 in c:\\coding\\qffree\\lib\\site-packages (from yfinance) (4.12.0)\n",
      "Requirement already satisfied: frozendict>=2.3.4 in c:\\coding\\qffree\\lib\\site-packages (from yfinance) (2.3.6)\n",
      "Requirement already satisfied: lxml>=4.9.1 in c:\\coding\\qffree\\lib\\site-packages (from yfinance) (4.9.2)\n",
      "Requirement already satisfied: cryptography>=3.3.2 in c:\\coding\\qffree\\lib\\site-packages (from yfinance) (40.0.1)\n",
      "Requirement already satisfied: requests>=2.26 in c:\\coding\\qffree\\lib\\site-packages (from yfinance) (2.28.2)\n",
      "Requirement already satisfied: appdirs>=1.4.4 in c:\\coding\\qffree\\lib\\site-packages (from yfinance) (1.4.4)\n",
      "Requirement already satisfied: soupsieve>1.2 in c:\\coding\\qffree\\lib\\site-packages (from beautifulsoup4>=4.11.1->yfinance) (2.4)\n",
      "Requirement already satisfied: cffi>=1.12 in c:\\coding\\qffree\\lib\\site-packages (from cryptography>=3.3.2->yfinance) (1.15.1)\n",
      "Requirement already satisfied: pycparser in c:\\coding\\qffree\\lib\\site-packages (from cffi>=1.12->cryptography>=3.3.2->yfinance) (2.21)\n",
      "Requirement already satisfied: six>=1.9 in c:\\coding\\qffree\\lib\\site-packages (from html5lib>=1.1->yfinance) (1.16.0)\n",
      "Requirement already satisfied: webencodings in c:\\coding\\qffree\\lib\\site-packages (from html5lib>=1.1->yfinance) (0.5.1)\n",
      "Requirement already satisfied: python-dateutil>=2.8.1 in c:\\coding\\qffree\\lib\\site-packages (from pandas>=1.3.0->yfinance) (2.8.2)\n",
      "Requirement already satisfied: idna<4,>=2.5 in c:\\coding\\qffree\\lib\\site-packages (from requests>=2.26->yfinance) (3.4)\n",
      "Requirement already satisfied: certifi>=2017.4.17 in c:\\coding\\qffree\\lib\\site-packages (from requests>=2.26->yfinance) (2022.12.7)\n",
      "Requirement already satisfied: charset-normalizer<4,>=2 in c:\\coding\\qffree\\lib\\site-packages (from requests>=2.26->yfinance) (3.1.0)\n",
      "Requirement already satisfied: urllib3<1.27,>=1.21.1 in c:\\coding\\qffree\\lib\\site-packages (from requests>=2.26->yfinance) (1.26.15)\n"
     ]
    }
   ],
   "source": [
    "#installation of Yahoo Finance \n",
    "!pip install yfinance"
   ]
  },
  {
   "cell_type": "code",
   "execution_count": 53,
   "metadata": {},
   "outputs": [],
   "source": [
    "### Importing QuantFreedom and all requirements for strategy creation\n",
    "\n",
    "import os\n",
    "import sys\n",
    "sys.dont_write_bytecode = True\n",
    "os.environ[\"NUMBA_DISABLE_JIT\"] = \"1\"\n",
    "\n",
    "import quantfreedom as qf\n",
    "#import vectorbt as vbt\n",
    "import yfinance as yf\n",
    "import numpy as np\n",
    "import pandas as pd\n",
    "from dash import Dash, html, dcc\n",
    "from jupyter_dash import JupyterDash\n",
    "import plotly.express as px\n",
    "import plotly.graph_objects as go\n",
    "import talib\n",
    "from talib.abstract import Function\n",
    "from talib import abstract\n",
    "\n",
    "# ^ - importing in next cell\n",
    "# ^^^ from quantfreedom.backtester.indicators.talib_ind import from_talib, talib_func_list_website_link, talib_ind_info\n",
    "# ^^^ from quantfreedom.backtester.evaluators.evaluators import eval_is_below, eval_is_above, combine_evals\n",
    "from quantfreedom._typing import (\n",
    "    pdFrame, pdSeries)"
   ]
  },
  {
   "cell_type": "code",
   "execution_count": 54,
   "metadata": {},
   "outputs": [],
   "source": [
    "####### Importing all QuantFreedom backtesting stuff #######\n",
    "\n",
    "# import os\n",
    "# import sys\n",
    "# sys.dont_write_bytecode = True\n",
    "# os.environ[\"NUMBA_DISABLE_JIT\"] = \"1\"\n",
    "\n",
    "import plotly.express as px\n",
    "import plotly.graph_objects as go\n",
    "\n",
    "# ^ - already imported in previous cell\n",
    "# ^^^ import pandas as pd\n",
    "# ^^^ import numpy as np\n",
    "from quantfreedom.utils.caching import clear_cache\n",
    "from quantfreedom.nb.simulate import backtest_df_array_only\n",
    "from quantfreedom.enums.enums import (\n",
    "    LeverageMode,\n",
    "    SizeType,\n",
    "    OrderType,\n",
    "    SL_BE_or_Trail_BasedOn,\n",
    ")\n",
    "from quantfreedom.indicators.talib_ind import from_talib\n",
    "from quantfreedom.evaluators.evaluators import eval_is_below\n",
    "\n",
    "# np.set_printoptions(formatter={'float_kind':\"{:.2f}\".format})\n",
    "\n",
    "# pd.options.display.float_format = '{:,.2f}'.format"
   ]
  },
  {
   "cell_type": "code",
   "execution_count": 55,
   "metadata": {},
   "outputs": [
    {
     "name": "stdout",
     "output_type": "stream",
     "text": [
      "[*********************100%***********************]  1 of 1 completed\n"
     ]
    }
   ],
   "source": [
    "# Fetch historical data\n",
    "\n",
    "# determine variable 'symbol' for fetching many tickets simultaneously (at same time)\n",
    "# symbol = [\n",
    "#     'BTC-USD', 'ETH-USD', 'XRP-USD', 'BCH-USD', 'LTC-USD'#,\n",
    "# ]\n",
    "# \"\"\"    'BNB-USD', 'EOS-USD', 'XLM-USD', 'XMR-USD', 'ADA-USD',\n",
    "#     'QBIT-USD', 'TSLA', 'AMZN', 'AAPL', 'DGTX-USD', 'BTG-USD', \n",
    "#     'LINK-USD', 'DOGE-USD', 'SOL-USD', 'TRX-USD', 'ATOM-USD',\n",
    "#     'TON-USD', 'OKB-USD', 'GLD', 'GIS', 'PG', 'MRK', 'AMT', 'BMY',\n",
    "#     'CVX', 'S', 'CVS', 'HD', 'PUK'\n",
    "# #]\n",
    "# \"\"\"\n",
    "\n",
    "\n",
    "symbol = ['BTC-USD']\n",
    "\n",
    "# \"Attach\" dataset prices (dataframe) to variable ohlcv and at the same time download dataset from Yahoo Finance \n",
    "ohlcv = yf.download(symbol, interval=\"5m\", period=\"60d\")\n",
    "\n",
    "# \"Attach\" only closing prices from dataset to variable 'price'\n",
    "prices = ohlcv['Close']\n",
    "\n",
    "# \"Attach\" only High prices from dataset to variable 'high_price'\n",
    "high_price = ohlcv['High']\n",
    "\n",
    "# Same for low\n",
    "low_price = ohlcv['Low']"
   ]
  },
  {
   "cell_type": "code",
   "execution_count": 56,
   "metadata": {},
   "outputs": [],
   "source": [
    "#Renaming columns for TA-Lib\n",
    "ohlcv.rename(columns={'Open': 'open', 'High': 'high', 'Low': 'low', 'Adj Close': 'close', 'Volume': 'volume'}, inplace=True)"
   ]
  },
  {
   "cell_type": "code",
   "execution_count": 57,
   "metadata": {},
   "outputs": [
    {
     "data": {
      "text/html": [
       "<div>\n",
       "<style scoped>\n",
       "    .dataframe tbody tr th:only-of-type {\n",
       "        vertical-align: middle;\n",
       "    }\n",
       "\n",
       "    .dataframe tbody tr th {\n",
       "        vertical-align: top;\n",
       "    }\n",
       "\n",
       "    .dataframe thead th {\n",
       "        text-align: right;\n",
       "    }\n",
       "</style>\n",
       "<table border=\"1\" class=\"dataframe\">\n",
       "  <thead>\n",
       "    <tr style=\"text-align: right;\">\n",
       "      <th></th>\n",
       "      <th>open</th>\n",
       "      <th>high</th>\n",
       "      <th>low</th>\n",
       "      <th>Close</th>\n",
       "      <th>close</th>\n",
       "      <th>volume</th>\n",
       "    </tr>\n",
       "    <tr>\n",
       "      <th>Datetime</th>\n",
       "      <th></th>\n",
       "      <th></th>\n",
       "      <th></th>\n",
       "      <th></th>\n",
       "      <th></th>\n",
       "      <th></th>\n",
       "    </tr>\n",
       "  </thead>\n",
       "  <tbody>\n",
       "    <tr>\n",
       "      <th>2023-02-02 00:00:00+00:00</th>\n",
       "      <td>23,720.82</td>\n",
       "      <td>23,744.97</td>\n",
       "      <td>23,720.82</td>\n",
       "      <td>23,744.97</td>\n",
       "      <td>23,744.97</td>\n",
       "      <td>0</td>\n",
       "    </tr>\n",
       "    <tr>\n",
       "      <th>2023-02-02 00:05:00+00:00</th>\n",
       "      <td>23,741.16</td>\n",
       "      <td>23,744.20</td>\n",
       "      <td>23,733.35</td>\n",
       "      <td>23,743.77</td>\n",
       "      <td>23,743.77</td>\n",
       "      <td>5349376</td>\n",
       "    </tr>\n",
       "    <tr>\n",
       "      <th>2023-02-02 00:10:00+00:00</th>\n",
       "      <td>23,736.00</td>\n",
       "      <td>23,736.00</td>\n",
       "      <td>23,715.62</td>\n",
       "      <td>23,718.70</td>\n",
       "      <td>23,718.70</td>\n",
       "      <td>0</td>\n",
       "    </tr>\n",
       "    <tr>\n",
       "      <th>2023-02-02 00:15:00+00:00</th>\n",
       "      <td>23,726.76</td>\n",
       "      <td>23,741.25</td>\n",
       "      <td>23,726.76</td>\n",
       "      <td>23,741.25</td>\n",
       "      <td>23,741.25</td>\n",
       "      <td>43282432</td>\n",
       "    </tr>\n",
       "    <tr>\n",
       "      <th>2023-02-02 00:20:00+00:00</th>\n",
       "      <td>23,731.92</td>\n",
       "      <td>23,739.44</td>\n",
       "      <td>23,729.17</td>\n",
       "      <td>23,739.44</td>\n",
       "      <td>23,739.44</td>\n",
       "      <td>36706304</td>\n",
       "    </tr>\n",
       "  </tbody>\n",
       "</table>\n",
       "</div>"
      ],
      "text/plain": [
       "                               open      high       low     Close     close  \\\n",
       "Datetime                                                                      \n",
       "2023-02-02 00:00:00+00:00 23,720.82 23,744.97 23,720.82 23,744.97 23,744.97   \n",
       "2023-02-02 00:05:00+00:00 23,741.16 23,744.20 23,733.35 23,743.77 23,743.77   \n",
       "2023-02-02 00:10:00+00:00 23,736.00 23,736.00 23,715.62 23,718.70 23,718.70   \n",
       "2023-02-02 00:15:00+00:00 23,726.76 23,741.25 23,726.76 23,741.25 23,741.25   \n",
       "2023-02-02 00:20:00+00:00 23,731.92 23,739.44 23,729.17 23,739.44 23,739.44   \n",
       "\n",
       "                             volume  \n",
       "Datetime                             \n",
       "2023-02-02 00:00:00+00:00         0  \n",
       "2023-02-02 00:05:00+00:00   5349376  \n",
       "2023-02-02 00:10:00+00:00         0  \n",
       "2023-02-02 00:15:00+00:00  43282432  \n",
       "2023-02-02 00:20:00+00:00  36706304  "
      ]
     },
     "execution_count": 57,
     "metadata": {},
     "output_type": "execute_result"
    }
   ],
   "source": [
    "ohlcv.head(5)"
   ]
  },
  {
   "cell_type": "code",
   "execution_count": 58,
   "metadata": {},
   "outputs": [
    {
     "data": {
      "text/plain": [
       "Datetime\n",
       "2023-02-02 00:00:00+00:00   23,744.97\n",
       "2023-02-02 00:05:00+00:00   23,743.77\n",
       "2023-02-02 00:10:00+00:00   23,718.70\n",
       "2023-02-02 00:15:00+00:00   23,741.25\n",
       "2023-02-02 00:20:00+00:00   23,739.44\n",
       "Name: Close, dtype: float64"
      ]
     },
     "execution_count": 58,
     "metadata": {},
     "output_type": "execute_result"
    }
   ],
   "source": [
    "prices.head(5)"
   ]
  },
  {
   "cell_type": "code",
   "execution_count": 59,
   "metadata": {},
   "outputs": [],
   "source": [
    " \n",
    "rsi_ind = from_talib(\n",
    "    func_name='rsi',\n",
    "    df_prices=ohlcv,\n",
    "    cart_product=False,\n",
    "    combos=False,\n",
    "    timeperiod=30,\n",
    ")\n",
    "\n",
    "\n",
    " \n",
    "# talib.abstract.RSI(prices)\n"
   ]
  },
  {
   "cell_type": "code",
   "execution_count": 60,
   "metadata": {},
   "outputs": [],
   "source": [
    "# Define Divergence\n",
    "def divergence(\n",
    "    # using price set as starting point to calculate divergence\n",
    "    price_set,\n",
    "    # using last 14 bars/days period window for RSI indicator. This is just a template and can be changed when we will execute .run function in next stage.\n",
    "    rsi_window,\n",
    "    # using last 1 bar/day period window for fast Moving Average indicator. This is just a template and can be changed when we will execute .run function in next stage.\n",
    "    fast_ma_window,\n",
    "\n",
    "    # using last 50 bars/days period window for fast Moving Average indicator.  This is just a template and can be changed when we will execute .run function in next stage.\n",
    "        slow_ma_window,):\n",
    "\n",
    "    slow_ma = from_talib(\n",
    "        func_name='MA',\n",
    "        df_prices=ohlcv,\n",
    "        cart_product=False,\n",
    "        combos=False,\n",
    "        timeperiod=slow_ma_window,\n",
    "    )\n",
    "    fast_ma = from_talib(\n",
    "        func_name='MA',\n",
    "        df_prices=ohlcv,\n",
    "        cart_product=False,\n",
    "        combos=False,\n",
    "        timeperiod=fast_ma_window,\n",
    "    )\n",
    "    rsi_indicator = from_talib(\n",
    "        func_name='MA',\n",
    "        df_prices=ohlcv,\n",
    "        cart_product=False,\n",
    "        combos=False,\n",
    "        timeperiod=rsi_window,\n",
    "    ).squeeze()\n",
    "\n",
    "# Calculate the Divergence indicator. Arithmetics behind indicators is black box for me and consist of pure mathematics\n",
    "    bullish_divergence = ((price_set.diff() < 0) & (rsi_indicator.diff() > 0)).to_numpy()\n",
    "\n",
    "    bearish_divergence = ((price_set.diff() < 0) &\n",
    "                          (rsi_indicator.diff() < 0)).to_numpy()\n",
    "\n",
    "    # Determine UpTrend (fast MA above slow MA)\n",
    "    trend_up = eval_is_above(\n",
    "        ind_data=fast_ma,\n",
    "        ind_results=slow_ma.squeeze(),\n",
    "    )\n",
    "    trend_down = eval_is_below(\n",
    "        ind_data=fast_ma,\n",
    "        ind_results=slow_ma.squeeze(),\n",
    "    )\n",
    "\n",
    "    # Convert everything to Numpy array\n",
    "    trend_up = trend_up.to_numpy().flatten()\n",
    "    trend_down = trend_down.to_numpy().flatten()\n",
    "\n",
    "    # Combine all previous indicators into the one\n",
    "    # We need that if bullish_divergence (trend_up), True PLUS fast MA above slow MA, then set 1, everything else - 0. If bearish_divergence True, PLUS fast MA above slow MA (trend_down), then set -1\n",
    "    indicator_buy = np.logical_and(bullish_divergence == True,trend_up == True)\n",
    "    indicator_buy = np.where(indicator_buy == True, 1, 0)\n",
    "    indicator_sell = np.logical_and(bearish_divergence == True,trend_down == True)\n",
    "    indicator = np.where(indicator_sell == True, -1, indicator_buy)\n",
    "\n",
    "\n",
    "    return indicator\n"
   ]
  },
  {
   "cell_type": "code",
   "execution_count": 92,
   "metadata": {},
   "outputs": [
    {
     "data": {
      "text/html": [
       "<div>\n",
       "<style scoped>\n",
       "    .dataframe tbody tr th:only-of-type {\n",
       "        vertical-align: middle;\n",
       "    }\n",
       "\n",
       "    .dataframe tbody tr th {\n",
       "        vertical-align: top;\n",
       "    }\n",
       "\n",
       "    .dataframe thead tr th {\n",
       "        text-align: left;\n",
       "    }\n",
       "\n",
       "    .dataframe thead tr:last-of-type th {\n",
       "        text-align: right;\n",
       "    }\n",
       "</style>\n",
       "<table border=\"1\" class=\"dataframe\">\n",
       "  <thead>\n",
       "    <tr>\n",
       "      <th>RSI_timeperiod</th>\n",
       "      <th>14</th>\n",
       "    </tr>\n",
       "    <tr>\n",
       "      <th>RSI_is_below</th>\n",
       "      <th>0</th>\n",
       "    </tr>\n",
       "    <tr>\n",
       "      <th>Datetime</th>\n",
       "      <th></th>\n",
       "    </tr>\n",
       "  </thead>\n",
       "  <tbody>\n",
       "    <tr>\n",
       "      <th>2023-02-02 00:00:00+00:00</th>\n",
       "      <td>False</td>\n",
       "    </tr>\n",
       "    <tr>\n",
       "      <th>2023-02-02 00:05:00+00:00</th>\n",
       "      <td>False</td>\n",
       "    </tr>\n",
       "    <tr>\n",
       "      <th>2023-02-02 00:10:00+00:00</th>\n",
       "      <td>False</td>\n",
       "    </tr>\n",
       "    <tr>\n",
       "      <th>2023-02-02 00:15:00+00:00</th>\n",
       "      <td>False</td>\n",
       "    </tr>\n",
       "    <tr>\n",
       "      <th>2023-02-02 00:20:00+00:00</th>\n",
       "      <td>False</td>\n",
       "    </tr>\n",
       "  </tbody>\n",
       "</table>\n",
       "</div>"
      ],
      "text/plain": [
       "RSI_timeperiod                14\n",
       "RSI_is_below                   0\n",
       "Datetime                        \n",
       "2023-02-02 00:00:00+00:00  False\n",
       "2023-02-02 00:05:00+00:00  False\n",
       "2023-02-02 00:10:00+00:00  False\n",
       "2023-02-02 00:15:00+00:00  False\n",
       "2023-02-02 00:20:00+00:00  False"
      ]
     },
     "execution_count": 92,
     "metadata": {},
     "output_type": "execute_result"
    }
   ],
   "source": [
    "# Just for testing purposes - can be deleten\n",
    "\n",
    "rsi_ind = from_talib(\n",
    "    func_name='rsi',\n",
    "    df_prices=ohlcv,\n",
    "    cart_product=False,\n",
    "    combos=False,\n",
    "    timeperiod=14,\n",
    ")\n",
    "\n",
    "rsi_eval = eval_is_below(\n",
    "    rsi_ind,\n",
    "    np.arange(1),\n",
    ")\n",
    "\n",
    "\n",
    "rsi_eval.head(5)\n",
    " \n"
   ]
  },
  {
   "cell_type": "code",
   "execution_count": 93,
   "metadata": {},
   "outputs": [
    {
     "ename": "TypingError",
     "evalue": "Failed in nopython mode pipeline (step: nopython frontend)\n\u001b[1m\u001b[1m\u001b[1mNo implementation of function Function(<built-in function asarray>) found for signature:\n \n >>> asarray(float64, dtype=class(float64))\n \nThere are 2 candidate implementations:\n\u001b[1m      - Of which 2 did not match due to:\n      Overload in function 'np_asarray': File: numba\\np\\arraymath.py: Line 4416.\n        With argument(s): '(float64, dtype=class(float64))':\u001b[0m\n\u001b[1m       Rejected as the implementation raised a specific error:\n         AttributeError: 'function' object has no attribute 'get_call_template'\u001b[0m\n  raised from c:\\coding\\qfFree\\lib\\site-packages\\numba\\core\\types\\functions.py:541\n\u001b[0m\n\u001b[0m\u001b[1mDuring: resolving callee type: Function(<built-in function asarray>)\u001b[0m\n\u001b[0m\u001b[1mDuring: typing of call at c:\\coding\\qfFree\\lib\\site-packages\\quantfreedom\\nb\\simulate.py (99)\n\u001b[0m\n\u001b[1m\nFile \"..\\..\\qfFree\\lib\\site-packages\\quantfreedom\\nb\\simulate.py\", line 99:\u001b[0m\n\u001b[1mdef backtest_df_array_only(\n    <source elided>\n    # Order Arrays\n\u001b[1m    leverage_array = to_1d_array_nb(np.asarray(leverage, dtype=np.float_))\n\u001b[0m    \u001b[1m^\u001b[0m\u001b[0m\n",
     "output_type": "error",
     "traceback": [
      "\u001b[1;31m---------------------------------------------------------------------------\u001b[0m",
      "\u001b[1;31mTypingError\u001b[0m                               Traceback (most recent call last)",
      "Cell \u001b[1;32mIn[93], line 3\u001b[0m\n\u001b[0;32m      1\u001b[0m \u001b[39m# Define backtester\u001b[39;00m\n\u001b[1;32m----> 3\u001b[0m strat_array, settings_array \u001b[39m=\u001b[39m backtest_df_array_only(\n\u001b[0;32m      4\u001b[0m     open_prices\u001b[39m=\u001b[39;49mohlcv\u001b[39m.\u001b[39;49mopen\u001b[39m.\u001b[39;49mvalues,\n\u001b[0;32m      5\u001b[0m     high_prices\u001b[39m=\u001b[39;49mohlcv\u001b[39m.\u001b[39;49mhigh\u001b[39m.\u001b[39;49mvalues,\n\u001b[0;32m      6\u001b[0m     low_prices\u001b[39m=\u001b[39;49mohlcv\u001b[39m.\u001b[39;49mlow\u001b[39m.\u001b[39;49mvalues,\n\u001b[0;32m      7\u001b[0m     close_prices\u001b[39m=\u001b[39;49mohlcv\u001b[39m.\u001b[39;49mclose\u001b[39m.\u001b[39;49mvalues,\n\u001b[0;32m      8\u001b[0m     entries\u001b[39m=\u001b[39;49mrsi_eval\u001b[39m.\u001b[39;49mvalues,\n\u001b[0;32m      9\u001b[0m     equity\u001b[39m=\u001b[39;49m\u001b[39m1000.\u001b[39;49m,\n\u001b[0;32m     10\u001b[0m     fee_pct\u001b[39m=\u001b[39;49m\u001b[39m.02\u001b[39;49m,\n\u001b[0;32m     11\u001b[0m     mmr\u001b[39m=\u001b[39;49m\u001b[39m.5\u001b[39;49m,\n\u001b[0;32m     12\u001b[0m     lev_mode\u001b[39m=\u001b[39;49mLeverageMode\u001b[39m.\u001b[39;49mLeastFreeCashUsed,\n\u001b[0;32m     13\u001b[0m     size_type\u001b[39m=\u001b[39;49mSizeType\u001b[39m.\u001b[39;49mRiskPercentOfAccount,\n\u001b[0;32m     14\u001b[0m     order_type\u001b[39m=\u001b[39;49mOrderType\u001b[39m.\u001b[39;49mLongEntry,\n\u001b[0;32m     15\u001b[0m     max_equity_risk_pct\u001b[39m=\u001b[39;49mnp\u001b[39m.\u001b[39;49marange(\u001b[39m1\u001b[39;49m,\u001b[39m6.1\u001b[39;49m,\u001b[39m1\u001b[39;49m),\n\u001b[0;32m     16\u001b[0m     risk_rewards\u001b[39m=\u001b[39;49mnp\u001b[39m.\u001b[39;49marange(\u001b[39m1\u001b[39;49m,\u001b[39m10.1\u001b[39;49m,\u001b[39m1\u001b[39;49m),\n\u001b[0;32m     17\u001b[0m     size_pct\u001b[39m=\u001b[39;49m\u001b[39m1.\u001b[39;49m,\n\u001b[0;32m     18\u001b[0m     gains_pct_filter\u001b[39m=\u001b[39;49m\u001b[39m100\u001b[39;49m,\n\u001b[0;32m     19\u001b[0m     \u001b[39m# sl_pcts=np.arange(1,6,1),\u001b[39;49;00m\n\u001b[0;32m     20\u001b[0m     tsl_true_or_false\u001b[39m=\u001b[39;49m\u001b[39mTrue\u001b[39;49;00m,\n\u001b[0;32m     21\u001b[0m     tsl_pcts_init\u001b[39m=\u001b[39;49mnp\u001b[39m.\u001b[39;49marange(\u001b[39m1\u001b[39;49m,\u001b[39m6.1\u001b[39;49m,\u001b[39m1\u001b[39;49m),\n\u001b[0;32m     22\u001b[0m     tsl_based_on\u001b[39m=\u001b[39;49mSL_BE_or_Trail_BasedOn\u001b[39m.\u001b[39;49mlow_price,\n\u001b[0;32m     23\u001b[0m     tsl_trail_by_pct\u001b[39m=\u001b[39;49mnp\u001b[39m.\u001b[39;49marange(\u001b[39m1\u001b[39;49m,\u001b[39m5.1\u001b[39;49m,\u001b[39m1\u001b[39;49m),\n\u001b[0;32m     24\u001b[0m     tsl_when_pct_from_avg_entry\u001b[39m=\u001b[39;49mnp\u001b[39m.\u001b[39;49marange(\u001b[39m1\u001b[39;49m,\u001b[39m5.1\u001b[39;49m,\u001b[39m1\u001b[39;49m),\n\u001b[0;32m     25\u001b[0m )\n",
      "File \u001b[1;32mc:\\coding\\qfFree\\lib\\site-packages\\numba\\core\\dispatcher.py:468\u001b[0m, in \u001b[0;36m_DispatcherBase._compile_for_args\u001b[1;34m(self, *args, **kws)\u001b[0m\n\u001b[0;32m    464\u001b[0m         msg \u001b[39m=\u001b[39m (\u001b[39mf\u001b[39m\u001b[39m\"\u001b[39m\u001b[39m{\u001b[39;00m\u001b[39mstr\u001b[39m(e)\u001b[39m.\u001b[39mrstrip()\u001b[39m}\u001b[39;00m\u001b[39m \u001b[39m\u001b[39m\\n\u001b[39;00m\u001b[39m\\n\u001b[39;00m\u001b[39mThis error may have been caused \u001b[39m\u001b[39m\"\u001b[39m\n\u001b[0;32m    465\u001b[0m                \u001b[39mf\u001b[39m\u001b[39m\"\u001b[39m\u001b[39mby the following argument(s):\u001b[39m\u001b[39m\\n\u001b[39;00m\u001b[39m{\u001b[39;00margs_str\u001b[39m}\u001b[39;00m\u001b[39m\\n\u001b[39;00m\u001b[39m\"\u001b[39m)\n\u001b[0;32m    466\u001b[0m         e\u001b[39m.\u001b[39mpatch_message(msg)\n\u001b[1;32m--> 468\u001b[0m     error_rewrite(e, \u001b[39m'\u001b[39;49m\u001b[39mtyping\u001b[39;49m\u001b[39m'\u001b[39;49m)\n\u001b[0;32m    469\u001b[0m \u001b[39mexcept\u001b[39;00m errors\u001b[39m.\u001b[39mUnsupportedError \u001b[39mas\u001b[39;00m e:\n\u001b[0;32m    470\u001b[0m     \u001b[39m# Something unsupported is present in the user code, add help info\u001b[39;00m\n\u001b[0;32m    471\u001b[0m     error_rewrite(e, \u001b[39m'\u001b[39m\u001b[39munsupported_error\u001b[39m\u001b[39m'\u001b[39m)\n",
      "File \u001b[1;32mc:\\coding\\qfFree\\lib\\site-packages\\numba\\core\\dispatcher.py:409\u001b[0m, in \u001b[0;36m_DispatcherBase._compile_for_args.<locals>.error_rewrite\u001b[1;34m(e, issue_type)\u001b[0m\n\u001b[0;32m    407\u001b[0m     \u001b[39mraise\u001b[39;00m e\n\u001b[0;32m    408\u001b[0m \u001b[39melse\u001b[39;00m:\n\u001b[1;32m--> 409\u001b[0m     \u001b[39mraise\u001b[39;00m e\u001b[39m.\u001b[39mwith_traceback(\u001b[39mNone\u001b[39;00m)\n",
      "\u001b[1;31mTypingError\u001b[0m: Failed in nopython mode pipeline (step: nopython frontend)\n\u001b[1m\u001b[1m\u001b[1mNo implementation of function Function(<built-in function asarray>) found for signature:\n \n >>> asarray(float64, dtype=class(float64))\n \nThere are 2 candidate implementations:\n\u001b[1m      - Of which 2 did not match due to:\n      Overload in function 'np_asarray': File: numba\\np\\arraymath.py: Line 4416.\n        With argument(s): '(float64, dtype=class(float64))':\u001b[0m\n\u001b[1m       Rejected as the implementation raised a specific error:\n         AttributeError: 'function' object has no attribute 'get_call_template'\u001b[0m\n  raised from c:\\coding\\qfFree\\lib\\site-packages\\numba\\core\\types\\functions.py:541\n\u001b[0m\n\u001b[0m\u001b[1mDuring: resolving callee type: Function(<built-in function asarray>)\u001b[0m\n\u001b[0m\u001b[1mDuring: typing of call at c:\\coding\\qfFree\\lib\\site-packages\\quantfreedom\\nb\\simulate.py (99)\n\u001b[0m\n\u001b[1m\nFile \"..\\..\\qfFree\\lib\\site-packages\\quantfreedom\\nb\\simulate.py\", line 99:\u001b[0m\n\u001b[1mdef backtest_df_array_only(\n    <source elided>\n    # Order Arrays\n\u001b[1m    leverage_array = to_1d_array_nb(np.asarray(leverage, dtype=np.float_))\n\u001b[0m    \u001b[1m^\u001b[0m\u001b[0m\n"
     ]
    }
   ],
   "source": [
    "# Define backtester\n",
    "\n",
    "strat_array, settings_array = backtest_df_array_only(\n",
    "    open_prices=ohlcv.open.values,\n",
    "    high_prices=ohlcv.high.values,\n",
    "    low_prices=ohlcv.low.values,\n",
    "    close_prices=ohlcv.close.values,\n",
    "    entries=rsi_eval.values,\n",
    "    equity=1000.,\n",
    "    fee_pct=.02,\n",
    "    mmr=.5,\n",
    "    lev_mode=LeverageMode.LeastFreeCashUsed,\n",
    "    size_type=SizeType.RiskPercentOfAccount,\n",
    "    order_type=OrderType.LongEntry,\n",
    "    max_equity_risk_pct=np.arange(1,6.1,1),\n",
    "    risk_rewards=np.arange(1,10.1,1),\n",
    "    size_pct=1.,\n",
    "    gains_pct_filter=100,\n",
    "    # sl_pcts=np.arange(1,6,1),\n",
    "    tsl_true_or_false=True,\n",
    "    tsl_pcts_init=np.arange(1,6.1,1),\n",
    "    tsl_based_on=SL_BE_or_Trail_BasedOn.low_price,\n",
    "    tsl_trail_by_pct=np.arange(1,5.1,1),\n",
    "    tsl_when_pct_from_avg_entry=np.arange(1,5.1,1),\n",
    ")"
   ]
  },
  {
   "cell_type": "code",
   "execution_count": null,
   "metadata": {},
   "outputs": [],
   "source": [
    "# Evaluators and backtesting\n"
   ]
  },
  {
   "cell_type": "code",
   "execution_count": null,
   "metadata": {},
   "outputs": [],
   "source": [
    "atr_ind = from_talib(\n",
    "    func_name='atr',\n",
    "    df_prices=ohlcv,\n",
    "    cart_product=False,\n",
    "    combos=False,\n",
    "    timeperiod=1,\n",
    ")\n",
    "\n",
    "talib.SMA(atr_ind.values.flatten(), timeperiod=50)"
   ]
  },
  {
   "cell_type": "code",
   "execution_count": null,
   "metadata": {},
   "outputs": [],
   "source": [
    "\"\"\"\n",
    "pf = vbt.Portfolio.from_signals(ohlcv, divergence(indicator_buy), divergence(indicator_sell))\n",
    "\n",
    "# Output\n",
    "print(pf.total_return())\n",
    "print(pf.stats())\n",
    "\"\"\""
   ]
  },
  {
   "cell_type": "code",
   "execution_count": null,
   "metadata": {},
   "outputs": [],
   "source": [
    "divergence(\n",
    "    price_set=ohlcv.close,\n",
    "    rsi_window=15,\n",
    "    fast_ma_window=10,\n",
    "    slow_ma_window=40,\n",
    ")"
   ]
  },
  {
   "cell_type": "code",
   "execution_count": null,
   "metadata": {},
   "outputs": [],
   "source": [
    "atr_ind = from_talib(\n",
    "    func_name='atr',\n",
    "    df_prices=ohlcv,\n",
    "    cart_product=False,\n",
    "    combos=False,\n",
    "    timeperiod=1,\n",
    ")"
   ]
  },
  {
   "cell_type": "code",
   "execution_count": null,
   "metadata": {},
   "outputs": [],
   "source": [
    "atr_ind"
   ]
  },
  {
   "cell_type": "code",
   "execution_count": null,
   "metadata": {},
   "outputs": [],
   "source": [
    "talib.SMA(atr_ind.values.flatten(), timeperiod=50)\n"
   ]
  },
  {
   "cell_type": "code",
   "execution_count": null,
   "metadata": {},
   "outputs": [],
   "source": [
    "(1000 / ohlcv.close.values.flatten())"
   ]
  },
  {
   "cell_type": "code",
   "execution_count": null,
   "metadata": {},
   "outputs": [],
   "source": [
    "talib.SMA(atr_ind.values.flatten(), timeperiod=50) * (1000 / ohlcv.close.values.flatten())"
   ]
  },
  {
   "cell_type": "code",
   "execution_count": null,
   "metadata": {},
   "outputs": [],
   "source": [
    "fast_ma = vbt.MA.run(price_set, fast_ma_window, short_name='fast')\n",
    "#printing tpe of bearish_divergence \n",
    "print(\"printing tpe of bearish_divergence dataset:\")\n",
    "print(type(bearish_divergence))\n",
    "# Get slow Moving Average (MA) of the prices\n",
    "\n",
    "atr = vbt.ATR.run(high_price, low_price, price, atr_window)\n",
    "#atr = atr.atr.to_numpy()\n",
    "\n",
    "atr = atr.atr.to_numpy()\n",
    "##print(type(atr))\n",
    "\n",
    "# Calculate adaptive/dynamically changing value based on ATR and current price \n",
    "atr_results = atr * atr_scaler / price #* rsi_window\n",
    "\n",
    "slow_ma = vbt.MA.run(atr_results, slow_ma_window, short_name='slow')\n",
    "print(\"printing tpe of slow_ma dataset:\")\n",
    "print(type(slow_ma))"
   ]
  },
  {
   "cell_type": "code",
   "execution_count": null,
   "metadata": {},
   "outputs": [],
   "source": [
    "fig = go.Figure()\n",
    "fig.add_scatter(\n",
    "    x=atr_ind.index.to_list(),\n",
    "    y=ohlcv.close.values.flatten(),\n",
    "    mode='lines',\n",
    "    marker=dict(color='red'),\n",
    "    name='ATR'\n",
    "\n",
    ")\n",
    "fig.add_scatter(\n",
    "    x=rsi_ind.index.to_list(),\n",
    "    y=talib.SMA(atr_ind.values.flatten(), timeperiod=100) * 1000 / ohlcv.close.values.flatten(),\n",
    "    mode='lines',\n",
    "    marker=dict(color='blue'),\n",
    "    name='SMA'\n",
    ")\n",
    "fig.show()\n"
   ]
  },
  {
   "cell_type": "code",
   "execution_count": null,
   "metadata": {},
   "outputs": [],
   "source": [
    "atr_ind.values.flatten()"
   ]
  },
  {
   "cell_type": "code",
   "execution_count": null,
   "metadata": {},
   "outputs": [],
   "source": [
    "atr_ind"
   ]
  },
  {
   "cell_type": "code",
   "execution_count": null,
   "metadata": {},
   "outputs": [],
   "source": [
    "atr_ma = from_talib(\n",
    "    func_name='MA',\n",
    "    df_prices=None,\n",
    "    cart_product=False,\n",
    "    combos=False,\n",
    "    timeperiod=50,\n",
    "    price=atr_ind.values.flatten()\n",
    ")"
   ]
  },
  {
   "cell_type": "code",
   "execution_count": null,
   "metadata": {},
   "outputs": [],
   "source": [
    "talib_ind_info('stoch')"
   ]
  },
  {
   "cell_type": "code",
   "execution_count": null,
   "metadata": {},
   "outputs": [],
   "source": [
    "close = np.random.random(100)\n",
    "open = np.random.random(100)\n",
    "high = np.random.random(100)"
   ]
  },
  {
   "cell_type": "code",
   "execution_count": null,
   "metadata": {},
   "outputs": [],
   "source": [
    "Function('sma')(np.random.random(10000), 50)"
   ]
  },
  {
   "cell_type": "code",
   "execution_count": null,
   "metadata": {},
   "outputs": [],
   "source": [
    "_, hey = talib.STOCH(close, open, high, *(10,15))\n",
    "hey"
   ]
  }
 ],
 "metadata": {
  "kernelspec": {
   "display_name": "qfFree",
   "language": "python",
   "name": "python3"
  },
  "language_info": {
   "codemirror_mode": {
    "name": "ipython",
    "version": 3
   },
   "file_extension": ".py",
   "mimetype": "text/x-python",
   "name": "python",
   "nbconvert_exporter": "python",
   "pygments_lexer": "ipython3",
   "version": "3.10.0"
  },
  "orig_nbformat": 4
 },
 "nbformat": 4,
 "nbformat_minor": 2
}
