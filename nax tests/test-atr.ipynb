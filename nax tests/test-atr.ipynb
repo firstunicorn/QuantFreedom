{
 "cells": [
  {
   "cell_type": "code",
   "execution_count": 1,
   "metadata": {},
   "outputs": [],
   "source": [
    "#pip install -U git+https://github.com/QuantFreedom1022/quantfreedom@dev"
   ]
  },
  {
   "cell_type": "code",
   "execution_count": 3,
   "metadata": {},
   "outputs": [],
   "source": [
    "#pip install vectorbt"
   ]
  },
  {
   "cell_type": "code",
   "execution_count": 2,
   "metadata": {},
   "outputs": [
    {
     "name": "stdout",
     "output_type": "stream",
     "text": [
      "Collecting yfinance"
     ]
    },
    {
     "name": "stderr",
     "output_type": "stream",
     "text": [
      "\n",
      "[notice] A new release of pip available: 22.3.1 -> 23.0.1\n",
      "[notice] To update, run: python.exe -m pip install --upgrade pip\n"
     ]
    },
    {
     "name": "stdout",
     "output_type": "stream",
     "text": [
      "\n",
      "  Using cached yfinance-0.2.14-py2.py3-none-any.whl (59 kB)\n",
      "Collecting multitasking>=0.0.7\n",
      "  Using cached multitasking-0.0.11-py3-none-any.whl (8.5 kB)\n",
      "Requirement already satisfied: numpy>=1.16.5 in c:\\coding\\qffree\\lib\\site-packages (from yfinance) (1.23.5)\n",
      "Collecting appdirs>=1.4.4\n",
      "  Using cached appdirs-1.4.4-py2.py3-none-any.whl (9.6 kB)\n",
      "Collecting lxml>=4.9.1\n",
      "  Using cached lxml-4.9.2-cp310-cp310-win_amd64.whl (3.8 MB)\n",
      "Collecting frozendict>=2.3.4\n",
      "  Using cached frozendict-2.3.6-cp310-cp310-win_amd64.whl (34 kB)\n",
      "Requirement already satisfied: cryptography>=3.3.2 in c:\\coding\\qffree\\lib\\site-packages (from yfinance) (40.0.1)\n",
      "Requirement already satisfied: beautifulsoup4>=4.11.1 in c:\\coding\\qffree\\lib\\site-packages (from yfinance) (4.12.0)\n",
      "Requirement already satisfied: pytz>=2022.5 in c:\\coding\\qffree\\lib\\site-packages (from yfinance) (2023.3)\n",
      "Requirement already satisfied: requests>=2.26 in c:\\coding\\qffree\\lib\\site-packages (from yfinance) (2.28.2)\n",
      "Requirement already satisfied: pandas>=1.3.0 in c:\\coding\\qffree\\lib\\site-packages (from yfinance) (2.0.0)\n",
      "Collecting html5lib>=1.1\n",
      "  Using cached html5lib-1.1-py2.py3-none-any.whl (112 kB)\n",
      "Requirement already satisfied: soupsieve>1.2 in c:\\coding\\qffree\\lib\\site-packages (from beautifulsoup4>=4.11.1->yfinance) (2.4)\n",
      "Requirement already satisfied: cffi>=1.12 in c:\\coding\\qffree\\lib\\site-packages (from cryptography>=3.3.2->yfinance) (1.15.1)\n",
      "Requirement already satisfied: six>=1.9 in c:\\coding\\qffree\\lib\\site-packages (from html5lib>=1.1->yfinance) (1.16.0)\n",
      "Requirement already satisfied: webencodings in c:\\coding\\qffree\\lib\\site-packages (from html5lib>=1.1->yfinance) (0.5.1)\n",
      "Requirement already satisfied: python-dateutil>=2.8.2 in c:\\coding\\qffree\\lib\\site-packages (from pandas>=1.3.0->yfinance) (2.8.2)\n",
      "Requirement already satisfied: tzdata>=2022.1 in c:\\coding\\qffree\\lib\\site-packages (from pandas>=1.3.0->yfinance) (2023.3)\n",
      "Requirement already satisfied: charset-normalizer<4,>=2 in c:\\coding\\qffree\\lib\\site-packages (from requests>=2.26->yfinance) (3.1.0)\n",
      "Requirement already satisfied: urllib3<1.27,>=1.21.1 in c:\\coding\\qffree\\lib\\site-packages (from requests>=2.26->yfinance) (1.26.15)\n",
      "Requirement already satisfied: idna<4,>=2.5 in c:\\coding\\qffree\\lib\\site-packages (from requests>=2.26->yfinance) (3.4)\n",
      "Requirement already satisfied: certifi>=2017.4.17 in c:\\coding\\qffree\\lib\\site-packages (from requests>=2.26->yfinance) (2022.12.7)\n",
      "Requirement already satisfied: pycparser in c:\\coding\\qffree\\lib\\site-packages (from cffi>=1.12->cryptography>=3.3.2->yfinance) (2.21)\n",
      "Installing collected packages: multitasking, appdirs, lxml, html5lib, frozendict, yfinance\n",
      "Successfully installed appdirs-1.4.4 frozendict-2.3.6 html5lib-1.1 lxml-4.9.2 multitasking-0.0.11 yfinance-0.2.14\n"
     ]
    }
   ],
   "source": [
    "#installation of Yahoo Finance \n",
    "!pip install yfinance"
   ]
  },
  {
   "cell_type": "code",
   "execution_count": 3,
   "metadata": {},
   "outputs": [
    {
     "data": {
      "text/plain": [
       "'\\nTrying to fix it: 1) Delete and install extensions again: jupyter, python, Pylance, Python Environment Manager DONE! Not helped.\\n\\n2) Removing all venv by a) jupyter kernelspec list b) than: jupyter kernelspec remove <kernel_name>\\n\\n3) Uninstall Python in Windows and install again\\n'"
      ]
     },
     "execution_count": 3,
     "metadata": {},
     "output_type": "execute_result"
    }
   ],
   "source": [
    "### Importing QuantFreedom and all requirements for strategy creation\n",
    "\n",
    "import os\n",
    "import sys\n",
    "sys.dont_write_bytecode = True\n",
    "os.environ[\"NUMBA_DISABLE_JIT\"] = \"1\"\n",
    "\n",
    "from quantfreedom.nax_qf.eval_nax import eval_is_above\n",
    "\n",
    "import quantfreedom as qf\n",
    "#import vectorbt as vbt\n",
    "import yfinance as yf\n",
    "import numpy as np\n",
    "import pandas as pd\n",
    "from dash import Dash, html, dcc\n",
    "from jupyter_dash import JupyterDash\n",
    "\n",
    "import plotly.express as px\n",
    "import plotly.graph_objects as go\n",
    "\n",
    "import talib\n",
    "from talib.abstract import Function\n",
    "from talib import abstract\n",
    "\n",
    "# ^ - importing in next cell\n",
    "# ^^^ from quantfreedom.backtester.indicators.talib_ind import from_talib, talib_func_list_website_link, talib_ind_info\n",
    "# ^^^ \n",
    "from quantfreedom.evaluators.evaluators import eval_is_below, eval_is_above, combine_evals\n",
    "from quantfreedom._typing import (\n",
    "    pdFrame, pdSeries)\n",
    "\n",
    "\n",
    "#!!!!!!!!!! ############################ if I choose kernel Python 3.10, I got error on 8 cell. If I choose qfFree, I got error on cell 8\n",
    "# it's start to happen when I'm uncomment this row: from quantfreedom.backtester.evaluators.evaluators import eval_is_below, eval_is_above, combine_evals\n",
    "\"\"\"\n",
    "Trying to fix it: 1) Delete and install extensions again: jupyter, python, Pylance, Python Environment Manager DONE! Not helped.\n",
    "\n",
    "2) Removing all venv by a) jupyter kernelspec list b) than: jupyter kernelspec remove <kernel_name>\n",
    "\n",
    "3) Uninstall Python in Windows and install again\n",
    "\"\"\"\n"
   ]
  },
  {
   "cell_type": "code",
   "execution_count": 4,
   "metadata": {},
   "outputs": [],
   "source": [
    "####### Importing all QuantFreedom backtesting stuff #######\n",
    "\n",
    "# import os\n",
    "# import sys\n",
    "# sys.dont_write_bytecode = True\n",
    "# os.environ[\"NUMBA_DISABLE_JIT\"] = \"1\"\n",
    "\n",
    "# ^ - already imported in previous cell\n",
    "# ^^^ import plotly.express as px\n",
    "# ^^^ import plotly.graph_objects as go\n",
    "\n",
    "# ^ - already imported in previous cell\n",
    "# ^^^ import pandas as pd\n",
    "# ^^^ import numpy as np\n",
    "from quantfreedom.utils.caching import clear_cache\n",
    "from quantfreedom.nb.simulate import backtest_df_array_only\n",
    "from quantfreedom.enums.enums import (\n",
    "    LeverageMode,\n",
    "    SizeType,\n",
    "    OrderType,\n",
    "    SL_BE_or_Trail_BasedOn,\n",
    ")\n",
    "from quantfreedom.indicators.talib_ind import from_talib\n",
    "from quantfreedom.evaluators.evaluators import eval_is_below\n",
    "\n",
    "# np.set_printoptions(formatter={'float_kind':\"{:.2f}\".format})\n",
    "\n",
    "# pd.options.display.float_format = '{:,.2f}'.format"
   ]
  },
  {
   "cell_type": "code",
   "execution_count": 5,
   "metadata": {},
   "outputs": [
    {
     "name": "stdout",
     "output_type": "stream",
     "text": [
      "[*********************100%***********************]  1 of 1 completed\n"
     ]
    }
   ],
   "source": [
    "# Fetch historical data\n",
    "\n",
    "# determine variable 'symbol' for fetching many tickets simultaneously (at same time)\n",
    "# symbol = [\n",
    "#     'BTC-USD', 'ETH-USD', 'XRP-USD', 'BCH-USD', 'LTC-USD'#,\n",
    "# ]\n",
    "# \"\"\"    'BNB-USD', 'EOS-USD', 'XLM-USD', 'XMR-USD', 'ADA-USD',\n",
    "#     'QBIT-USD', 'TSLA', 'AMZN', 'AAPL', 'DGTX-USD', 'BTG-USD', \n",
    "#     'LINK-USD', 'DOGE-USD', 'SOL-USD', 'TRX-USD', 'ATOM-USD',\n",
    "#     'TON-USD', 'OKB-USD', 'GLD', 'GIS', 'PG', 'MRK', 'AMT', 'BMY',\n",
    "#     'CVX', 'S', 'CVS', 'HD', 'PUK'\n",
    "# #]\n",
    "# \"\"\"\n",
    "\n",
    "\n",
    "symbol = ['BTC-USD']\n",
    "\n",
    "# \"Attach\" dataset prices (dataframe) to variable ohlcv and at the same time download dataset from Yahoo Finance \n",
    "ohlcv = yf.download(symbol, interval=\"5m\", period=\"60d\")\n",
    "\n",
    "# \"Attach\" only closing prices from dataset to variable 'price'\n",
    "prices = ohlcv['Close']\n",
    "\n",
    "# \"Attach\" only High prices from dataset to variable 'high_price'\n",
    "high_price = ohlcv['High']\n",
    "\n",
    "# Same for low\n",
    "low_price = ohlcv['Low']"
   ]
  },
  {
   "cell_type": "code",
   "execution_count": 6,
   "metadata": {},
   "outputs": [],
   "source": [
    "#Renaming columns for TA-Lib\n",
    "ohlcv.rename(columns={'Open': 'open', 'High': 'high', 'Low': 'low', 'Adj Close': 'close', 'Volume': 'volume'}, inplace=True)"
   ]
  },
  {
   "cell_type": "code",
   "execution_count": 7,
   "metadata": {},
   "outputs": [
    {
     "data": {
      "text/html": [
       "<div>\n",
       "<style scoped>\n",
       "    .dataframe tbody tr th:only-of-type {\n",
       "        vertical-align: middle;\n",
       "    }\n",
       "\n",
       "    .dataframe tbody tr th {\n",
       "        vertical-align: top;\n",
       "    }\n",
       "\n",
       "    .dataframe thead th {\n",
       "        text-align: right;\n",
       "    }\n",
       "</style>\n",
       "<table border=\"1\" class=\"dataframe\">\n",
       "  <thead>\n",
       "    <tr style=\"text-align: right;\">\n",
       "      <th></th>\n",
       "      <th>open</th>\n",
       "      <th>high</th>\n",
       "      <th>low</th>\n",
       "      <th>Close</th>\n",
       "      <th>close</th>\n",
       "      <th>volume</th>\n",
       "    </tr>\n",
       "    <tr>\n",
       "      <th>Datetime</th>\n",
       "      <th></th>\n",
       "      <th></th>\n",
       "      <th></th>\n",
       "      <th></th>\n",
       "      <th></th>\n",
       "      <th></th>\n",
       "    </tr>\n",
       "  </thead>\n",
       "  <tbody>\n",
       "    <tr>\n",
       "      <th>2023-02-03 00:00:00+00:00</th>\n",
       "      <td>23,469.41</td>\n",
       "      <td>23,550.28</td>\n",
       "      <td>23,469.41</td>\n",
       "      <td>23,550.28</td>\n",
       "      <td>23,550.28</td>\n",
       "      <td>0</td>\n",
       "    </tr>\n",
       "    <tr>\n",
       "      <th>2023-02-03 00:05:00+00:00</th>\n",
       "      <td>23,553.86</td>\n",
       "      <td>23,556.62</td>\n",
       "      <td>23,548.30</td>\n",
       "      <td>23,556.62</td>\n",
       "      <td>23,556.62</td>\n",
       "      <td>0</td>\n",
       "    </tr>\n",
       "    <tr>\n",
       "      <th>2023-02-03 00:10:00+00:00</th>\n",
       "      <td>23,562.35</td>\n",
       "      <td>23,575.52</td>\n",
       "      <td>23,562.35</td>\n",
       "      <td>23,574.48</td>\n",
       "      <td>23,574.48</td>\n",
       "      <td>10799104</td>\n",
       "    </tr>\n",
       "    <tr>\n",
       "      <th>2023-02-03 00:15:00+00:00</th>\n",
       "      <td>23,579.59</td>\n",
       "      <td>23,581.61</td>\n",
       "      <td>23,570.70</td>\n",
       "      <td>23,570.70</td>\n",
       "      <td>23,570.70</td>\n",
       "      <td>9125888</td>\n",
       "    </tr>\n",
       "    <tr>\n",
       "      <th>2023-02-03 00:20:00+00:00</th>\n",
       "      <td>23,567.41</td>\n",
       "      <td>23,580.04</td>\n",
       "      <td>23,566.72</td>\n",
       "      <td>23,578.90</td>\n",
       "      <td>23,578.90</td>\n",
       "      <td>0</td>\n",
       "    </tr>\n",
       "  </tbody>\n",
       "</table>\n",
       "</div>"
      ],
      "text/plain": [
       "                               open      high       low     Close     close   \n",
       "Datetime                                                                      \n",
       "2023-02-03 00:00:00+00:00 23,469.41 23,550.28 23,469.41 23,550.28 23,550.28  \\\n",
       "2023-02-03 00:05:00+00:00 23,553.86 23,556.62 23,548.30 23,556.62 23,556.62   \n",
       "2023-02-03 00:10:00+00:00 23,562.35 23,575.52 23,562.35 23,574.48 23,574.48   \n",
       "2023-02-03 00:15:00+00:00 23,579.59 23,581.61 23,570.70 23,570.70 23,570.70   \n",
       "2023-02-03 00:20:00+00:00 23,567.41 23,580.04 23,566.72 23,578.90 23,578.90   \n",
       "\n",
       "                             volume  \n",
       "Datetime                             \n",
       "2023-02-03 00:00:00+00:00         0  \n",
       "2023-02-03 00:05:00+00:00         0  \n",
       "2023-02-03 00:10:00+00:00  10799104  \n",
       "2023-02-03 00:15:00+00:00   9125888  \n",
       "2023-02-03 00:20:00+00:00         0  "
      ]
     },
     "execution_count": 7,
     "metadata": {},
     "output_type": "execute_result"
    }
   ],
   "source": [
    "ohlcv.head(5)"
   ]
  },
  {
   "cell_type": "code",
   "execution_count": 8,
   "metadata": {},
   "outputs": [
    {
     "data": {
      "text/plain": [
       "Datetime\n",
       "2023-02-03 00:00:00+00:00   23,550.28\n",
       "2023-02-03 00:05:00+00:00   23,556.62\n",
       "2023-02-03 00:10:00+00:00   23,574.48\n",
       "2023-02-03 00:15:00+00:00   23,570.70\n",
       "2023-02-03 00:20:00+00:00   23,578.90\n",
       "Name: Close, dtype: float64"
      ]
     },
     "execution_count": 8,
     "metadata": {},
     "output_type": "execute_result"
    }
   ],
   "source": [
    "prices.head(5)"
   ]
  },
  {
   "cell_type": "code",
   "execution_count": 9,
   "metadata": {},
   "outputs": [],
   "source": [
    " \n",
    "rsi_ind = from_talib(\n",
    "    func_name='rsi',\n",
    "    df_prices=ohlcv,\n",
    "    cart_product=False,\n",
    "    combos=False,\n",
    "    timeperiod=30,\n",
    ")\n",
    "\n",
    "\n",
    " \n",
    "# talib.abstract.RSI(prices)\n"
   ]
  },
  {
   "cell_type": "code",
   "execution_count": 10,
   "metadata": {},
   "outputs": [],
   "source": [
    "# Define Divergence\n",
    "def divergence(\n",
    "    # using price set as starting point to calculate divergence\n",
    "    price_set,\n",
    "    # using last 14 bars/days period window for RSI indicator. This is just a template and can be changed when we will execute .run function in next stage.\n",
    "    rsi_window,\n",
    "    # using last 1 bar/day period window for fast Moving Average indicator. This is just a template and can be changed when we will execute .run function in next stage.\n",
    "    fast_ma_window,\n",
    "\n",
    "    # using last 50 bars/days period window for fast Moving Average indicator.  This is just a template and can be changed when we will execute .run function in next stage.\n",
    "        slow_ma_window,):\n",
    "\n",
    "    slow_ma = from_talib(\n",
    "        func_name='MA',\n",
    "        df_prices=ohlcv,\n",
    "        cart_product=False,\n",
    "        combos=False,\n",
    "        timeperiod=slow_ma_window,\n",
    "    )\n",
    "    fast_ma = from_talib(\n",
    "        func_name='MA',\n",
    "        df_prices=ohlcv,\n",
    "        cart_product=False,\n",
    "        combos=False,\n",
    "        timeperiod=fast_ma_window,\n",
    "    )\n",
    "    rsi_indicator = from_talib(\n",
    "        func_name='MA',\n",
    "        df_prices=ohlcv,\n",
    "        cart_product=False,\n",
    "        combos=False,\n",
    "        timeperiod=rsi_window,\n",
    "    ).squeeze()\n",
    "\n",
    "# Calculate the Divergence indicator. Arithmetics behind indicators is black box for me and consist of pure mathematics\n",
    "    bullish_divergence = ((price_set.diff() < 0) & (rsi_indicator.diff() > 0)).to_numpy()\n",
    "\n",
    "    bearish_divergence = ((price_set.diff() < 0) &\n",
    "                          (rsi_indicator.diff() < 0)).to_numpy()\n",
    "\n",
    "    # Determine UpTrend (fast MA above slow MA)\n",
    "    trend_up = eval_is_above(\n",
    "        ind_data=fast_ma,\n",
    "        ind_results=slow_ma.squeeze(),\n",
    "    )\n",
    "    trend_down = eval_is_below(\n",
    "        ind_data=fast_ma,\n",
    "        ind_results=slow_ma.squeeze(),\n",
    "    )\n",
    "\n",
    "    # Convert everything to Numpy array\n",
    "    trend_up = trend_up.to_numpy().flatten()\n",
    "    trend_down = trend_down.to_numpy().flatten()\n",
    "\n",
    "    # Combine all previous indicators into the one\n",
    "    # We need that if bullish_divergence (trend_up), True PLUS fast MA above slow MA, then set 1, everything else - 0. If bearish_divergence True, PLUS fast MA above slow MA (trend_down), then set -1\n",
    "    indicator_buy = np.logical_and(bullish_divergence == True,trend_up == True)\n",
    "    indicator_buy = np.where(indicator_buy == True, 1, 0)\n",
    "    indicator_sell = np.logical_and(bearish_divergence == True,trend_down == True)\n",
    "    indicator = np.where(indicator_sell == True, -1, indicator_buy)\n",
    "\n",
    "\n",
    "    return indicator\n"
   ]
  },
  {
   "cell_type": "code",
   "execution_count": 11,
   "metadata": {},
   "outputs": [
    {
     "name": "stdout",
     "output_type": "stream",
     "text": [
      "<class 'function'>\n",
      "[0 0 0 ... 0 0 0]\n"
     ]
    }
   ],
   "source": [
    "print(type(divergence))\n",
    "\n",
    "\n",
    "price_set = ohlcv['close']\n",
    "rsi_window = 14\n",
    "fast_ma_window = 1\n",
    "slow_ma_window = 50\n",
    "\n",
    "# Call the function and print the value of indicator\n",
    "indicator = divergence(price_set, rsi_window, fast_ma_window, slow_ma_window)\n",
    "print(indicator)"
   ]
  },
  {
   "cell_type": "code",
   "execution_count": 12,
   "metadata": {},
   "outputs": [
    {
     "data": {
      "text/html": [
       "<div>\n",
       "<style scoped>\n",
       "    .dataframe tbody tr th:only-of-type {\n",
       "        vertical-align: middle;\n",
       "    }\n",
       "\n",
       "    .dataframe tbody tr th {\n",
       "        vertical-align: top;\n",
       "    }\n",
       "\n",
       "    .dataframe thead tr th {\n",
       "        text-align: left;\n",
       "    }\n",
       "\n",
       "    .dataframe thead tr:last-of-type th {\n",
       "        text-align: right;\n",
       "    }\n",
       "</style>\n",
       "<table border=\"1\" class=\"dataframe\">\n",
       "  <thead>\n",
       "    <tr>\n",
       "      <th>RSI_timeperiod</th>\n",
       "      <th>14</th>\n",
       "    </tr>\n",
       "    <tr>\n",
       "      <th>RSI_is_below</th>\n",
       "      <th>0</th>\n",
       "    </tr>\n",
       "    <tr>\n",
       "      <th>Datetime</th>\n",
       "      <th></th>\n",
       "    </tr>\n",
       "  </thead>\n",
       "  <tbody>\n",
       "    <tr>\n",
       "      <th>2023-02-03 00:00:00+00:00</th>\n",
       "      <td>False</td>\n",
       "    </tr>\n",
       "    <tr>\n",
       "      <th>2023-02-03 00:05:00+00:00</th>\n",
       "      <td>False</td>\n",
       "    </tr>\n",
       "    <tr>\n",
       "      <th>2023-02-03 00:10:00+00:00</th>\n",
       "      <td>False</td>\n",
       "    </tr>\n",
       "    <tr>\n",
       "      <th>2023-02-03 00:15:00+00:00</th>\n",
       "      <td>False</td>\n",
       "    </tr>\n",
       "    <tr>\n",
       "      <th>2023-02-03 00:20:00+00:00</th>\n",
       "      <td>False</td>\n",
       "    </tr>\n",
       "  </tbody>\n",
       "</table>\n",
       "</div>"
      ],
      "text/plain": [
       "RSI_timeperiod                14\n",
       "RSI_is_below                   0\n",
       "Datetime                        \n",
       "2023-02-03 00:00:00+00:00  False\n",
       "2023-02-03 00:05:00+00:00  False\n",
       "2023-02-03 00:10:00+00:00  False\n",
       "2023-02-03 00:15:00+00:00  False\n",
       "2023-02-03 00:20:00+00:00  False"
      ]
     },
     "execution_count": 12,
     "metadata": {},
     "output_type": "execute_result"
    }
   ],
   "source": [
    "# Just for testing purposes - can be deleten\n",
    "\n",
    "rsi_ind = from_talib(\n",
    "    func_name='rsi',\n",
    "    df_prices=ohlcv,\n",
    "    cart_product=False,\n",
    "    combos=False,\n",
    "    timeperiod=14,\n",
    ")\n",
    "\n",
    "rsi_eval = eval_is_below(\n",
    "    rsi_ind,\n",
    "    np.arange(1),\n",
    ")\n",
    "\n",
    "\n",
    "rsi_eval.head(5)\n",
    " \n"
   ]
  },
  {
   "cell_type": "code",
   "execution_count": 13,
   "metadata": {},
   "outputs": [],
   "source": [
    "# Define backtester\n",
    "\n",
    "strat_array, settings_array = backtest_df_array_only(\n",
    "    open_prices=ohlcv.open.values,\n",
    "    high_prices=ohlcv.high.values,\n",
    "    low_prices=ohlcv.low.values,\n",
    "    close_prices=ohlcv.close.values,\n",
    "    entries=rsi_eval.values,\n",
    "    equity=1000.,\n",
    "    fee_pct=.02,\n",
    "    mmr=.5,\n",
    "    lev_mode=LeverageMode.LeastFreeCashUsed,\n",
    "    size_type=SizeType.RiskPercentOfAccount,\n",
    "    order_type=OrderType.LongEntry,\n",
    "    max_equity_risk_pct=np.arange(1,6.1,1),\n",
    "    risk_rewards=np.arange(1,10.1,1),\n",
    "    size_pct=1.,\n",
    "    gains_pct_filter=100,\n",
    "    # sl_pcts=np.arange(1,6,1),\n",
    "    tsl_true_or_false=True,\n",
    "    tsl_pcts_init=np.arange(1,6.1,1),\n",
    "    tsl_based_on=SL_BE_or_Trail_BasedOn.low_price,\n",
    "    tsl_trail_by_pct=np.arange(1,5.1,1),\n",
    "    tsl_when_pct_from_avg_entry=np.arange(1,5.1,1),\n",
    ")"
   ]
  },
  {
   "cell_type": "code",
   "execution_count": null,
   "metadata": {},
   "outputs": [],
   "source": [
    "# Evaluators and backtesting\n"
   ]
  },
  {
   "cell_type": "code",
   "execution_count": 14,
   "metadata": {},
   "outputs": [
    {
     "data": {
      "text/plain": [
       "array([nan, nan, nan, ..., 42.21, 42.23, 41.36])"
      ]
     },
     "execution_count": 14,
     "metadata": {},
     "output_type": "execute_result"
    }
   ],
   "source": [
    "atr_ind = from_talib(\n",
    "    func_name='atr',\n",
    "    df_prices=ohlcv,\n",
    "    cart_product=False,\n",
    "    combos=False,\n",
    "    timeperiod=1,\n",
    ")\n",
    "\n",
    "talib.SMA(atr_ind.values.flatten(), timeperiod=50)"
   ]
  },
  {
   "cell_type": "code",
   "execution_count": null,
   "metadata": {},
   "outputs": [],
   "source": [
    "\"\"\"\n",
    "pf = vbt.Portfolio.from_signals(ohlcv, divergence(indicator_buy), divergence(indicator_sell))\n",
    "\n",
    "# Output\n",
    "print(pf.total_return())\n",
    "print(pf.stats())\n",
    "\"\"\""
   ]
  },
  {
   "cell_type": "code",
   "execution_count": 15,
   "metadata": {},
   "outputs": [
    {
     "data": {
      "text/plain": [
       "array([0, 0, 0, ..., 0, 0, 0])"
      ]
     },
     "execution_count": 15,
     "metadata": {},
     "output_type": "execute_result"
    }
   ],
   "source": [
    "divergence(\n",
    "    price_set=ohlcv.close,\n",
    "    rsi_window=15,\n",
    "    fast_ma_window=10,\n",
    "    slow_ma_window=40,\n",
    ")"
   ]
  },
  {
   "cell_type": "code",
   "execution_count": null,
   "metadata": {},
   "outputs": [],
   "source": [
    "atr_ind = from_talib(\n",
    "    func_name='atr',\n",
    "    df_prices=ohlcv,\n",
    "    cart_product=False,\n",
    "    combos=False,\n",
    "    timeperiod=1,\n",
    ")"
   ]
  },
  {
   "cell_type": "code",
   "execution_count": null,
   "metadata": {},
   "outputs": [],
   "source": [
    "atr_ind"
   ]
  },
  {
   "cell_type": "code",
   "execution_count": null,
   "metadata": {},
   "outputs": [],
   "source": [
    "talib.SMA(atr_ind.values.flatten(), timeperiod=50)\n"
   ]
  },
  {
   "cell_type": "code",
   "execution_count": null,
   "metadata": {},
   "outputs": [],
   "source": [
    "(1000 / ohlcv.close.values.flatten())"
   ]
  },
  {
   "cell_type": "code",
   "execution_count": null,
   "metadata": {},
   "outputs": [],
   "source": [
    "talib.SMA(atr_ind.values.flatten(), timeperiod=50) * (1000 / ohlcv.close.values.flatten())"
   ]
  },
  {
   "cell_type": "code",
   "execution_count": null,
   "metadata": {},
   "outputs": [],
   "source": [
    "fast_ma = vbt.MA.run(price_set, fast_ma_window, short_name='fast')\n",
    "#printing tpe of bearish_divergence \n",
    "print(\"printing tpe of bearish_divergence dataset:\")\n",
    "print(type(bearish_divergence))\n",
    "# Get slow Moving Average (MA) of the prices\n",
    "\n",
    "atr = vbt.ATR.run(high_price, low_price, price, atr_window)\n",
    "#atr = atr.atr.to_numpy()\n",
    "\n",
    "atr = atr.atr.to_numpy()\n",
    "##print(type(atr))\n",
    "\n",
    "# Calculate adaptive/dynamically changing value based on ATR and current price \n",
    "atr_results = atr * atr_scaler / price #* rsi_window\n",
    "\n",
    "slow_ma = vbt.MA.run(atr_results, slow_ma_window, short_name='slow')\n",
    "print(\"printing tpe of slow_ma dataset:\")\n",
    "print(type(slow_ma))"
   ]
  },
  {
   "cell_type": "code",
   "execution_count": null,
   "metadata": {},
   "outputs": [],
   "source": [
    "fig = go.Figure()\n",
    "fig.add_scatter(\n",
    "    x=atr_ind.index.to_list(),\n",
    "    y=ohlcv.close.values.flatten(),\n",
    "    mode='lines',\n",
    "    marker=dict(color='red'),\n",
    "    name='ATR'\n",
    "\n",
    ")\n",
    "fig.add_scatter(\n",
    "    x=rsi_ind.index.to_list(),\n",
    "    y=talib.SMA(atr_ind.values.flatten(), timeperiod=100) * 1000 / ohlcv.close.values.flatten(),\n",
    "    mode='lines',\n",
    "    marker=dict(color='blue'),\n",
    "    name='SMA'\n",
    ")\n",
    "fig.show()\n"
   ]
  },
  {
   "cell_type": "code",
   "execution_count": null,
   "metadata": {},
   "outputs": [],
   "source": [
    "atr_ind.values.flatten()"
   ]
  },
  {
   "cell_type": "code",
   "execution_count": null,
   "metadata": {},
   "outputs": [],
   "source": [
    "atr_ind"
   ]
  },
  {
   "cell_type": "code",
   "execution_count": null,
   "metadata": {},
   "outputs": [],
   "source": [
    "atr_ma = from_talib(\n",
    "    func_name='MA',\n",
    "    df_prices=None,\n",
    "    cart_product=False,\n",
    "    combos=False,\n",
    "    timeperiod=50,\n",
    "    price=atr_ind.values.flatten()\n",
    ")"
   ]
  },
  {
   "cell_type": "code",
   "execution_count": null,
   "metadata": {},
   "outputs": [],
   "source": [
    "talib_ind_info('stoch')"
   ]
  },
  {
   "cell_type": "code",
   "execution_count": null,
   "metadata": {},
   "outputs": [],
   "source": [
    "close = np.random.random(100)\n",
    "open = np.random.random(100)\n",
    "high = np.random.random(100)"
   ]
  },
  {
   "cell_type": "code",
   "execution_count": null,
   "metadata": {},
   "outputs": [],
   "source": [
    "Function('sma')(np.random.random(10000), 50)"
   ]
  },
  {
   "cell_type": "code",
   "execution_count": null,
   "metadata": {},
   "outputs": [],
   "source": [
    "_, hey = talib.STOCH(close, open, high, *(10,15))\n",
    "hey"
   ]
  }
 ],
 "metadata": {
  "kernelspec": {
   "display_name": "qfFree",
   "language": "python",
   "name": "python3"
  },
  "language_info": {
   "codemirror_mode": {
    "name": "ipython",
    "version": 3
   },
   "file_extension": ".py",
   "mimetype": "text/x-python",
   "name": "python",
   "nbconvert_exporter": "python",
   "pygments_lexer": "ipython3",
   "version": "3.10.10"
  },
  "orig_nbformat": 4
 },
 "nbformat": 4,
 "nbformat_minor": 2
}
