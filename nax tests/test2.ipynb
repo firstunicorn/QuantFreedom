{
 "cells": [
  {
   "cell_type": "code",
   "execution_count": 1,
   "metadata": {},
   "outputs": [
    {
     "data": {
      "text/plain": [
       "['c:\\\\coding\\\\QuantFreedom\\\\nax tests',\n",
       " 'c:\\\\Users\\\\New User\\\\AppData\\\\Local\\\\Programs\\\\Python\\\\Python310\\\\python310.zip',\n",
       " 'c:\\\\Users\\\\New User\\\\AppData\\\\Local\\\\Programs\\\\Python\\\\Python310\\\\DLLs',\n",
       " 'c:\\\\Users\\\\New User\\\\AppData\\\\Local\\\\Programs\\\\Python\\\\Python310\\\\lib',\n",
       " 'c:\\\\Users\\\\New User\\\\AppData\\\\Local\\\\Programs\\\\Python\\\\Python310',\n",
       " 'c:\\\\coding\\\\qfFree',\n",
       " '',\n",
       " 'c:\\\\coding\\\\qfFree\\\\lib\\\\site-packages',\n",
       " 'c:\\\\coding\\\\quantfreedom',\n",
       " 'c:\\\\coding\\\\qfFree\\\\lib\\\\site-packages\\\\win32',\n",
       " 'c:\\\\coding\\\\qfFree\\\\lib\\\\site-packages\\\\win32\\\\lib',\n",
       " 'c:\\\\coding\\\\qfFree\\\\lib\\\\site-packages\\\\Pythonwin']"
      ]
     },
     "execution_count": 1,
     "metadata": {},
     "output_type": "execute_result"
    }
   ],
   "source": [
    "import sys\n",
    "sys.path"
   ]
  }
 ],
 "metadata": {
  "kernelspec": {
   "display_name": "qfFree",
   "language": "python",
   "name": "python3"
  },
  "language_info": {
   "codemirror_mode": {
    "name": "ipython",
    "version": 3
   },
   "file_extension": ".py",
   "mimetype": "text/x-python",
   "name": "python",
   "nbconvert_exporter": "python",
   "pygments_lexer": "ipython3",
   "version": "3.10.0"
  },
  "orig_nbformat": 4
 },
 "nbformat": 4,
 "nbformat_minor": 2
}
