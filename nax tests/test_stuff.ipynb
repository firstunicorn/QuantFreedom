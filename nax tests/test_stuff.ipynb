{
 "cells": [
  {
   "cell_type": "code",
   "execution_count": 3,
   "metadata": {},
   "outputs": [
    {
     "data": {
      "text/html": [
       "<div>\n",
       "<style scoped>\n",
       "    .dataframe tbody tr th:only-of-type {\n",
       "        vertical-align: middle;\n",
       "    }\n",
       "\n",
       "    .dataframe tbody tr th {\n",
       "        vertical-align: top;\n",
       "    }\n",
       "\n",
       "    .dataframe thead th {\n",
       "        text-align: right;\n",
       "    }\n",
       "</style>\n",
       "<table border=\"1\" class=\"dataframe\">\n",
       "  <thead>\n",
       "    <tr style=\"text-align: right;\">\n",
       "      <th></th>\n",
       "      <th>a</th>\n",
       "      <th>b</th>\n",
       "      <th>c</th>\n",
       "    </tr>\n",
       "  </thead>\n",
       "  <tbody>\n",
       "    <tr>\n",
       "      <th>0</th>\n",
       "      <td>1</td>\n",
       "      <td>2</td>\n",
       "      <td>3</td>\n",
       "    </tr>\n",
       "    <tr>\n",
       "      <th>1</th>\n",
       "      <td>4</td>\n",
       "      <td>5</td>\n",
       "      <td>6</td>\n",
       "    </tr>\n",
       "    <tr>\n",
       "      <th>2</th>\n",
       "      <td>7</td>\n",
       "      <td>8</td>\n",
       "      <td>9</td>\n",
       "    </tr>\n",
       "  </tbody>\n",
       "</table>\n",
       "</div>"
      ],
      "text/plain": [
       "   a  b  c\n",
       "0  1  2  3\n",
       "1  4  5  6\n",
       "2  7  8  9"
      ]
     },
     "execution_count": 3,
     "metadata": {},
     "output_type": "execute_result"
    }
   ],
   "source": [
    "import pandas as pd\n",
    "import numpy as np\n",
    "\n",
    "df2 = pd.DataFrame(np.array([[1, 2, 3], [4, 5, 6], [7, 8, 9]]),\n",
    "                   columns=['a', 'b', 'c'])\n",
    "\n",
    "df2\n",
    "\n",
    "# df = pd.DataFrame(pd.array(\"1\", \"2\"), columns=(\"1\", \"2\"))\n",
    "\n",
    "# print(df)\n",
    "\n",
    "\n",
    "\n",
    "\n",
    "# import pandas as pd\n",
    "# import numpy as np\n",
    "\n",
    "# df = pd.DataFrame(pd.array([1,2,3,4,5,6,7,8,9,8,7,6,5,4,5,6,7,8,9]), columns=[\"monday\", \"tuesday\", \"wednesday\", \"thursday\", \"friday\", \"saturday\", \"sunday\", \"monday\", \"tuesday\", \"wednesday\", \"thursday\", \"friday\", \"saturday\", \"sunday\", \"monday\", \"tuesday\", \"wednesday\", \"thursday\", \"friday\"])\n",
    "\n",
    "# print(df)\n",
    "\n",
    "# def test():\n",
    "#     df = pd.DataFrame(np.random.randint(0, 100, size=(100, 4)), columns=list('ABCD'))\n",
    "#     df['E'] = np.where(df['A'] > 50, True, False)\n",
    "#     df['F'] = np.where(df['B'] > 50, True, False)\n",
    "#     df['G'] = np.where(df['C'] > 50, True, False)\n",
    "#     df['H'] = np.where(df['D'] > 50, True, False)\n",
    "#     return df\n",
    "\n",
    "# df = test()\n",
    "# df\n"
   ]
  },
  {
   "cell_type": "code",
   "execution_count": 4,
   "metadata": {},
   "outputs": [],
   "source": [
    "# Create a sample DataFrame with columns for the 5-period moving average, the 10-period moving average, and the price data\n",
    "df = pd.DataFrame({'ma5': [10, 12, 14, 16, 18, 20, 22],\n",
    "                   'ma10': [8, 9, 12, 14, 16, 18, 20],\n",
    "                   'price': [20, 22, 25, 28, 30, 32, 35]})\n",
    "\n"
   ]
  },
  {
   "cell_type": "code",
   "execution_count": 9,
   "metadata": {},
   "outputs": [],
   "source": [
    "\n",
    "\n",
    "def crossed_above_ma(df):\n",
    "    \"\"\"\n",
    "    Evaluates whether the 5-period moving average has crossed above the 10-period moving average for the entire DataFrame.\n",
    "    \n",
    "    Parameters:\n",
    "    -----------\n",
    "    df : pandas DataFrame\n",
    "        A DataFrame containing columns for the 5-period moving average ('ma5'), the 10-period moving average ('ma10'), and the price data ('price').\n",
    "    \n",
    "    Returns:\n",
    "    --------\n",
    "    pandas Series\n",
    "        A boolean Series with the same length as the DataFrame indicating whether the 5-period moving average has crossed above the 10-period moving average.\n",
    "    \"\"\"\n",
    "    # Check if the 5-period moving average is greater than the 10-period moving average\n",
    "    is_crossed_above = df['ma5'] > df['ma10']\n",
    "    \n",
    "    # Check if the 5-period moving average was below the 10-period moving average on the previous period\n",
    "    is_crossed_above_previous = is_crossed_above.shift(1).fillna(False).astype(bool)\n",
    "    \n",
    "    # Return True for all periods where the 5-period moving average crossed above the 10-period moving average\n",
    "    return is_crossed_above & (~is_crossed_above_previous)\n"
   ]
  },
  {
   "cell_type": "code",
   "execution_count": 10,
   "metadata": {},
   "outputs": [
    {
     "name": "stdout",
     "output_type": "stream",
     "text": [
      "0     True\n",
      "1    False\n",
      "2    False\n",
      "3    False\n",
      "4    False\n",
      "5    False\n",
      "6    False\n",
      "dtype: bool\n"
     ]
    }
   ],
   "source": [
    "# Call the crossed_above_ma function to evaluate whether the 5-period moving average has crossed above the 10-period moving average for the entire DataFrame\n",
    "is_crossed_above = crossed_above_ma(df)\n",
    "\n",
    "# Print the result\n",
    "print(is_crossed_above)\n"
   ]
  }
 ],
 "metadata": {
  "kernelspec": {
   "display_name": "qfFree",
   "language": "python",
   "name": "python3"
  },
  "language_info": {
   "codemirror_mode": {
    "name": "ipython",
    "version": 3
   },
   "file_extension": ".py",
   "mimetype": "text/x-python",
   "name": "python",
   "nbconvert_exporter": "python",
   "pygments_lexer": "ipython3",
   "version": "3.10.10"
  },
  "orig_nbformat": 4
 },
 "nbformat": 4,
 "nbformat_minor": 2
}
