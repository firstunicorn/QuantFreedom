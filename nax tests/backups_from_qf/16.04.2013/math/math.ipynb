{
 "cells": [
  {
   "attachments": {},
   "cell_type": "markdown",
   "metadata": {},
   "source": [
    "https://www.math.net/percent-difference\n",
    "\n",
    "bybit profit - https://www.bybithelp.com/HelpCenterKnowledge/bybitHC_Article?language=en_US&id=000001066#c"
   ]
  },
  {
   "cell_type": "code",
   "execution_count": 1,
   "metadata": {},
   "outputs": [
    {
     "name": "stdout",
     "output_type": "stream",
     "text": [
      "im_usdt = 61.640600000000006 \n",
      "fee_open_usdt =  3.698436 \n",
      "liq_price_usdt =  21904.4275 \n",
      "fee_close_usdt =  3.66145164 \n",
      "cost_usdt =  69.00048764\n"
     ]
    }
   ],
   "source": [
    "# USDT Contract\n",
    "equity = 69.2028\n",
    "avail_bal = 69.2028\n",
    "usd_value = 6164.06\n",
    "order_price = 22014.50\n",
    "lev = 100\n",
    "fee = .0006\n",
    "im_usdt = usd_value / lev\n",
    "imr = 1/lev\n",
    "mmr = .005\n",
    "fee_open_usdt = usd_value * fee\n",
    "liq_price_usdt = order_price * (1 - imr + mmr)\n",
    "fee_close_usdt = usd_value * (lev - 1) / lev * fee\n",
    "cost_usdt = im_usdt + fee_open_usdt + fee_close_usdt\n",
    "print('im_usdt =', im_usdt, '\\nfee_open_usdt = ', fee_open_usdt,\n",
    "      '\\nliq_price_usdt = ', liq_price_usdt, '\\nfee_close_usdt = ',\n",
    "      fee_close_usdt, '\\ncost_usdt = ', cost_usdt)"
   ]
  },
  {
   "cell_type": "code",
   "execution_count": 2,
   "metadata": {},
   "outputs": [
    {
     "data": {
      "text/plain": [
       "(1.0,\n",
       " 89.33357155619075,\n",
       " -0.9999999999999992,\n",
       " -0.8933357155619075,\n",
       " 0.05360014293371444,\n",
       " 0.0530641415043773)"
      ]
     },
     "execution_count": 2,
     "metadata": {},
     "output_type": "execute_result"
    }
   ],
   "source": [
    "#USDT PnL Long\n",
    "equity = 100\n",
    "entry = 1000\n",
    "risk_pct = 1.\n",
    "account_at_risk = equity * risk_pct / 100\n",
    "sl_pct = 1.\n",
    "sl_price = entry - (entry * sl_pct / 100)\n",
    "usd_size = -account_at_risk / ( ((sl_price/entry) - 1) - fee - ((sl_price * fee)/entry))\n",
    "coin_size = usd_size / entry\n",
    "long_pnl = coin_size * (sl_price - entry)\n",
    "long_fee_open = coin_size * entry * fee\n",
    "long_fee_close = coin_size * sl_price * fee\n",
    "realized_pnl = long_pnl - long_fee_open - long_fee_close\n",
    "account_at_risk, usd_size, realized_pnl, long_pnl, long_fee_open, long_fee_close"
   ]
  },
  {
   "cell_type": "code",
   "execution_count": null,
   "metadata": {},
   "outputs": [],
   "source": [
    "# finding usd size using order price and sl pct or sl price based on possible loss\n",
    "entry = 1000\n",
    "fee = .06\n",
    "og_size = 100\n",
    "sl_pct = .5\n",
    "sl_price = entry - (entry * sl_pct / 100)\n",
    "loss_no_fees = og_size * (sl_pct / 100)\n",
    "usd_size = -loss_no_fees / (((sl_price/entry) - 1) - (fee / 100) -\n",
    "                    ((sl_price * (fee / 100))/entry))\n",
    "coin_size = usd_size / entry\n",
    "long_pnl_no_fees = coin_size * (sl_price - entry)\n",
    "long_fee_open = coin_size * entry * (fee / 100)\n",
    "long_fee_close = coin_size * sl_price * (fee / 100)\n",
    "realized_pnl = long_pnl_no_fees - long_fee_open - long_fee_close\n",
    "print(f'loss_no_fees = {loss_no_fees}\\n'\n",
    "      f'usd_size = {usd_size}\\n'\n",
    "      f'realized_pnl = {realized_pnl}\\n'\n",
    "      f'long_pnl_no_fees = {long_pnl_no_fees}\\n'\n",
    "      f'long_fee_open = {long_fee_open}\\n'\n",
    "      f'long_fee_close = {long_fee_close}')\n"
   ]
  },
  {
   "cell_type": "code",
   "execution_count": null,
   "metadata": {},
   "outputs": [],
   "source": [
    "long_pnl = coin_size * (sl_price - entry)\n",
    "long_fee_open = coin_size * entry * fee\n",
    "long_fee_close = coin_size * sl_price * fee\n",
    "realized_pnl = long_pnl - long_fee_open - long_fee_close\n",
    "account_at_risk, usd_size, realized_pnl, long_pnl, long_fee_open, long_fee_close"
   ]
  },
  {
   "cell_type": "code",
   "execution_count": null,
   "metadata": {},
   "outputs": [],
   "source": [
    "test_tup1 = (1, 3, 5)\n",
    "test_tup2 = (4, 6)\n",
    "test_tup1 + test_tup2"
   ]
  },
  {
   "cell_type": "code",
   "execution_count": null,
   "metadata": {},
   "outputs": [],
   "source": [
    "# USDT PnL Long\n",
    "def get_usd_price(equity, risk_pct, sl_pct):\n",
    "    account_at_risk = equity * risk_pct / 100\n",
    "    usd_size = -account_at_risk / (((1-(sl_pct/100)) - 1) - fee - ((1-(sl_pct/100)) * fee))\n",
    "    return usd_size\n"
   ]
  },
  {
   "attachments": {},
   "cell_type": "markdown",
   "metadata": {},
   "source": [
    "Solving for Take Profit Price<br>\n",
    "S = USD size<br>\n",
    "E = entry or average entry<br>\n",
    "F = Fee<br>\n",
    "T = Take profit price<br>\n",
    "P = pnl<br>\n",
    "$$\n",
    "((\\frac{S}{E}) * ( T - E)) - ((\\frac{S}{E}) * E * F) - ((\\frac{S}{E}) * T * F) = PnL\\\\\n",
    "answer\\\\\n",
    "T = (PnL + S * F + S)*\\frac{E}{S - (S * F)}\n",
    "$$"
   ]
  },
  {
   "cell_type": "code",
   "execution_count": null,
   "metadata": {},
   "outputs": [],
   "source": [
    "p = 1.\n",
    "s = 80.68420203324183\n",
    "f = .0006\n",
    "e = 1000\n",
    "(p + s * f + s) * (e / (s - (s * f)))\n",
    "# ((p + s * f + s) / ((s/e) - ((s*f) / e)))\n"
   ]
  }
 ],
 "metadata": {
  "kernelspec": {
   "display_name": "qfVBT",
   "language": "python",
   "name": "python3"
  },
  "language_info": {
   "codemirror_mode": {
    "name": "ipython",
    "version": 3
   },
   "file_extension": ".py",
   "mimetype": "text/x-python",
   "name": "python",
   "nbconvert_exporter": "python",
   "pygments_lexer": "ipython3",
   "version": "3.10.10"
  },
  "orig_nbformat": 4,
  "vscode": {
   "interpreter": {
    "hash": "d03a5f5914d41db73604e557196e04fa21b062a314cb051b64faf513d9f7a3ca"
   }
  }
 },
 "nbformat": 4,
 "nbformat_minor": 2
}
