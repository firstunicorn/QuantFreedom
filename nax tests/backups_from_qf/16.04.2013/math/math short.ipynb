{
 "cells": [
  {
   "attachments": {},
   "cell_type": "markdown",
   "metadata": {},
   "source": [
    "Solving for Short Take Profit Price<br>\n",
    "S = USD size<br>\n",
    "E = entry or average entry<br>\n",
    "F = Fee<br>\n",
    "T = Take profit price<br>\n",
    "P = pnl<br>\n",
    "$$\n",
    "P = ((\\frac{S}{E}) * (E - T)) - ((\\frac{S}{E}) * E * F) - ((\\frac{S}{E}) * T * F)\n",
    "\\\\~\\\\\n",
    "P = \\frac{S*E}{E} - \\frac{S*T}{E} - \\frac{S*E*F}{E} - \\frac{S*T*F}{E}\n",
    "\\\\~\\\\\n",
    "P - S + S*F = - \\frac{S*T}{E} - \\frac{S*T*F}{E} ==> -T (\\frac{S}{E} + \\frac{S*F}{E})\n",
    "\\\\~\\\\\n",
    "T = -((P - S + S * \\frac{F}{100}) * \\frac{E}{S+S*\\frac{F}{100}})\n",
    "$$"
   ]
  },
  {
   "cell_type": "code",
   "execution_count": 81,
   "metadata": {},
   "outputs": [
    {
     "data": {
      "text/plain": [
       "998.8007195682591"
      ]
     },
     "execution_count": 81,
     "metadata": {},
     "output_type": "execute_result"
    }
   ],
   "source": [
    "p = 0.\n",
    "s = 1000000000\n",
    "f = .06\n",
    "e = 1000\n",
    "-((p -s + s * f/100) * (e / (s + s * f/100)))"
   ]
  },
  {
   "attachments": {},
   "cell_type": "markdown",
   "metadata": {},
   "source": [
    "Solving for break even price"
   ]
  },
  {
   "cell_type": "code",
   "execution_count": 79,
   "metadata": {},
   "outputs": [
    {
     "data": {
      "text/plain": [
       "998.8007195682591"
      ]
     },
     "execution_count": 79,
     "metadata": {},
     "output_type": "execute_result"
    }
   ],
   "source": [
    "f = .0006\n",
    "e = 1000\n",
    "# this formula only works with a 1 because it represents a size val of 1\n",
    "# if i were to use any other value for size i would have to use the solving for tp code\n",
    "(e - f * e) / (1 + f)"
   ]
  },
  {
   "attachments": {},
   "cell_type": "markdown",
   "metadata": {},
   "source": [
    "Solving for Short Leverage <br>\n",
    "When you know you want your liq price to be slightly higher than your sl price<br>\n",
    "AE = Avg Entry<br>\n",
    "MMR = Maintaince Margin Rate<br>\n",
    "LP = Liq Price<br>\n",
    "SLP = Stop Loss Price<br>\n",
    "P = Padding<br>\n",
    "L = Long Leverage\n",
    "\n",
    "$$\n",
    "LP = AE * (1 + (\\frac{1}{L}) - (MMR / 100))\\\\\n",
    "|\\\\\n",
    "SLP + (SLP * \\frac{P}{100}) = AE * (1 + (\\frac{1}{L}) - (MMR / 100))\\\\\n",
    "|\\\\\n",
    "|\\\\\n",
    "L = \\frac{AE}{SLP + (SLP * \\frac{P}{100}) - AE + (AE * \\frac{MMR}{100})}\n",
    "$$"
   ]
  },
  {
   "cell_type": "code",
   "execution_count": 36,
   "metadata": {},
   "outputs": [
    {
     "data": {
      "text/plain": [
       "(58.7544065804936, 1012.0200000000001)"
      ]
     },
     "execution_count": 36,
     "metadata": {},
     "output_type": "execute_result"
    }
   ],
   "source": [
    "ae = 1000   \n",
    "mmr = .5\n",
    "slp = 1010 \n",
    "p = .2\n",
    "shortlev = ae / (slp + ((slp * p)/100) - ae + ((mmr * ae) / 100))\n",
    "lp = ae * ( 1 + 1/shortlev - mmr/100)\n",
    "shortlev, lp"
   ]
  },
  {
   "attachments": {},
   "cell_type": "markdown",
   "metadata": {},
   "source": [
    "Finding USD price based on possible loss<br>\n",
    "S = USD size<br>\n",
    "E = entry or average entry<br>\n",
    "F = Fee<br>\n",
    "X = Stops price<br>\n",
    "P = pnl<br>\n",
    "$$\n",
    "P = ((\\frac{S}{E}) * (E - X)) - ((\\frac{S}{E}) * E * F) - ((\\frac{S}{E}) * X * F)\n",
    "\\\\~\\\\\n",
    "P = \\frac{S*E}{E} - \\frac{S*X}{E} - \\frac{S*E*F}{E} - \\frac{S*X*F}{E}\n",
    "\\\\~\\\\\n",
    "P = (1 - \\frac{X}{E} - F - \\frac{X*F}{E}) * S\n",
    "\\\\~\\\\\n",
    "S = \\frac{-P}{(1 - \\frac{X}{E} - F - \\frac{X*F}{E})}\n",
    "$$"
   ]
  },
  {
   "cell_type": "code",
   "execution_count": 22,
   "metadata": {},
   "outputs": [
    {
     "data": {
      "text/plain": [
       "892.3790826343023"
      ]
     },
     "execution_count": 22,
     "metadata": {},
     "output_type": "execute_result"
    }
   ],
   "source": [
    "price = 1000\n",
    "sl_pcts_new = .01\n",
    "fee_pct = .0006\n",
    "init_size = 1000\n",
    "\n",
    "temp_sl_price = price + (price * sl_pcts_new)\n",
    "possible_loss = init_size * sl_pcts_new\n",
    "\n",
    "-possible_loss / (1 - temp_sl_price/price - fee_pct - temp_sl_price * fee_pct / price)\n",
    "                "
   ]
  }
 ],
 "metadata": {
  "kernelspec": {
   "display_name": "qfVBT",
   "language": "python",
   "name": "python3"
  },
  "language_info": {
   "codemirror_mode": {
    "name": "ipython",
    "version": 3
   },
   "file_extension": ".py",
   "mimetype": "text/x-python",
   "name": "python",
   "nbconvert_exporter": "python",
   "pygments_lexer": "ipython3",
   "version": "3.10.10"
  },
  "orig_nbformat": 4,
  "vscode": {
   "interpreter": {
    "hash": "d03a5f5914d41db73604e557196e04fa21b062a314cb051b64faf513d9f7a3ca"
   }
  }
 },
 "nbformat": 4,
 "nbformat_minor": 2
}
