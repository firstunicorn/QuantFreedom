{
 "cells": [
  {
   "cell_type": "code",
   "execution_count": 1,
   "metadata": {},
   "outputs": [],
   "source": [
    "from numba import njit, literal_unroll\n",
    "import numpy as np\n",
    "from quantfreedom.utils.caching import clear_cache\n",
    "# clear_cache()"
   ]
  },
  {
   "cell_type": "code",
   "execution_count": 2,
   "metadata": {},
   "outputs": [
    {
     "data": {
      "text/plain": [
       "array([(1., nan), (1.,  6.), (2., nan), (2.,  6.), (3., nan), (3.,  6.)],\n",
       "      dtype={'names': ['tester', 'two'], 'formats': ['<f8', '<f8'], 'offsets': [0, 8], 'itemsize': 16, 'aligned': True})"
      ]
     },
     "execution_count": 2,
     "metadata": {},
     "output_type": "execute_result"
    }
   ],
   "source": [
    "cart_array_dt = np.dtype([\n",
    "    ('tester', np.float_),\n",
    "    ('two', np.float_),\n",
    "], align=True)\n",
    "\n",
    "\n",
    "@njit(cache=True)\n",
    "def test():\n",
    "    arrays = (\n",
    "        np.array([1., 2., 3.]),\n",
    "        np.array([np.nan, 6.]),\n",
    "    )\n",
    "    dtype_names = (\n",
    "        'tester',\n",
    "        'two',\n",
    "    )\n",
    "\n",
    "    n = 1\n",
    "    for x in arrays:\n",
    "        n *= x.size\n",
    "    out = np.zeros((n, len(arrays)), dtype=np.float_)\n",
    "    cart_array = np.zeros(n, dtype=cart_array_dt)\n",
    "\n",
    "    for i in range(len(arrays)):\n",
    "        m = int(n / arrays[i].size)\n",
    "        out[:n, i] = np.repeat(arrays[i], m)\n",
    "        n //= arrays[i].size\n",
    "\n",
    "    n = arrays[-1].size\n",
    "    for k in range(len(arrays)-2, -1, -1):\n",
    "        n *= arrays[k].size\n",
    "        m = int(n / arrays[k].size)\n",
    "        for j in range(1, arrays[k].size):\n",
    "            out[j*m:(j+1)*m, k+1:] = out[0:m, k+1:]\n",
    "\n",
    "    # literal unroll\n",
    "    counter = 0\n",
    "    for dtype_name in literal_unroll(dtype_names):\n",
    "        for col in range(n):\n",
    "            cart_array[dtype_name][col] = out[col][counter]\n",
    "        counter += 1\n",
    "    return cart_array\n",
    "\n",
    "\n",
    "test()\n"
   ]
  },
  {
   "cell_type": "code",
   "execution_count": null,
   "metadata": {},
   "outputs": [],
   "source": []
  },
  {
   "cell_type": "code",
   "execution_count": 3,
   "metadata": {},
   "outputs": [
    {
     "data": {
      "text/plain": [
       "array([(0., 1.), (0., 2.), (0., 3.)],\n",
       "      dtype={'names': ['order_settings_id', 'leverage'], 'formats': ['<f8', '<f8'], 'offsets': [0, 8], 'itemsize': 16, 'aligned': True})"
      ]
     },
     "execution_count": 3,
     "metadata": {},
     "output_type": "execute_result"
    }
   ],
   "source": [
    "from numba import njit, literal_unroll\n",
    "import numpy as np\n",
    "cart_array_dt = np.dtype([\n",
    "    ('order_settings_id', np.float_),\n",
    "    ('leverage', np.float_),\n",
    "], align=True)\n",
    "\n",
    "@njit(cache=True)\n",
    "def test():\n",
    "    arrays = (\n",
    "        np.array([0.]),\n",
    "        np.array([1., 2., 3.]),\n",
    "    )\n",
    "\n",
    "    dtype_names = (\n",
    "        'order_settings_id',\n",
    "        'leverage',\n",
    "    )\n",
    "\n",
    "    n = 1\n",
    "    for x in arrays:\n",
    "        n *= x.size\n",
    "    out = np.empty((n, len(arrays)))\n",
    "    cart_array = np.empty(n, dtype=cart_array_dt)\n",
    "\n",
    "    for i in range(len(arrays)):\n",
    "        m = int(n / arrays[i].size)\n",
    "        out[:n, i] = np.repeat(arrays[i], m)\n",
    "        n //= arrays[i].size\n",
    "\n",
    "    n = arrays[-1].size\n",
    "    for k in range(len(arrays)-2, -1, -1):\n",
    "        n *= arrays[k].size\n",
    "        m = int(n / arrays[k].size)\n",
    "        for j in range(1, arrays[k].size):\n",
    "            out[j*m:(j+1)*m, k+1:] = out[0:m, k+1:]\n",
    "    \n",
    "    # literal unroll\n",
    "    counter = 0\n",
    "    for dtype_name in literal_unroll(dtype_names):\n",
    "        for col in range(n):\n",
    "            cart_array[dtype_name][col] = out[col][counter]\n",
    "        counter += 1\n",
    "    return cart_array\n",
    "test()\n"
   ]
  },
  {
   "cell_type": "code",
   "execution_count": 4,
   "metadata": {},
   "outputs": [],
   "source": [
    "clear_cache()"
   ]
  }
 ],
 "metadata": {
  "kernelspec": {
   "display_name": "qfFree",
   "language": "python",
   "name": "python3"
  },
  "language_info": {
   "codemirror_mode": {
    "name": "ipython",
    "version": 3
   },
   "file_extension": ".py",
   "mimetype": "text/x-python",
   "name": "python",
   "nbconvert_exporter": "python",
   "pygments_lexer": "ipython3",
   "version": "3.10.10"
  },
  "orig_nbformat": 4
 },
 "nbformat": 4,
 "nbformat_minor": 2
}
