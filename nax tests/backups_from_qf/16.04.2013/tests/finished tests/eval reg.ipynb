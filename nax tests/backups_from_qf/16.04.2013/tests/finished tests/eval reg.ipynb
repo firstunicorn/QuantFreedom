{
  "cells": [
    {
      "cell_type": "code",
      "execution_count": 1,
      "metadata": {},
      "outputs": [
        {
          "ename": "ImportError",
          "evalue": "cannot import name 'eval_is_below' from 'quantfreedom.evaluators.evaluators' (e:\\coding\\backtesters\\quantfreedom\\quantfreedom\\evaluators\\evaluators.py)",
          "output_type": "error",
          "traceback": [
            "\u001b[1;31m---------------------------------------------------------------------------\u001b[0m",
            "\u001b[1;31mImportError\u001b[0m                               Traceback (most recent call last)",
            "Cell \u001b[1;32mIn[1], line 4\u001b[0m\n\u001b[0;32m      1\u001b[0m \u001b[39mimport\u001b[39;00m \u001b[39mpandas\u001b[39;00m \u001b[39mas\u001b[39;00m \u001b[39mpd\u001b[39;00m\n\u001b[0;32m      3\u001b[0m \u001b[39mfrom\u001b[39;00m \u001b[39mquantfreedom\u001b[39;00m\u001b[39m.\u001b[39;00m\u001b[39mindicators\u001b[39;00m\u001b[39m.\u001b[39;00m\u001b[39mtalib_ind\u001b[39;00m \u001b[39mimport\u001b[39;00m from_talib\n\u001b[1;32m----> 4\u001b[0m \u001b[39mfrom\u001b[39;00m \u001b[39mquantfreedom\u001b[39;00m\u001b[39m.\u001b[39;00m\u001b[39mevaluators\u001b[39;00m\u001b[39m.\u001b[39;00m\u001b[39mevaluators\u001b[39;00m \u001b[39mimport\u001b[39;00m eval_is_below, eval_is_above\n\u001b[0;32m      5\u001b[0m prices \u001b[39m=\u001b[39m pd\u001b[39m.\u001b[39mread_hdf(\u001b[39m'\u001b[39m\u001b[39m../data/prices.hd5\u001b[39m\u001b[39m'\u001b[39m)\n",
            "\u001b[1;31mImportError\u001b[0m: cannot import name 'eval_is_below' from 'quantfreedom.evaluators.evaluators' (e:\\coding\\backtesters\\quantfreedom\\quantfreedom\\evaluators\\evaluators.py)"
          ]
        }
      ],
      "source": [
        "import pandas as pd\n",
        "\n",
        "from quantfreedom.indicators.talib_ind import from_talib\n",
        "from quantfreedom.evaluators.evaluators import eval_is_below, eval_is_above\n",
        "prices = pd.read_hdf('../data/prices.hd5')"
      ]
    },
    {
      "cell_type": "code",
      "execution_count": null,
      "metadata": {},
      "outputs": [],
      "source": [
        "ema_ind = from_talib(\n",
        "    func_name='ema',\n",
        "    prices=prices,\n",
        "    cart_product=False,\n",
        "    combos=False,\n",
        "    timeperiod=[100, 200, 300],\n",
        ")\n",
        "eval_is_above(\n",
        "    want_to_evaluate=ema_ind,\n",
        "    prices=prices,\n",
        "    cand_ohlc='close',\n",
        "    plot_results=True,\n",
        ")"
      ]
    },
    {
      "cell_type": "code",
      "execution_count": null,
      "metadata": {},
      "outputs": [],
      "source": [
        "rsi_ind = from_talib(\n",
        "    func_name='rsi',\n",
        "    prices=prices,\n",
        "    cart_product=False,\n",
        "    combos=False,\n",
        "    timeperiod=[15, 30],\n",
        ")\n",
        "eval_is_below(\n",
        "    want_to_evaluate=rsi_ind,\n",
        "    user_args=[30,40,50],\n",
        "    cand_ohlc='close',\n",
        "    plot_results=True,\n",
        ")"
      ]
    },
    {
      "cell_type": "code",
      "execution_count": null,
      "metadata": {},
      "outputs": [],
      "source": [
        "ema_ind_on_rsi = from_talib(\n",
        "    func_name='ema',\n",
        "    indicator_data=rsi_ind,\n",
        "    cart_product=False,\n",
        "    combos=False,\n",
        "    timeperiod=[20, 40, 60]\n",
        ")\n",
        "eval_is_above(\n",
        "    want_to_evaluate=ema_ind_on_rsi,\n",
        "    indicator_data=rsi_ind,\n",
        "    plot_results=True,\n",
        ")"
      ]
    }
  ],
  "metadata": {
    "kernelspec": {
      "display_name": "qfFree",
      "language": "python",
      "name": "python3"
    },
    "language_info": {
      "codemirror_mode": {
        "name": "ipython",
        "version": 3
      },
      "file_extension": ".py",
      "mimetype": "text/x-python",
      "name": "python",
      "nbconvert_exporter": "python",
      "pygments_lexer": "ipython3",
      "version": "3.10.10"
    },
    "orig_nbformat": 4
  },
  "nbformat": 4,
  "nbformat_minor": 2
}
