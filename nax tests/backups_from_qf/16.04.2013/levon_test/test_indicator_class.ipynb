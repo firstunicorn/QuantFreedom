{
 "cells": [
  {
   "cell_type": "code",
   "execution_count": 3,
   "outputs": [
    {
     "ename": "ModuleNotFoundError",
     "evalue": "No module named 'quantfreedom'",
     "output_type": "error",
     "traceback": [
      "\u001B[1;31m---------------------------------------------------------------------------\u001B[0m",
      "\u001B[1;31mModuleNotFoundError\u001B[0m                       Traceback (most recent call last)",
      "Cell \u001B[1;32mIn[3], line 1\u001B[0m\n\u001B[1;32m----> 1\u001B[0m \u001B[38;5;28;01mimport\u001B[39;00m \u001B[38;5;21;01mquantfreedom\u001B[39;00m \u001B[38;5;28;01mas\u001B[39;00m \u001B[38;5;21;01mqf\u001B[39;00m\n\u001B[0;32m      3\u001B[0m price_data \u001B[38;5;241m=\u001B[39m qf\u001B[38;5;241m.\u001B[39mgenerate_candles(\n\u001B[0;32m      4\u001B[0m     number_of_candles\u001B[38;5;241m=\u001B[39m\u001B[38;5;241m200\u001B[39m,\n\u001B[0;32m      5\u001B[0m     plot_candles\u001B[38;5;241m=\u001B[39m\u001B[38;5;28;01mFalse\u001B[39;00m,\n\u001B[0;32m      6\u001B[0m     seed\u001B[38;5;241m=\u001B[39m\u001B[38;5;28;01mNone\u001B[39;00m,\n\u001B[0;32m      7\u001B[0m )\n\u001B[0;32m      8\u001B[0m rsi_data \u001B[38;5;241m=\u001B[39m qf\u001B[38;5;241m.\u001B[39mfrom_talib(\n\u001B[0;32m      9\u001B[0m     func_name\u001B[38;5;241m=\u001B[39m\u001B[38;5;124m\"\u001B[39m\u001B[38;5;124mrsi\u001B[39m\u001B[38;5;124m\"\u001B[39m,\n\u001B[0;32m     10\u001B[0m     price_data\u001B[38;5;241m=\u001B[39mprice_data,\n\u001B[1;32m   (...)\u001B[0m\n\u001B[0;32m     13\u001B[0m     \u001B[38;5;66;03m# price=\"low\",\u001B[39;00m\n\u001B[0;32m     14\u001B[0m )\n",
      "\u001B[1;31mModuleNotFoundError\u001B[0m: No module named 'quantfreedom'"
     ]
    }
   ],
   "source": [
    "import quantfreedom as qf\n",
    "\n",
    "price_data = qf.generate_candles(\n",
    "    number_of_candles=200,\n",
    "    plot_candles=False,\n",
    "    seed=None,\n",
    ")\n",
    "rsi_data = qf.from_talib(\n",
    "    func_name=\"rsi\",\n",
    "    price_data=price_data,\n",
    "    timeperiod=20,\n",
    "    plot_results=False,\n",
    "    # price=\"low\",\n",
    ")"
   ],
   "metadata": {
    "collapsed": false
   }
  },
  {
   "cell_type": "code",
   "execution_count": null,
   "outputs": [],
   "source": [],
   "metadata": {
    "collapsed": false
   }
  }
 ],
 "metadata": {
  "kernelspec": {
   "display_name": "Python 3",
   "language": "python",
   "name": "python3"
  },
  "language_info": {
   "codemirror_mode": {
    "name": "ipython",
    "version": 2
   },
   "file_extension": ".py",
   "mimetype": "text/x-python",
   "name": "python",
   "nbconvert_exporter": "python",
   "pygments_lexer": "ipython2",
   "version": "2.7.6"
  }
 },
 "nbformat": 4,
 "nbformat_minor": 0
}
