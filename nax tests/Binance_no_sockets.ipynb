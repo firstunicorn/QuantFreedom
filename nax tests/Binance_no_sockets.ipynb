{
  "cells": [
    {
      "cell_type": "code",
      "execution_count": 51,
      "metadata": {
        "colab": {
          "base_uri": "https://localhost:8080/"
        },
        "id": "xPcfyvkxp6vc",
        "outputId": "72799a1f-f25b-4a3f-f62d-92de44bd0a60"
      },
      "outputs": [],
      "source": [
        "# Tutorial: https://youtu.be/rc_Y6rdBqXM\n",
        "###!pip install binance\n",
        "#!pip install python-binance\n",
        "#!pip install python-decouple"
      ]
    },
    {
      "cell_type": "code",
      "execution_count": 52,
      "metadata": {
        "id": "bRTvBB9RuLcZ"
      },
      "outputs": [
        {
          "ename": "ReadTimeout",
          "evalue": "HTTPSConnectionPool(host='testnet.binance.vision', port=443): Read timed out. (read timeout=10)",
          "output_type": "error",
          "traceback": [
            "\u001b[1;31m---------------------------------------------------------------------------\u001b[0m",
            "\u001b[1;31mTimeoutError\u001b[0m                              Traceback (most recent call last)",
            "File \u001b[1;32mc:\\coding\\qfFree\\lib\\site-packages\\urllib3\\connectionpool.py:449\u001b[0m, in \u001b[0;36mHTTPConnectionPool._make_request\u001b[1;34m(self, conn, method, url, timeout, chunked, **httplib_request_kw)\u001b[0m\n\u001b[0;32m    445\u001b[0m         \u001b[39mexcept\u001b[39;00m \u001b[39mBaseException\u001b[39;00m \u001b[39mas\u001b[39;00m e:\n\u001b[0;32m    446\u001b[0m             \u001b[39m# Remove the TypeError from the exception chain in\u001b[39;00m\n\u001b[0;32m    447\u001b[0m             \u001b[39m# Python 3 (including for exceptions like SystemExit).\u001b[39;00m\n\u001b[0;32m    448\u001b[0m             \u001b[39m# Otherwise it looks like a bug in the code.\u001b[39;00m\n\u001b[1;32m--> 449\u001b[0m             six\u001b[39m.\u001b[39;49mraise_from(e, \u001b[39mNone\u001b[39;49;00m)\n\u001b[0;32m    450\u001b[0m \u001b[39mexcept\u001b[39;00m (SocketTimeout, BaseSSLError, SocketError) \u001b[39mas\u001b[39;00m e:\n",
            "File \u001b[1;32m<string>:3\u001b[0m, in \u001b[0;36mraise_from\u001b[1;34m(value, from_value)\u001b[0m\n",
            "File \u001b[1;32mc:\\coding\\qfFree\\lib\\site-packages\\urllib3\\connectionpool.py:444\u001b[0m, in \u001b[0;36mHTTPConnectionPool._make_request\u001b[1;34m(self, conn, method, url, timeout, chunked, **httplib_request_kw)\u001b[0m\n\u001b[0;32m    443\u001b[0m \u001b[39mtry\u001b[39;00m:\n\u001b[1;32m--> 444\u001b[0m     httplib_response \u001b[39m=\u001b[39m conn\u001b[39m.\u001b[39;49mgetresponse()\n\u001b[0;32m    445\u001b[0m \u001b[39mexcept\u001b[39;00m \u001b[39mBaseException\u001b[39;00m \u001b[39mas\u001b[39;00m e:\n\u001b[0;32m    446\u001b[0m     \u001b[39m# Remove the TypeError from the exception chain in\u001b[39;00m\n\u001b[0;32m    447\u001b[0m     \u001b[39m# Python 3 (including for exceptions like SystemExit).\u001b[39;00m\n\u001b[0;32m    448\u001b[0m     \u001b[39m# Otherwise it looks like a bug in the code.\u001b[39;00m\n",
            "File \u001b[1;32mc:\\Users\\New User\\AppData\\Local\\Programs\\Python\\Python310\\lib\\http\\client.py:1374\u001b[0m, in \u001b[0;36mHTTPConnection.getresponse\u001b[1;34m(self)\u001b[0m\n\u001b[0;32m   1373\u001b[0m \u001b[39mtry\u001b[39;00m:\n\u001b[1;32m-> 1374\u001b[0m     response\u001b[39m.\u001b[39;49mbegin()\n\u001b[0;32m   1375\u001b[0m \u001b[39mexcept\u001b[39;00m \u001b[39mConnectionError\u001b[39;00m:\n",
            "File \u001b[1;32mc:\\Users\\New User\\AppData\\Local\\Programs\\Python\\Python310\\lib\\http\\client.py:318\u001b[0m, in \u001b[0;36mHTTPResponse.begin\u001b[1;34m(self)\u001b[0m\n\u001b[0;32m    317\u001b[0m \u001b[39mwhile\u001b[39;00m \u001b[39mTrue\u001b[39;00m:\n\u001b[1;32m--> 318\u001b[0m     version, status, reason \u001b[39m=\u001b[39m \u001b[39mself\u001b[39;49m\u001b[39m.\u001b[39;49m_read_status()\n\u001b[0;32m    319\u001b[0m     \u001b[39mif\u001b[39;00m status \u001b[39m!=\u001b[39m CONTINUE:\n",
            "File \u001b[1;32mc:\\Users\\New User\\AppData\\Local\\Programs\\Python\\Python310\\lib\\http\\client.py:279\u001b[0m, in \u001b[0;36mHTTPResponse._read_status\u001b[1;34m(self)\u001b[0m\n\u001b[0;32m    278\u001b[0m \u001b[39mdef\u001b[39;00m \u001b[39m_read_status\u001b[39m(\u001b[39mself\u001b[39m):\n\u001b[1;32m--> 279\u001b[0m     line \u001b[39m=\u001b[39m \u001b[39mstr\u001b[39m(\u001b[39mself\u001b[39;49m\u001b[39m.\u001b[39;49mfp\u001b[39m.\u001b[39;49mreadline(_MAXLINE \u001b[39m+\u001b[39;49m \u001b[39m1\u001b[39;49m), \u001b[39m\"\u001b[39m\u001b[39miso-8859-1\u001b[39m\u001b[39m\"\u001b[39m)\n\u001b[0;32m    280\u001b[0m     \u001b[39mif\u001b[39;00m \u001b[39mlen\u001b[39m(line) \u001b[39m>\u001b[39m _MAXLINE:\n",
            "File \u001b[1;32mc:\\Users\\New User\\AppData\\Local\\Programs\\Python\\Python310\\lib\\socket.py:705\u001b[0m, in \u001b[0;36mSocketIO.readinto\u001b[1;34m(self, b)\u001b[0m\n\u001b[0;32m    704\u001b[0m \u001b[39mtry\u001b[39;00m:\n\u001b[1;32m--> 705\u001b[0m     \u001b[39mreturn\u001b[39;00m \u001b[39mself\u001b[39;49m\u001b[39m.\u001b[39;49m_sock\u001b[39m.\u001b[39;49mrecv_into(b)\n\u001b[0;32m    706\u001b[0m \u001b[39mexcept\u001b[39;00m timeout:\n",
            "File \u001b[1;32mc:\\Users\\New User\\AppData\\Local\\Programs\\Python\\Python310\\lib\\ssl.py:1274\u001b[0m, in \u001b[0;36mSSLSocket.recv_into\u001b[1;34m(self, buffer, nbytes, flags)\u001b[0m\n\u001b[0;32m   1271\u001b[0m         \u001b[39mraise\u001b[39;00m \u001b[39mValueError\u001b[39;00m(\n\u001b[0;32m   1272\u001b[0m           \u001b[39m\"\u001b[39m\u001b[39mnon-zero flags not allowed in calls to recv_into() on \u001b[39m\u001b[39m%s\u001b[39;00m\u001b[39m\"\u001b[39m \u001b[39m%\u001b[39m\n\u001b[0;32m   1273\u001b[0m           \u001b[39mself\u001b[39m\u001b[39m.\u001b[39m\u001b[39m__class__\u001b[39m)\n\u001b[1;32m-> 1274\u001b[0m     \u001b[39mreturn\u001b[39;00m \u001b[39mself\u001b[39;49m\u001b[39m.\u001b[39;49mread(nbytes, buffer)\n\u001b[0;32m   1275\u001b[0m \u001b[39melse\u001b[39;00m:\n",
            "File \u001b[1;32mc:\\Users\\New User\\AppData\\Local\\Programs\\Python\\Python310\\lib\\ssl.py:1130\u001b[0m, in \u001b[0;36mSSLSocket.read\u001b[1;34m(self, len, buffer)\u001b[0m\n\u001b[0;32m   1129\u001b[0m \u001b[39mif\u001b[39;00m buffer \u001b[39mis\u001b[39;00m \u001b[39mnot\u001b[39;00m \u001b[39mNone\u001b[39;00m:\n\u001b[1;32m-> 1130\u001b[0m     \u001b[39mreturn\u001b[39;00m \u001b[39mself\u001b[39;49m\u001b[39m.\u001b[39;49m_sslobj\u001b[39m.\u001b[39;49mread(\u001b[39mlen\u001b[39;49m, buffer)\n\u001b[0;32m   1131\u001b[0m \u001b[39melse\u001b[39;00m:\n",
            "\u001b[1;31mTimeoutError\u001b[0m: The read operation timed out",
            "\nDuring handling of the above exception, another exception occurred:\n",
            "\u001b[1;31mReadTimeoutError\u001b[0m                          Traceback (most recent call last)",
            "File \u001b[1;32mc:\\coding\\qfFree\\lib\\site-packages\\requests\\adapters.py:489\u001b[0m, in \u001b[0;36mHTTPAdapter.send\u001b[1;34m(self, request, stream, timeout, verify, cert, proxies)\u001b[0m\n\u001b[0;32m    488\u001b[0m \u001b[39mif\u001b[39;00m \u001b[39mnot\u001b[39;00m chunked:\n\u001b[1;32m--> 489\u001b[0m     resp \u001b[39m=\u001b[39m conn\u001b[39m.\u001b[39;49murlopen(\n\u001b[0;32m    490\u001b[0m         method\u001b[39m=\u001b[39;49mrequest\u001b[39m.\u001b[39;49mmethod,\n\u001b[0;32m    491\u001b[0m         url\u001b[39m=\u001b[39;49murl,\n\u001b[0;32m    492\u001b[0m         body\u001b[39m=\u001b[39;49mrequest\u001b[39m.\u001b[39;49mbody,\n\u001b[0;32m    493\u001b[0m         headers\u001b[39m=\u001b[39;49mrequest\u001b[39m.\u001b[39;49mheaders,\n\u001b[0;32m    494\u001b[0m         redirect\u001b[39m=\u001b[39;49m\u001b[39mFalse\u001b[39;49;00m,\n\u001b[0;32m    495\u001b[0m         assert_same_host\u001b[39m=\u001b[39;49m\u001b[39mFalse\u001b[39;49;00m,\n\u001b[0;32m    496\u001b[0m         preload_content\u001b[39m=\u001b[39;49m\u001b[39mFalse\u001b[39;49;00m,\n\u001b[0;32m    497\u001b[0m         decode_content\u001b[39m=\u001b[39;49m\u001b[39mFalse\u001b[39;49;00m,\n\u001b[0;32m    498\u001b[0m         retries\u001b[39m=\u001b[39;49m\u001b[39mself\u001b[39;49m\u001b[39m.\u001b[39;49mmax_retries,\n\u001b[0;32m    499\u001b[0m         timeout\u001b[39m=\u001b[39;49mtimeout,\n\u001b[0;32m    500\u001b[0m     )\n\u001b[0;32m    502\u001b[0m \u001b[39m# Send the request.\u001b[39;00m\n\u001b[0;32m    503\u001b[0m \u001b[39melse\u001b[39;00m:\n",
            "File \u001b[1;32mc:\\coding\\qfFree\\lib\\site-packages\\urllib3\\connectionpool.py:787\u001b[0m, in \u001b[0;36mHTTPConnectionPool.urlopen\u001b[1;34m(self, method, url, body, headers, retries, redirect, assert_same_host, timeout, pool_timeout, release_conn, chunked, body_pos, **response_kw)\u001b[0m\n\u001b[0;32m    785\u001b[0m     e \u001b[39m=\u001b[39m ProtocolError(\u001b[39m\"\u001b[39m\u001b[39mConnection aborted.\u001b[39m\u001b[39m\"\u001b[39m, e)\n\u001b[1;32m--> 787\u001b[0m retries \u001b[39m=\u001b[39m retries\u001b[39m.\u001b[39;49mincrement(\n\u001b[0;32m    788\u001b[0m     method, url, error\u001b[39m=\u001b[39;49me, _pool\u001b[39m=\u001b[39;49m\u001b[39mself\u001b[39;49m, _stacktrace\u001b[39m=\u001b[39;49msys\u001b[39m.\u001b[39;49mexc_info()[\u001b[39m2\u001b[39;49m]\n\u001b[0;32m    789\u001b[0m )\n\u001b[0;32m    790\u001b[0m retries\u001b[39m.\u001b[39msleep()\n",
            "File \u001b[1;32mc:\\coding\\qfFree\\lib\\site-packages\\urllib3\\util\\retry.py:550\u001b[0m, in \u001b[0;36mRetry.increment\u001b[1;34m(self, method, url, response, error, _pool, _stacktrace)\u001b[0m\n\u001b[0;32m    549\u001b[0m \u001b[39mif\u001b[39;00m read \u001b[39mis\u001b[39;00m \u001b[39mFalse\u001b[39;00m \u001b[39mor\u001b[39;00m \u001b[39mnot\u001b[39;00m \u001b[39mself\u001b[39m\u001b[39m.\u001b[39m_is_method_retryable(method):\n\u001b[1;32m--> 550\u001b[0m     \u001b[39mraise\u001b[39;00m six\u001b[39m.\u001b[39;49mreraise(\u001b[39mtype\u001b[39;49m(error), error, _stacktrace)\n\u001b[0;32m    551\u001b[0m \u001b[39melif\u001b[39;00m read \u001b[39mis\u001b[39;00m \u001b[39mnot\u001b[39;00m \u001b[39mNone\u001b[39;00m:\n",
            "File \u001b[1;32mc:\\coding\\qfFree\\lib\\site-packages\\urllib3\\packages\\six.py:770\u001b[0m, in \u001b[0;36mreraise\u001b[1;34m(tp, value, tb)\u001b[0m\n\u001b[0;32m    769\u001b[0m         \u001b[39mraise\u001b[39;00m value\u001b[39m.\u001b[39mwith_traceback(tb)\n\u001b[1;32m--> 770\u001b[0m     \u001b[39mraise\u001b[39;00m value\n\u001b[0;32m    771\u001b[0m \u001b[39mfinally\u001b[39;00m:\n",
            "File \u001b[1;32mc:\\coding\\qfFree\\lib\\site-packages\\urllib3\\connectionpool.py:703\u001b[0m, in \u001b[0;36mHTTPConnectionPool.urlopen\u001b[1;34m(self, method, url, body, headers, retries, redirect, assert_same_host, timeout, pool_timeout, release_conn, chunked, body_pos, **response_kw)\u001b[0m\n\u001b[0;32m    702\u001b[0m \u001b[39m# Make the request on the httplib connection object.\u001b[39;00m\n\u001b[1;32m--> 703\u001b[0m httplib_response \u001b[39m=\u001b[39m \u001b[39mself\u001b[39;49m\u001b[39m.\u001b[39;49m_make_request(\n\u001b[0;32m    704\u001b[0m     conn,\n\u001b[0;32m    705\u001b[0m     method,\n\u001b[0;32m    706\u001b[0m     url,\n\u001b[0;32m    707\u001b[0m     timeout\u001b[39m=\u001b[39;49mtimeout_obj,\n\u001b[0;32m    708\u001b[0m     body\u001b[39m=\u001b[39;49mbody,\n\u001b[0;32m    709\u001b[0m     headers\u001b[39m=\u001b[39;49mheaders,\n\u001b[0;32m    710\u001b[0m     chunked\u001b[39m=\u001b[39;49mchunked,\n\u001b[0;32m    711\u001b[0m )\n\u001b[0;32m    713\u001b[0m \u001b[39m# If we're going to release the connection in ``finally:``, then\u001b[39;00m\n\u001b[0;32m    714\u001b[0m \u001b[39m# the response doesn't need to know about the connection. Otherwise\u001b[39;00m\n\u001b[0;32m    715\u001b[0m \u001b[39m# it will also try to release it and we'll have a double-release\u001b[39;00m\n\u001b[0;32m    716\u001b[0m \u001b[39m# mess.\u001b[39;00m\n",
            "File \u001b[1;32mc:\\coding\\qfFree\\lib\\site-packages\\urllib3\\connectionpool.py:451\u001b[0m, in \u001b[0;36mHTTPConnectionPool._make_request\u001b[1;34m(self, conn, method, url, timeout, chunked, **httplib_request_kw)\u001b[0m\n\u001b[0;32m    450\u001b[0m \u001b[39mexcept\u001b[39;00m (SocketTimeout, BaseSSLError, SocketError) \u001b[39mas\u001b[39;00m e:\n\u001b[1;32m--> 451\u001b[0m     \u001b[39mself\u001b[39;49m\u001b[39m.\u001b[39;49m_raise_timeout(err\u001b[39m=\u001b[39;49me, url\u001b[39m=\u001b[39;49murl, timeout_value\u001b[39m=\u001b[39;49mread_timeout)\n\u001b[0;32m    452\u001b[0m     \u001b[39mraise\u001b[39;00m\n",
            "File \u001b[1;32mc:\\coding\\qfFree\\lib\\site-packages\\urllib3\\connectionpool.py:340\u001b[0m, in \u001b[0;36mHTTPConnectionPool._raise_timeout\u001b[1;34m(self, err, url, timeout_value)\u001b[0m\n\u001b[0;32m    339\u001b[0m \u001b[39mif\u001b[39;00m \u001b[39misinstance\u001b[39m(err, SocketTimeout):\n\u001b[1;32m--> 340\u001b[0m     \u001b[39mraise\u001b[39;00m ReadTimeoutError(\n\u001b[0;32m    341\u001b[0m         \u001b[39mself\u001b[39m, url, \u001b[39m\"\u001b[39m\u001b[39mRead timed out. (read timeout=\u001b[39m\u001b[39m%s\u001b[39;00m\u001b[39m)\u001b[39m\u001b[39m\"\u001b[39m \u001b[39m%\u001b[39m timeout_value\n\u001b[0;32m    342\u001b[0m     )\n\u001b[0;32m    344\u001b[0m \u001b[39m# See the above comment about EAGAIN in Python 3. In Python 2 we have\u001b[39;00m\n\u001b[0;32m    345\u001b[0m \u001b[39m# to specifically catch it and throw the timeout error\u001b[39;00m\n",
            "\u001b[1;31mReadTimeoutError\u001b[0m: HTTPSConnectionPool(host='testnet.binance.vision', port=443): Read timed out. (read timeout=10)",
            "\nDuring handling of the above exception, another exception occurred:\n",
            "\u001b[1;31mReadTimeout\u001b[0m                               Traceback (most recent call last)",
            "Cell \u001b[1;32mIn[52], line 22\u001b[0m\n\u001b[0;32m     20\u001b[0m api_key \u001b[39m=\u001b[39m keystestnet\u001b[39m.\u001b[39mapi_key\n\u001b[0;32m     21\u001b[0m api_secret \u001b[39m=\u001b[39m keystestnet\u001b[39m.\u001b[39mapi_secret\n\u001b[1;32m---> 22\u001b[0m client \u001b[39m=\u001b[39m Client(api_key, api_secret, testnet\u001b[39m=\u001b[39;49m\u001b[39mTrue\u001b[39;49;00m)\n\u001b[0;32m     23\u001b[0m client\u001b[39m.\u001b[39mAPI_URL \u001b[39m=\u001b[39m \u001b[39m'\u001b[39m\u001b[39mhttps://testnet.binance.vision/api\u001b[39m\u001b[39m'\u001b[39m\n\u001b[0;32m     25\u001b[0m \u001b[39m# Settings:\u001b[39;00m\n",
            "File \u001b[1;32mc:\\coding\\qfFree\\lib\\site-packages\\binance\\client.py:343\u001b[0m, in \u001b[0;36mClient.__init__\u001b[1;34m(self, api_key, api_secret, requests_params, tld, base_endpoint, testnet, private_key, private_key_pass)\u001b[0m\n\u001b[0;32m    340\u001b[0m \u001b[39msuper\u001b[39m()\u001b[39m.\u001b[39m\u001b[39m__init__\u001b[39m(api_key, api_secret, requests_params, tld, base_endpoint, testnet, private_key, private_key_pass)\n\u001b[0;32m    342\u001b[0m \u001b[39m# init DNS and SSL cert\u001b[39;00m\n\u001b[1;32m--> 343\u001b[0m \u001b[39mself\u001b[39;49m\u001b[39m.\u001b[39;49mping()\n",
            "File \u001b[1;32mc:\\coding\\qfFree\\lib\\site-packages\\binance\\client.py:569\u001b[0m, in \u001b[0;36mClient.ping\u001b[1;34m(self)\u001b[0m\n\u001b[0;32m    555\u001b[0m \u001b[39mdef\u001b[39;00m \u001b[39mping\u001b[39m(\u001b[39mself\u001b[39m) \u001b[39m-\u001b[39m\u001b[39m>\u001b[39m Dict:\n\u001b[0;32m    556\u001b[0m \u001b[39m    \u001b[39m\u001b[39m\"\"\"Test connectivity to the Rest API.\u001b[39;00m\n\u001b[0;32m    557\u001b[0m \n\u001b[0;32m    558\u001b[0m \u001b[39m    https://binance-docs.github.io/apidocs/spot/en/#test-connectivity\u001b[39;00m\n\u001b[1;32m   (...)\u001b[0m\n\u001b[0;32m    567\u001b[0m \n\u001b[0;32m    568\u001b[0m \u001b[39m    \"\"\"\u001b[39;00m\n\u001b[1;32m--> 569\u001b[0m     \u001b[39mreturn\u001b[39;00m \u001b[39mself\u001b[39;49m\u001b[39m.\u001b[39;49m_get(\u001b[39m'\u001b[39;49m\u001b[39mping\u001b[39;49m\u001b[39m'\u001b[39;49m, version\u001b[39m=\u001b[39;49m\u001b[39mself\u001b[39;49m\u001b[39m.\u001b[39;49mPRIVATE_API_VERSION)\n",
            "File \u001b[1;32mc:\\coding\\qfFree\\lib\\site-packages\\binance\\client.py:414\u001b[0m, in \u001b[0;36mClient._get\u001b[1;34m(self, path, signed, version, **kwargs)\u001b[0m\n\u001b[0;32m    413\u001b[0m \u001b[39mdef\u001b[39;00m \u001b[39m_get\u001b[39m(\u001b[39mself\u001b[39m, path, signed\u001b[39m=\u001b[39m\u001b[39mFalse\u001b[39;00m, version\u001b[39m=\u001b[39mBaseClient\u001b[39m.\u001b[39mPUBLIC_API_VERSION, \u001b[39m*\u001b[39m\u001b[39m*\u001b[39mkwargs):\n\u001b[1;32m--> 414\u001b[0m     \u001b[39mreturn\u001b[39;00m \u001b[39mself\u001b[39m\u001b[39m.\u001b[39m_request_api(\u001b[39m'\u001b[39m\u001b[39mget\u001b[39m\u001b[39m'\u001b[39m, path, signed, version, \u001b[39m*\u001b[39m\u001b[39m*\u001b[39mkwargs)\n",
            "File \u001b[1;32mc:\\coding\\qfFree\\lib\\site-packages\\binance\\client.py:377\u001b[0m, in \u001b[0;36mClient._request_api\u001b[1;34m(self, method, path, signed, version, **kwargs)\u001b[0m\n\u001b[0;32m    373\u001b[0m \u001b[39mdef\u001b[39;00m \u001b[39m_request_api\u001b[39m(\n\u001b[0;32m    374\u001b[0m     \u001b[39mself\u001b[39m, method, path: \u001b[39mstr\u001b[39m, signed: \u001b[39mbool\u001b[39m \u001b[39m=\u001b[39m \u001b[39mFalse\u001b[39;00m, version\u001b[39m=\u001b[39mBaseClient\u001b[39m.\u001b[39mPUBLIC_API_VERSION, \u001b[39m*\u001b[39m\u001b[39m*\u001b[39mkwargs\n\u001b[0;32m    375\u001b[0m ):\n\u001b[0;32m    376\u001b[0m     uri \u001b[39m=\u001b[39m \u001b[39mself\u001b[39m\u001b[39m.\u001b[39m_create_api_uri(path, signed, version)\n\u001b[1;32m--> 377\u001b[0m     \u001b[39mreturn\u001b[39;00m \u001b[39mself\u001b[39m\u001b[39m.\u001b[39m_request(method, uri, signed, \u001b[39m*\u001b[39m\u001b[39m*\u001b[39mkwargs)\n",
            "File \u001b[1;32mc:\\coding\\qfFree\\lib\\site-packages\\binance\\client.py:357\u001b[0m, in \u001b[0;36mClient._request\u001b[1;34m(self, method, uri, signed, force_params, **kwargs)\u001b[0m\n\u001b[0;32m    353\u001b[0m \u001b[39mdef\u001b[39;00m \u001b[39m_request\u001b[39m(\u001b[39mself\u001b[39m, method, uri: \u001b[39mstr\u001b[39m, signed: \u001b[39mbool\u001b[39m, force_params: \u001b[39mbool\u001b[39m \u001b[39m=\u001b[39m \u001b[39mFalse\u001b[39;00m, \u001b[39m*\u001b[39m\u001b[39m*\u001b[39mkwargs):\n\u001b[0;32m    355\u001b[0m     kwargs \u001b[39m=\u001b[39m \u001b[39mself\u001b[39m\u001b[39m.\u001b[39m_get_request_kwargs(method, signed, force_params, \u001b[39m*\u001b[39m\u001b[39m*\u001b[39mkwargs)\n\u001b[1;32m--> 357\u001b[0m     \u001b[39mself\u001b[39m\u001b[39m.\u001b[39mresponse \u001b[39m=\u001b[39m \u001b[39mgetattr\u001b[39m(\u001b[39mself\u001b[39m\u001b[39m.\u001b[39msession, method)(uri, \u001b[39m*\u001b[39m\u001b[39m*\u001b[39mkwargs)\n\u001b[0;32m    358\u001b[0m     \u001b[39mreturn\u001b[39;00m \u001b[39mself\u001b[39m\u001b[39m.\u001b[39m_handle_response(\u001b[39mself\u001b[39m\u001b[39m.\u001b[39mresponse)\n",
            "File \u001b[1;32mc:\\coding\\qfFree\\lib\\site-packages\\requests\\sessions.py:600\u001b[0m, in \u001b[0;36mSession.get\u001b[1;34m(self, url, **kwargs)\u001b[0m\n\u001b[0;32m    592\u001b[0m \u001b[39m\u001b[39m\u001b[39mr\u001b[39m\u001b[39m\"\"\"Sends a GET request. Returns :class:`Response` object.\u001b[39;00m\n\u001b[0;32m    593\u001b[0m \n\u001b[0;32m    594\u001b[0m \u001b[39m:param url: URL for the new :class:`Request` object.\u001b[39;00m\n\u001b[0;32m    595\u001b[0m \u001b[39m:param \\*\\*kwargs: Optional arguments that ``request`` takes.\u001b[39;00m\n\u001b[0;32m    596\u001b[0m \u001b[39m:rtype: requests.Response\u001b[39;00m\n\u001b[0;32m    597\u001b[0m \u001b[39m\"\"\"\u001b[39;00m\n\u001b[0;32m    599\u001b[0m kwargs\u001b[39m.\u001b[39msetdefault(\u001b[39m\"\u001b[39m\u001b[39mallow_redirects\u001b[39m\u001b[39m\"\u001b[39m, \u001b[39mTrue\u001b[39;00m)\n\u001b[1;32m--> 600\u001b[0m \u001b[39mreturn\u001b[39;00m \u001b[39mself\u001b[39m\u001b[39m.\u001b[39mrequest(\u001b[39m\"\u001b[39m\u001b[39mGET\u001b[39m\u001b[39m\"\u001b[39m, url, \u001b[39m*\u001b[39m\u001b[39m*\u001b[39mkwargs)\n",
            "File \u001b[1;32mc:\\coding\\qfFree\\lib\\site-packages\\requests\\sessions.py:587\u001b[0m, in \u001b[0;36mSession.request\u001b[1;34m(self, method, url, params, data, headers, cookies, files, auth, timeout, allow_redirects, proxies, hooks, stream, verify, cert, json)\u001b[0m\n\u001b[0;32m    582\u001b[0m send_kwargs \u001b[39m=\u001b[39m {\n\u001b[0;32m    583\u001b[0m     \u001b[39m\"\u001b[39m\u001b[39mtimeout\u001b[39m\u001b[39m\"\u001b[39m: timeout,\n\u001b[0;32m    584\u001b[0m     \u001b[39m\"\u001b[39m\u001b[39mallow_redirects\u001b[39m\u001b[39m\"\u001b[39m: allow_redirects,\n\u001b[0;32m    585\u001b[0m }\n\u001b[0;32m    586\u001b[0m send_kwargs\u001b[39m.\u001b[39mupdate(settings)\n\u001b[1;32m--> 587\u001b[0m resp \u001b[39m=\u001b[39m \u001b[39mself\u001b[39m\u001b[39m.\u001b[39msend(prep, \u001b[39m*\u001b[39m\u001b[39m*\u001b[39msend_kwargs)\n\u001b[0;32m    589\u001b[0m \u001b[39mreturn\u001b[39;00m resp\n",
            "File \u001b[1;32mc:\\coding\\qfFree\\lib\\site-packages\\requests\\sessions.py:701\u001b[0m, in \u001b[0;36mSession.send\u001b[1;34m(self, request, **kwargs)\u001b[0m\n\u001b[0;32m    698\u001b[0m start \u001b[39m=\u001b[39m preferred_clock()\n\u001b[0;32m    700\u001b[0m \u001b[39m# Send the request\u001b[39;00m\n\u001b[1;32m--> 701\u001b[0m r \u001b[39m=\u001b[39m adapter\u001b[39m.\u001b[39msend(request, \u001b[39m*\u001b[39m\u001b[39m*\u001b[39mkwargs)\n\u001b[0;32m    703\u001b[0m \u001b[39m# Total elapsed time of the request (approximately)\u001b[39;00m\n\u001b[0;32m    704\u001b[0m elapsed \u001b[39m=\u001b[39m preferred_clock() \u001b[39m-\u001b[39m start\n",
            "File \u001b[1;32mc:\\coding\\qfFree\\lib\\site-packages\\requests\\adapters.py:578\u001b[0m, in \u001b[0;36mHTTPAdapter.send\u001b[1;34m(self, request, stream, timeout, verify, cert, proxies)\u001b[0m\n\u001b[0;32m    576\u001b[0m     \u001b[39mraise\u001b[39;00m SSLError(e, request\u001b[39m=\u001b[39mrequest)\n\u001b[0;32m    577\u001b[0m \u001b[39melif\u001b[39;00m \u001b[39misinstance\u001b[39m(e, ReadTimeoutError):\n\u001b[1;32m--> 578\u001b[0m     \u001b[39mraise\u001b[39;00m ReadTimeout(e, request\u001b[39m=\u001b[39mrequest)\n\u001b[0;32m    579\u001b[0m \u001b[39melif\u001b[39;00m \u001b[39misinstance\u001b[39m(e, _InvalidHeader):\n\u001b[0;32m    580\u001b[0m     \u001b[39mraise\u001b[39;00m InvalidHeader(e, request\u001b[39m=\u001b[39mrequest)\n",
            "\u001b[1;31mReadTimeout\u001b[0m: HTTPSConnectionPool(host='testnet.binance.vision', port=443): Read timed out. (read timeout=10)"
          ]
        }
      ],
      "source": [
        "# Binance, including sockets\n",
        "from binance import BinanceSocketManager\n",
        "from binance.client import Client\n",
        "from binance import Client#, ThreadedWebsocketManager, ThreadedDepthCacheManager\n",
        "import datetime as dt\n",
        "\n",
        "from secretttfolder import keystestnet\n",
        "\n",
        "# Standart libraries\n",
        "import pandas as pd\n",
        "import numpy as np\n",
        "\n",
        "import time\n",
        "\n",
        "from sqlalchemy import create_engine\n",
        "from sqlalchemy.orm import sessionmaker\n",
        "from sqlalchemy_utils import database_exists, create_database\n",
        "\n",
        "\n",
        "# API keys:\n",
        "api_key = keystestnet.api_key\n",
        "api_secret = keystestnet.api_secret\n",
        "client = Client(api_key, api_secret, testnet=True)\n",
        "client.API_URL = 'https://testnet.binance.vision/api'\n",
        "\n",
        "# Settings:\n",
        "symb = \"BTCUSDT\"\n",
        "interval = \"5MINUTE\""
      ]
    },
    {
      "cell_type": "code",
      "execution_count": null,
      "metadata": {
        "id": "okJnS1dRDIFK"
      },
      "outputs": [],
      "source": [
        "candles = client.get_klines(symbol=symb, interval=Client.KLINE_INTERVAL_5MINUTE)\n",
        "numpycandles = np.array(candles)\n",
        "\n",
        "# reshape date to pandas\n",
        "df = pd.DataFrame(numpycandles.reshape(-1, 12), dtype=float, columns=('Open Time','Open','High','Low','Close','Volume','Close time','Quote asset volume','Number of trades','Taker buy base asset volume','Taker buy quote asset volume','Ignore'))\n",
        "df['Open Time'] = pd.to_datetime(df['Open Time'], unit='ms')\n",
        "\n",
        "# convert_to_hdf5 = df.to_hdf('prices.h5', key='binance_prices', mode='a')\n",
        "\n",
        "close_prices = df['Close']\n"
      ]
    },
    {
      "cell_type": "code",
      "execution_count": null,
      "metadata": {
        "id": "tvQki7G7j9Kb"
      },
      "outputs": [],
      "source": [
        "# Define the RSI indicator\n",
        "def rsi(price, period=14):\n",
        "    delta = price.diff()\n",
        "    gain = delta.where(delta > 0, 0)\n",
        "    loss = -delta.where(delta < 0, 0)\n",
        "    avg_gain = gain.rolling(period).mean()\n",
        "    avg_loss = loss.rolling(period).mean()\n",
        "    rs = avg_gain / avg_loss\n",
        "    return 100 - (100 / (1 + rs))\n",
        "\n",
        "# Calculate the RSI indicator\n",
        "rsi_indicator = rsi(df['Close'])\n",
        "\n",
        "\n",
        "# Define Divergence \n",
        "def divergence(price_set, rsi_window=14, fast_ma = 1, slow_ma = 50):\n",
        "\n",
        "# Calculate the RSI indicator for using in calculation of divergence \n",
        "   rsi_indicator = rsi(price_set)\n",
        "\n",
        "# Calculate the Divergence indicator. \n",
        "   bullish_divergence = ((price_set.diff()<0) & (rsi_indicator.diff() > 0))\n",
        "   bearish_divergence = ((price_set.diff()<0) & (rsi_indicator.diff() < 0))\n",
        "\n",
        "   fast_ma_df = df[f'ma{fast_ma}'] = df['Close'].rolling(window=fast_ma).mean()\n",
        "   slow_ma_df = df[f'ma{slow_ma}'] = df['Close'].rolling(window=slow_ma).mean()\n",
        "   trend_up = fast_ma_df > slow_ma_df\n",
        "   trend_down = fast_ma_df < slow_ma_df\n",
        "   \n",
        "   # Combine all previous indicators into the one \n",
        "   # We need that if bullish_divergence (trend_up), True PLUS fast MA above slow MA, then set 1, everything else - 0. If bearish_divergence True, PLUS fast MA above slow MA (trend_down), then set -1\n",
        "   indicator = np.where( ( ( (bullish_divergence) == True)  & (trend_up == True) ), 1, 0)\n",
        "   indicator = np.where( ( ( (bearish_divergence) == True)  & (trend_down == True) ), -1, indicator)\n",
        "   \n",
        "   return indicator\n",
        "\n",
        "diver = divergence(close_prices, rsi_window=14, fast_ma = 1, slow_ma = 50)\n",
        "last_indicator_value = diver[-1]"
      ]
    },
    {
      "cell_type": "code",
      "execution_count": null,
      "metadata": {},
      "outputs": [
        {
          "data": {
            "text/plain": [
              "0"
            ]
          },
          "execution_count": 13,
          "metadata": {},
          "output_type": "execute_result"
        }
      ],
      "source": [
        "last_indicator_value"
      ]
    },
    {
      "cell_type": "code",
      "execution_count": null,
      "metadata": {},
      "outputs": [],
      "source": [
        "last_indicator_value = 1"
      ]
    },
    {
      "cell_type": "code",
      "execution_count": null,
      "metadata": {},
      "outputs": [
        {
          "data": {
            "text/plain": [
              "1"
            ]
          },
          "execution_count": 15,
          "metadata": {},
          "output_type": "execute_result"
        }
      ],
      "source": [
        "last_indicator_value"
      ]
    },
    {
      "cell_type": "code",
      "execution_count": null,
      "metadata": {
        "id": "W7LOTfcNyd-B"
      },
      "outputs": [
        {
          "name": "stdout",
          "output_type": "stream",
          "text": [
            "2023-04-27 00:09:35.424656\n",
            "{'symbol': 'BTCUSDT', 'orderId': 11439939, 'orderListId': -1, 'clientOrderId': 'OGmAhXBDpt56sW0i5RIG9T', 'transactTime': 1682543376264, 'price': '0.00000000', 'origQty': '0.00100000', 'executedQty': '0.00100000', 'cummulativeQuoteQty': '28.27804000', 'status': 'FILLED', 'timeInForce': 'GTC', 'type': 'MARKET', 'side': 'BUY', 'workingTime': 1682543376264, 'fills': [{'price': '28278.04000000', 'qty': '0.00100000', 'commission': '0.00000000', 'commissionAsset': 'BTC', 'tradeId': 3523714}], 'selfTradePreventionMode': 'NONE'}\n"
          ]
        }
      ],
      "source": [
        "def trade(ticker, lotsize, open_position = False):\n",
        "  bm = BinanceSocketManager(client)\n",
        "  trade_socket = bm.trade_socket(ticker)\n",
        "  print(dt.datetime.now())\n",
        "  if last_indicator_value > 0 and last_indicator_value != 0 and not open_position:\n",
        "    order = client.create_order(symbol=ticker,\n",
        "                                side='BUY',\n",
        "                                type='MARKET',\n",
        "                                quantity=lotsize)\n",
        "    print(order)\n",
        "    buyprice = float(order['fills'][0]['price'])\n",
        "    open_position = True\n",
        "    return\n",
        "  if open_position and last_indicator_value < 0 and last_indicator_value != 0:\n",
        "      order = client.create_order(symbol=ticker,\n",
        "                                side='SELL',\n",
        "                                type='MARKET',\n",
        "                                quantity=lotsize)\n",
        "      print(order)\n",
        "      return\n",
        "  time.sleep(1)  # sleep 1 seconds\n",
        "  \n",
        "trade('BTCUSDT', 0.001)"
      ]
    },
    {
      "cell_type": "code",
      "execution_count": null,
      "metadata": {},
      "outputs": [
        {
          "data": {
            "text/plain": [
              "{'makerCommission': 0,\n",
              " 'takerCommission': 0,\n",
              " 'buyerCommission': 0,\n",
              " 'sellerCommission': 0,\n",
              " 'commissionRates': {'maker': '0.00000000',\n",
              "  'taker': '0.00000000',\n",
              "  'buyer': '0.00000000',\n",
              "  'seller': '0.00000000'},\n",
              " 'canTrade': True,\n",
              " 'canWithdraw': False,\n",
              " 'canDeposit': False,\n",
              " 'brokered': False,\n",
              " 'requireSelfTradePrevention': False,\n",
              " 'updateTime': 1682543376264,\n",
              " 'accountType': 'SPOT',\n",
              " 'balances': [{'asset': 'BNB',\n",
              "   'free': '1000.00000000',\n",
              "   'locked': '0.00000000'},\n",
              "  {'asset': 'BTC', 'free': '1.00100000', 'locked': '0.00000000'},\n",
              "  {'asset': 'BUSD', 'free': '10000.00000000', 'locked': '0.00000000'},\n",
              "  {'asset': 'ETH', 'free': '100.00000000', 'locked': '0.00000000'},\n",
              "  {'asset': 'LTC', 'free': '500.00000000', 'locked': '0.00000000'},\n",
              "  {'asset': 'TRX', 'free': '500000.00000000', 'locked': '0.00000000'},\n",
              "  {'asset': 'USDT', 'free': '9971.71808000', 'locked': '0.00000000'},\n",
              "  {'asset': 'XRP', 'free': '50000.00000000', 'locked': '0.00000000'}],\n",
              " 'permissions': ['SPOT']}"
            ]
          },
          "execution_count": 20,
          "metadata": {},
          "output_type": "execute_result"
        }
      ],
      "source": [
        "info = client.get_account()\n",
        "info"
      ]
    },
    {
      "cell_type": "code",
      "execution_count": null,
      "metadata": {},
      "outputs": [
        {
          "name": "stdout",
          "output_type": "stream",
          "text": [
            "2023-04-27 00:09:37.160219\n"
          ]
        },
        {
          "ename": "BinanceAPIException",
          "evalue": "APIError(code=-1106): Parameter 'timeInForce' sent when not required.",
          "output_type": "error",
          "traceback": [
            "\u001b[1;31m---------------------------------------------------------------------------\u001b[0m",
            "\u001b[1;31mBinanceAPIException\u001b[0m                       Traceback (most recent call last)",
            "Cell \u001b[1;32mIn[18], line 25\u001b[0m\n\u001b[0;32m     22\u001b[0m       \u001b[39mreturn\u001b[39;00m\n\u001b[0;32m     23\u001b[0m   time\u001b[39m.\u001b[39msleep(\u001b[39m1\u001b[39m)  \u001b[39m# sleep 1 seconds\u001b[39;00m\n\u001b[1;32m---> 25\u001b[0m trade(\u001b[39m'\u001b[39;49m\u001b[39mBTCUSDT\u001b[39;49m\u001b[39m'\u001b[39;49m, \u001b[39m0.0001\u001b[39;49m)\n",
            "Cell \u001b[1;32mIn[18], line 6\u001b[0m, in \u001b[0;36mtrade\u001b[1;34m(ticker, lotsize, open_position)\u001b[0m\n\u001b[0;32m      4\u001b[0m \u001b[39mprint\u001b[39m(dt\u001b[39m.\u001b[39mdatetime\u001b[39m.\u001b[39mnow())\n\u001b[0;32m      5\u001b[0m \u001b[39mif\u001b[39;00m last_indicator_value \u001b[39m>\u001b[39m \u001b[39m0\u001b[39m \u001b[39mand\u001b[39;00m last_indicator_value \u001b[39m!=\u001b[39m \u001b[39m0\u001b[39m \u001b[39mand\u001b[39;00m \u001b[39mnot\u001b[39;00m open_position:\n\u001b[1;32m----> 6\u001b[0m   order \u001b[39m=\u001b[39m client\u001b[39m.\u001b[39;49mcreate_order(symbol\u001b[39m=\u001b[39;49mticker,\n\u001b[0;32m      7\u001b[0m                               side\u001b[39m=\u001b[39;49m\u001b[39m'\u001b[39;49m\u001b[39mBUY\u001b[39;49m\u001b[39m'\u001b[39;49m,\n\u001b[0;32m      8\u001b[0m                               \u001b[39mtype\u001b[39;49m\u001b[39m=\u001b[39;49m\u001b[39m'\u001b[39;49m\u001b[39mMARKET\u001b[39;49m\u001b[39m'\u001b[39;49m,\n\u001b[0;32m      9\u001b[0m                               quantity\u001b[39m=\u001b[39;49mlotsize,\n\u001b[0;32m     10\u001b[0m                               timeInForce\u001b[39m=\u001b[39;49m\u001b[39m'\u001b[39;49m\u001b[39mGTC\u001b[39;49m\u001b[39m'\u001b[39;49m)\n\u001b[0;32m     11\u001b[0m   \u001b[39mprint\u001b[39m(order)\n\u001b[0;32m     12\u001b[0m   buyprice \u001b[39m=\u001b[39m \u001b[39mfloat\u001b[39m(order[\u001b[39m'\u001b[39m\u001b[39mfills\u001b[39m\u001b[39m'\u001b[39m][\u001b[39m0\u001b[39m][\u001b[39m'\u001b[39m\u001b[39mprice\u001b[39m\u001b[39m'\u001b[39m])\n",
            "File \u001b[1;32mc:\\coding\\qfFree\\lib\\site-packages\\binance\\client.py:1447\u001b[0m, in \u001b[0;36mClient.create_order\u001b[1;34m(self, **params)\u001b[0m\n\u001b[0;32m   1330\u001b[0m \u001b[39mdef\u001b[39;00m \u001b[39mcreate_order\u001b[39m(\u001b[39mself\u001b[39m, \u001b[39m*\u001b[39m\u001b[39m*\u001b[39mparams):\n\u001b[0;32m   1331\u001b[0m \u001b[39m    \u001b[39m\u001b[39m\"\"\"Send in a new order\u001b[39;00m\n\u001b[0;32m   1332\u001b[0m \n\u001b[0;32m   1333\u001b[0m \u001b[39m    Any order with an icebergQty MUST have timeInForce set to GTC.\u001b[39;00m\n\u001b[1;32m   (...)\u001b[0m\n\u001b[0;32m   1445\u001b[0m \n\u001b[0;32m   1446\u001b[0m \u001b[39m    \"\"\"\u001b[39;00m\n\u001b[1;32m-> 1447\u001b[0m     \u001b[39mreturn\u001b[39;00m \u001b[39mself\u001b[39;49m\u001b[39m.\u001b[39;49m_post(\u001b[39m'\u001b[39;49m\u001b[39morder\u001b[39;49m\u001b[39m'\u001b[39;49m, \u001b[39mTrue\u001b[39;49;00m, data\u001b[39m=\u001b[39;49mparams)\n",
            "File \u001b[1;32mc:\\coding\\qfFree\\lib\\site-packages\\binance\\client.py:417\u001b[0m, in \u001b[0;36mClient._post\u001b[1;34m(self, path, signed, version, **kwargs)\u001b[0m\n\u001b[0;32m    416\u001b[0m \u001b[39mdef\u001b[39;00m \u001b[39m_post\u001b[39m(\u001b[39mself\u001b[39m, path, signed\u001b[39m=\u001b[39m\u001b[39mFalse\u001b[39;00m, version\u001b[39m=\u001b[39mBaseClient\u001b[39m.\u001b[39mPUBLIC_API_VERSION, \u001b[39m*\u001b[39m\u001b[39m*\u001b[39mkwargs) \u001b[39m-\u001b[39m\u001b[39m>\u001b[39m Dict:\n\u001b[1;32m--> 417\u001b[0m     \u001b[39mreturn\u001b[39;00m \u001b[39mself\u001b[39m\u001b[39m.\u001b[39m_request_api(\u001b[39m'\u001b[39m\u001b[39mpost\u001b[39m\u001b[39m'\u001b[39m, path, signed, version, \u001b[39m*\u001b[39m\u001b[39m*\u001b[39mkwargs)\n",
            "File \u001b[1;32mc:\\coding\\qfFree\\lib\\site-packages\\binance\\client.py:377\u001b[0m, in \u001b[0;36mClient._request_api\u001b[1;34m(self, method, path, signed, version, **kwargs)\u001b[0m\n\u001b[0;32m    373\u001b[0m \u001b[39mdef\u001b[39;00m \u001b[39m_request_api\u001b[39m(\n\u001b[0;32m    374\u001b[0m     \u001b[39mself\u001b[39m, method, path: \u001b[39mstr\u001b[39m, signed: \u001b[39mbool\u001b[39m \u001b[39m=\u001b[39m \u001b[39mFalse\u001b[39;00m, version\u001b[39m=\u001b[39mBaseClient\u001b[39m.\u001b[39mPUBLIC_API_VERSION, \u001b[39m*\u001b[39m\u001b[39m*\u001b[39mkwargs\n\u001b[0;32m    375\u001b[0m ):\n\u001b[0;32m    376\u001b[0m     uri \u001b[39m=\u001b[39m \u001b[39mself\u001b[39m\u001b[39m.\u001b[39m_create_api_uri(path, signed, version)\n\u001b[1;32m--> 377\u001b[0m     \u001b[39mreturn\u001b[39;00m \u001b[39mself\u001b[39m\u001b[39m.\u001b[39m_request(method, uri, signed, \u001b[39m*\u001b[39m\u001b[39m*\u001b[39mkwargs)\n",
            "File \u001b[1;32mc:\\coding\\qfFree\\lib\\site-packages\\binance\\client.py:358\u001b[0m, in \u001b[0;36mClient._request\u001b[1;34m(self, method, uri, signed, force_params, **kwargs)\u001b[0m\n\u001b[0;32m    355\u001b[0m kwargs \u001b[39m=\u001b[39m \u001b[39mself\u001b[39m\u001b[39m.\u001b[39m_get_request_kwargs(method, signed, force_params, \u001b[39m*\u001b[39m\u001b[39m*\u001b[39mkwargs)\n\u001b[0;32m    357\u001b[0m \u001b[39mself\u001b[39m\u001b[39m.\u001b[39mresponse \u001b[39m=\u001b[39m \u001b[39mgetattr\u001b[39m(\u001b[39mself\u001b[39m\u001b[39m.\u001b[39msession, method)(uri, \u001b[39m*\u001b[39m\u001b[39m*\u001b[39mkwargs)\n\u001b[1;32m--> 358\u001b[0m \u001b[39mreturn\u001b[39;00m \u001b[39mself\u001b[39;49m\u001b[39m.\u001b[39;49m_handle_response(\u001b[39mself\u001b[39;49m\u001b[39m.\u001b[39;49mresponse)\n",
            "File \u001b[1;32mc:\\coding\\qfFree\\lib\\site-packages\\binance\\client.py:367\u001b[0m, in \u001b[0;36mClient._handle_response\u001b[1;34m(response)\u001b[0m\n\u001b[0;32m    362\u001b[0m \u001b[39m\u001b[39m\u001b[39m\"\"\"Internal helper for handling API responses from the Binance server.\u001b[39;00m\n\u001b[0;32m    363\u001b[0m \u001b[39mRaises the appropriate exceptions when necessary; otherwise, returns the\u001b[39;00m\n\u001b[0;32m    364\u001b[0m \u001b[39mresponse.\u001b[39;00m\n\u001b[0;32m    365\u001b[0m \u001b[39m\"\"\"\u001b[39;00m\n\u001b[0;32m    366\u001b[0m \u001b[39mif\u001b[39;00m \u001b[39mnot\u001b[39;00m (\u001b[39m200\u001b[39m \u001b[39m<\u001b[39m\u001b[39m=\u001b[39m response\u001b[39m.\u001b[39mstatus_code \u001b[39m<\u001b[39m \u001b[39m300\u001b[39m):\n\u001b[1;32m--> 367\u001b[0m     \u001b[39mraise\u001b[39;00m BinanceAPIException(response, response\u001b[39m.\u001b[39mstatus_code, response\u001b[39m.\u001b[39mtext)\n\u001b[0;32m    368\u001b[0m \u001b[39mtry\u001b[39;00m:\n\u001b[0;32m    369\u001b[0m     \u001b[39mreturn\u001b[39;00m response\u001b[39m.\u001b[39mjson()\n",
            "\u001b[1;31mBinanceAPIException\u001b[0m: APIError(code=-1106): Parameter 'timeInForce' sent when not required."
          ]
        }
      ],
      "source": [
        "def trade(ticker, lotsize, open_position = False):\n",
        "  bm = BinanceSocketManager(client)\n",
        "  trade_socket = bm.trade_socket(ticker)\n",
        "  print(dt.datetime.now())\n",
        "  if last_indicator_value > 0 and last_indicator_value != 0 and not open_position:\n",
        "    order = client.create_order(symbol=ticker,\n",
        "                                side='BUY',\n",
        "                                type='MARKET',\n",
        "                                quantity=lotsize)\n",
        "    print(order)\n",
        "    buyprice = float(order['fills'][0]['price'])\n",
        "    open_position = True\n",
        "    return\n",
        "  if open_position and last_indicator_value < 0 and last_indicator_value != 0:\n",
        "      order = client.create_order(symbol=ticker,\n",
        "                                side='SELL',\n",
        "                                type='MARKET',\n",
        "                                quantity=lotsize)\n",
        "      print(order)\n",
        "      return\n",
        "  time.sleep(1)  # sleep 1 seconds\n",
        "  \n",
        "trade('BTCUSDT', 0.0001)"
      ]
    },
    {
      "cell_type": "code",
      "execution_count": null,
      "metadata": {
        "id": "Szo8k7_k1yKp"
      },
      "outputs": [],
      "source": [
        "\"\"\"1. Check balance\n",
        "2. Check if price of current candle is not differ by x% from price from other exchange\n",
        "3. Check if Ta-Lib indicator value not differ more than y% from another exchange\n",
        "4. Check open positions\n",
        "5. Check id position already open\n",
        "6. Open position characteristics: long/short, timeframe, symbol, indicators values. Are any other positions with same characteristics? If yes, than it's duplicate \n",
        "7. Before Closing: check position\n",
        "8. After closing: position closed? Ok, go check if we have opposite signal. We have opposite signal? Ok, go open opposite Trade Position\n",
        "9. Position open time\n",
        "10. How many bars passed\n",
        "11. Get order ID\n",
        "\"\"\""
      ]
    }
  ],
  "metadata": {
    "colab": {
      "provenance": []
    },
    "kernelspec": {
      "display_name": "Python 3",
      "name": "python3"
    },
    "language_info": {
      "codemirror_mode": {
        "name": "ipython",
        "version": 3
      },
      "file_extension": ".py",
      "mimetype": "text/x-python",
      "name": "python",
      "nbconvert_exporter": "python",
      "pygments_lexer": "ipython3",
      "version": "3.10.10"
    }
  },
  "nbformat": 4,
  "nbformat_minor": 0
}
